{
 "cells": [
  {
   "cell_type": "markdown",
   "metadata": {},
   "source": [
    "# Задание 1\n",
    "Напишите функцию date_range, которая возвращает список дней между датами start_date и end_date. Даты должны вводиться в формате YYYY-MM-DD."
   ]
  },
  {
   "cell_type": "code",
   "execution_count": 11,
   "metadata": {},
   "outputs": [
    {
     "data": {
      "text/plain": [
       "['29 Oct Tuesday',\n",
       " '30 Oct Wednesday',\n",
       " '31 Oct Thursday',\n",
       " '01 Nov Friday',\n",
       " '02 Nov Saturday',\n",
       " '03 Nov Sunday',\n",
       " '04 Nov Monday']"
      ]
     },
     "execution_count": 11,
     "metadata": {},
     "output_type": "execute_result"
    }
   ],
   "source": [
    "import re\n",
    "from datetime import datetime\n",
    "from datetime import timedelta\n",
    "\n",
    "def data_range(start_date, end_date):\n",
    "    check = '\\d{4}-\\d{2}-\\d{2}'\n",
    "    if not re.match(check, start_date) or not re.match(check, end_date): return 'Invalid date' #Зря что ли регулярки учил\n",
    "    \n",
    "    date_mask = '%Y-%m-%d'\n",
    "    start = datetime.strptime(start_date, date_mask)\n",
    "    end = datetime.strptime(end_date, date_mask)\n",
    "    \n",
    "    days = []\n",
    "    for i in range(1, abs(end-start).days):\n",
    "        next_day = start + timedelta(days=i)\n",
    "        days.append(next_day.strftime('%d %b %A'))\n",
    "    \n",
    "    return days\n",
    "\n",
    "data_range('2019-10-28','2019-11-05')"
   ]
  },
  {
   "cell_type": "markdown",
   "metadata": {},
   "source": [
    "# Задание 2\n",
    "Дополните функцию из первого задания проверкой на корректность дат. В случае неверного формата или если start_date > end_date должен возвращаться пустой список."
   ]
  },
  {
   "cell_type": "code",
   "execution_count": 15,
   "metadata": {},
   "outputs": [
    {
     "data": {
      "text/plain": [
       "[]"
      ]
     },
     "execution_count": 15,
     "metadata": {},
     "output_type": "execute_result"
    }
   ],
   "source": [
    "#хаха, только сейчас задание 2 прочел, ну ок чуть же не так я сделал\n",
    "\n",
    "def data_range(start_date, end_date):\n",
    "    check = '^\\d{4}-\\d{2}-\\d{2}$' #еще вспомнил можно защитить от ерунды типа 'ХАХА2019-10-05GOTU!'\n",
    "    if not re.match(check, start_date) or not re.match(check, end_date): return []\n",
    "    if start_date > end_date : return [] #ВОТ НОВАЯ СТРОЧКА\n",
    "    \n",
    "    date_mask = '%Y-%m-%d'\n",
    "    start = datetime.strptime(start_date, date_mask)\n",
    "    end = datetime.strptime(end_date, date_mask)\n",
    "    \n",
    "    days = []\n",
    "    for i in range(1, abs(end-start).days):\n",
    "        next_day = start + timedelta(days=i)\n",
    "        days.append(next_day.strftime('%d %b %A'))\n",
    "    \n",
    "    return days\n",
    "\n",
    "data_range('2019-10-28','2019-10-05')"
   ]
  },
  {
   "cell_type": "markdown",
   "metadata": {},
   "source": [
    "#  Задание 3\n",
    "Дан поток дат в формате YYYY-MM-DD, в которых встречаются некорректные значения:\n",
    "stream = [‘2018-04-02’, ‘2018-02-29’, ‘2018-19-02’]\n",
    "\n",
    "Напишите функцию, которая проверяет эти даты на корректность. Т. е. для каждой даты возвращает True (дата корректна) или False (некорректная дата)."
   ]
  },
  {
   "cell_type": "code",
   "execution_count": 24,
   "metadata": {},
   "outputs": [
    {
     "data": {
      "text/plain": [
       "{'2018-04-02': True,\n",
       " '2018-02-29': False,\n",
       " '2018-19-02': False,\n",
       " 'ХАХА2019-10-05GOTU!': False,\n",
       " '2018-19-32': False,\n",
       " '2018-02-19': True}"
      ]
     },
     "execution_count": 24,
     "metadata": {},
     "output_type": "execute_result"
    }
   ],
   "source": [
    "# не понял, а чем отличается от пред задания? типа проверить на существование?\n",
    "\n",
    "def check_dates(dates) :\n",
    "    result = {}\n",
    "    for date in dates:\n",
    "        if re.match('^\\d{4}-\\d{2}-\\d{2}$', date):\n",
    "            try :\n",
    "                datetime.strptime(date, '%Y-%m-%d')\n",
    "                result[date] = True #Привел решение в соответствие с требованиями result.append(f'{date} Date is valid')\n",
    "            except :\n",
    "                result[date] = False #result.append(f'{date} Date is invalid')\n",
    "        else :\n",
    "            result[date] = False #result.append(f'{date} Date is invalid')\n",
    "    \n",
    "    return result\n",
    "            \n",
    "dates = ['2018-04-02', '2018-02-29', '2018-19-02', 'ХАХА2019-10-05GOTU!', '2018-19-32', '2018-02-19']\n",
    "\n",
    "check_dates(dates) "
   ]
  },
  {
   "cell_type": "markdown",
   "metadata": {},
   "source": [
    "# Задание 4 (бонусное)\n",
    "Ваш коллега прислал код функции:\n",
    "\n",
    "DEFAULT_USER_COUNT = 3\n",
    "\n",
    "def delete_and_return_last_user(region, default_list=[‘A100’, ‘A101’, ‘A102’]):\n",
    "\"\"“\n",
    "Удаляет из списка default_list последнего пользователя\n",
    "и возвращает ID нового последнего пользователя.\n",
    "”\"\"\n",
    "element_to_delete = default_list[-1]\n",
    "default_list.remove(element_to_delete)\n",
    "\n",
    "return default_list[DEFAULT_USER_COUNT-2]\n",
    "При однократном вызове этой функции все работает корректно:\n",
    "delete_and_return_last_user(1)\n",
    "‘A101’\n",
    "\n",
    "Однако, при повторном вызове получается ошибка IndexError: list index out of range.\n",
    "\n",
    "Задание:\n",
    "\n",
    "Что значит ошибка list index out of range?\n",
    "Почему при первом запуске функция работает корректно, а при втором - нет?"
   ]
  },
  {
   "cell_type": "markdown",
   "metadata": {},
   "source": [
    "# Ответ\n",
    "* Ошибка \"list index out of range\" означает, что мы обращаемся к элементу массива, которого не существует\n",
    "* Зачем коллеги region = 1 непонятно, не используется в функции\n",
    "* Но на этом гениальность коллеги не заканчивается и в return он пытается получить последнего не через default_list[-1] (который он успешно использовал для удаления), а через вычитание константы из константы. На первом шаге он обращается к элементу [1] default_list, а на втором шаге этого элемента уже не существует.\n",
    "\n",
    "Кстати, удивлен, что в фукнции можно изменить значение по умолчанию и при след вызове будет использовано измененное значение"
   ]
  }
 ],
 "metadata": {
  "kernelspec": {
   "display_name": "Python 3",
   "language": "python",
   "name": "python3"
  },
  "language_info": {
   "codemirror_mode": {
    "name": "ipython",
    "version": 3
   },
   "file_extension": ".py",
   "mimetype": "text/x-python",
   "name": "python",
   "nbconvert_exporter": "python",
   "pygments_lexer": "ipython3",
   "version": "3.7.4"
  }
 },
 "nbformat": 4,
 "nbformat_minor": 2
}
