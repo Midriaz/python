{
 "cells": [
  {
   "cell_type": "markdown",
   "metadata": {},
   "source": [
    "## Задание 1"
   ]
  },
  {
   "cell_type": "code",
   "execution_count": 5,
   "metadata": {},
   "outputs": [
    {
     "name": "stdout",
     "output_type": "stream",
     "text": [
      "['visit1', ['Москва', 'Россия'], 'visit3', ['Владимир', 'Россия'], 'visit7', ['Тула', 'Россия'], 'visit8', ['Тула', 'Россия'], 'visit9', ['Курск', 'Россия'], 'visit10', ['Архангельск', 'Россия']]\n"
     ]
    }
   ],
   "source": [
    "geo_logs = [\n",
    "    ['visit1', ['Москва', 'Россия']],\n",
    "    ['visit2', ['Дели', 'Индия']],\n",
    "    ['visit3', ['Владимир', 'Россия']],\n",
    "    ['visit4', ['Лиссабон', 'Португалия']],\n",
    "    ['visit5', ['Париж', 'Франция']],\n",
    "    ['visit6', ['Лиссабон', 'Португалия']],\n",
    "    ['visit7', ['Тула', 'Россия']],\n",
    "    ['visit8', ['Тула', 'Россия']],\n",
    "    ['visit9', ['Курск', 'Россия']],\n",
    "    ['visit10', ['Архангельск', 'Россия']],\n",
    "]\n",
    "\n",
    "russia_logs = []\n",
    "\n",
    "for visit in geo_logs:\n",
    "    if visit[1][1] == 'Россия':\n",
    "        russia_logs += visit\n",
    "\n",
    "print(russia_logs)"
   ]
  },
  {
   "cell_type": "markdown",
   "metadata": {},
   "source": [
    "## Задание 2"
   ]
  },
  {
   "cell_type": "code",
   "execution_count": 17,
   "metadata": {},
   "outputs": [
    {
     "data": {
      "text/plain": [
       "[213, 15, 54, 119, 98, 35]"
      ]
     },
     "execution_count": 17,
     "metadata": {},
     "output_type": "execute_result"
    }
   ],
   "source": [
    "ids = [['user1', [213, 213, 213, 15, 213]], ['user2', [54, 54, 119, 119, 119]], ['user3', [213, 98, 98, 35]]]\n",
    "\n",
    "unique = []\n",
    "\n",
    "for user in ids:\n",
    "    for geo in user[1]:\n",
    "        if geo not in unique:\n",
    "            unique.append(geo)\n",
    "\n",
    "unique"
   ]
  },
  {
   "cell_type": "markdown",
   "metadata": {},
   "source": [
    "## Задание 3"
   ]
  },
  {
   "cell_type": "code",
   "execution_count": 47,
   "metadata": {},
   "outputs": [],
   "source": [
    "queries = [\n",
    "'смотреть сериалы онлайн',\n",
    "'новости спорта',\n",
    "'афиша кино',\n",
    "'курс доллара',\n",
    "'сериалы этим летом',\n",
    "'курс по питону',\n",
    "'сериалы про спорт',\n",
    "'я',\n",
    "'Константин Башевой',\n",
    "'окно больше не нужно!'\n",
    "]"
   ]
  },
  {
   "cell_type": "code",
   "execution_count": 49,
   "metadata": {},
   "outputs": [
    {
     "name": "stdout",
     "output_type": "stream",
     "text": [
      "Доля запросов с 1 словом составляет 10.00%\n",
      "Доля запросов с 2 словом составляет 40.00%\n",
      "Доля запросов с 3 словом составляет 40.00%\n",
      "Доля запросов с 4 словом составляет 10.00%\n"
     ]
    }
   ],
   "source": [
    "counter = [0] * 4 # инициализация счетчика\n",
    "\n",
    "for query in queries:\n",
    "    words = 0 #одно слово - это ноль в нашей системе измерения, т.к. учитываем все в массиве\n",
    "    for char in query:\n",
    "        if char == \" \":\n",
    "            words += 1\n",
    "    counter[words] += 1\n",
    "\n",
    "total = len(queries) #количество запросов\n",
    "\n",
    "for i in range(len(counter)):\n",
    "    print('Доля запросов с {} словом составляет {:.2%}'.format(i+1, counter[i]/total))"
   ]
  },
  {
   "cell_type": "markdown",
   "metadata": {},
   "source": [
    " ## Задание 4\n",
    " Дан поток логов по количеству просмотренных страниц для каждого пользователя. Список отсортирован по ID пользователя. Вам необходимо написать алгоритм, который считает среднее значение просмотров на пользователя. Т. е. надо посчитать отношение суммы всех просмотров к количеству уникальных пользователей. Учтите, что весь список stream не помещается в оперативную память, т. е. его нужно обрабатывать поэлементно в цикле."
   ]
  },
  {
   "cell_type": "code",
   "execution_count": 78,
   "metadata": {},
   "outputs": [],
   "source": [
    "stream = [\n",
    "'2018-01-01,user1,3',\n",
    "'2018-01-07,user1,4',\n",
    "'2018-03-29,user1,1',\n",
    "'2018-04-04,user1,13',\n",
    "'2018-01-05,user2,7',\n",
    "'2018-06-14,user3,4',\n",
    "'2018-07-02,user3,10',\n",
    "'2018-03-21,user4,19',\n",
    "'2018-03-22,user4,4',\n",
    "'2018-04-22,user4,8',\n",
    "'2018-05-03,user4,9',\n",
    "'2018-05-11,user4,11',\n",
    "'2018-05-11,user10,18',    \n",
    "]"
   ]
  },
  {
   "cell_type": "code",
   "execution_count": 100,
   "metadata": {},
   "outputs": [
    {
     "name": "stdout",
     "output_type": "stream",
     "text": [
      "Количество уникальных пользователей 5\n",
      "Общее количество просмотров 111\n",
      "Среднее количество просмотров 22.20\n"
     ]
    }
   ],
   "source": [
    "users = 0 #количество пользователей\n",
    "count = 0\n",
    "last = 0 #номер последнего юзера \n",
    "\n",
    "for s in stream:\n",
    "    col = s.split(',')\n",
    "    \n",
    "    count += int(col[2]) \n",
    "    \n",
    "    number = int(col[1][4:]) #получаем номер пользователя\n",
    "    \n",
    "    if last != number :\n",
    "        last = number\n",
    "        users += 1\n",
    "\n",
    "print(f'Количество уникальных пользователей {users}')        \n",
    "print(f'Общее количество просмотров {count}')      \n",
    "print(f'Среднее количество просмотров {count/users:.2f}') "
   ]
  }
 ],
 "metadata": {
  "kernelspec": {
   "display_name": "Python 3",
   "language": "python",
   "name": "python3"
  },
  "language_info": {
   "codemirror_mode": {
    "name": "ipython",
    "version": 3
   },
   "file_extension": ".py",
   "mimetype": "text/x-python",
   "name": "python",
   "nbconvert_exporter": "python",
   "pygments_lexer": "ipython3",
   "version": "3.7.3"
  }
 },
 "nbformat": 4,
 "nbformat_minor": 2
}
