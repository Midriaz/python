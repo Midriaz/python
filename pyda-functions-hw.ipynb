{
 "cells": [
  {
   "cell_type": "markdown",
   "metadata": {},
   "source": [
    "# Задание к лекции \"Функции\".\n",
    "Для зачета необходимо правильно выполнить 4 заданий из 6.  \n",
    "Для зачета с отличием – все 6."
   ]
  },
  {
   "cell_type": "markdown",
   "metadata": {},
   "source": [
    "## Задание 1"
   ]
  },
  {
   "cell_type": "markdown",
   "metadata": {},
   "source": [
    "Дан список вида:"
   ]
  },
  {
   "cell_type": "code",
   "execution_count": 1,
   "metadata": {},
   "outputs": [],
   "source": [
    "data = [\n",
    "    [13, 25, 23, 34],\n",
    "    [45, 32, 44, 47],\n",
    "    [12, 33, 23, 95],\n",
    "    [13, 53, 34, 35]\n",
    "]"
   ]
  },
  {
   "cell_type": "markdown",
   "metadata": {},
   "source": [
    "Напишите функцию, которая возвращает сумму элементов на диагонали. Т. е. 13+32+23+35.  \n",
    "Список может быть любой длины, но всегда является \"квадратным\" (количество элементов во вложенных списках равно их количеству)."
   ]
  },
  {
   "cell_type": "code",
   "execution_count": 4,
   "metadata": {},
   "outputs": [
    {
     "data": {
      "text/plain": [
       "103"
      ]
     },
     "execution_count": 4,
     "metadata": {},
     "output_type": "execute_result"
    }
   ],
   "source": [
    "def diagonal(matrix):\n",
    "    result = 0\n",
    "    for i in range(len(matrix)):\n",
    "        result += matrix[i][i]\n",
    "    return result\n",
    "\n",
    "diagonal(data)"
   ]
  },
  {
   "cell_type": "markdown",
   "metadata": {},
   "source": [
    "## Задание 2"
   ]
  },
  {
   "cell_type": "markdown",
   "metadata": {},
   "source": [
    "Напишите функцию, возвращающую сумму первых n чисел Фибоначчи (для этого вам может понадобится ознакомиться с рекурсией)."
   ]
  },
  {
   "cell_type": "code",
   "execution_count": 80,
   "metadata": {},
   "outputs": [
    {
     "data": {
      "text/plain": [
       "143"
      ]
     },
     "execution_count": 80,
     "metadata": {},
     "output_type": "execute_result"
    }
   ],
   "source": [
    "#от нуля считаем фибо\n",
    "def fibo(cap, i = 2, n1 = 0, n2 = 1):\n",
    "    fib = n1 + n2\n",
    "    i += 1\n",
    "    if i < cap :\n",
    "        return fib + fibo(cap, i, n2, fib)\n",
    "    else :\n",
    "        return fib\n",
    "\n",
    "def fibo_sum(n) :\n",
    "    if n > 2:\n",
    "        return fibo(n) + 1  #Добавляем 1, потому что последовательность начинаем считать с третьей цифры (1), а сумма первых двух чисел в нашем алгоритме не учитывается в рекурсии\n",
    "    else :\n",
    "        return fibo(n)\n",
    "\n",
    "fibo_sum(11) "
   ]
  },
  {
   "cell_type": "markdown",
   "metadata": {},
   "source": [
    "## Задание 3"
   ]
  },
  {
   "cell_type": "code",
   "execution_count": 31,
   "metadata": {},
   "outputs": [],
   "source": [
    "cook_book = {\n",
    "  'салат': [\n",
    "     {'ingridient_name': 'сыр', 'quantity': 50, 'measure': 'гр'},\n",
    "     {'ingridient_name': 'томаты', 'quantity': 20, 'measure': 'гр'},\n",
    "     {'ingridient_name': 'огурцы', 'quantity': 20, 'measure': 'гр'},\n",
    "     {'ingridient_name': 'маслины', 'quantity': 10, 'measure': 'гр'},\n",
    "     {'ingridient_name': 'оливковое масло', 'quantity': 20, 'measure': 'мл'},\n",
    "     {'ingridient_name': 'салат', 'quantity': 10, 'measure': 'гр'},\n",
    "     {'ingridient_name': 'перец', 'quantity': 20, 'measure': 'гр'}\n",
    "    ],\n",
    "  'пицца': [\n",
    "     {'ingridient_name': 'сыр', 'quantity': 20, 'measure': 'гр'},\n",
    "     {'ingridient_name': 'колбаса', 'quantity': 30, 'measure': 'гр'},\n",
    "     {'ingridient_name': 'бекон', 'quantity': 30, 'measure': 'гр'},\n",
    "     {'ingridient_name': 'оливки', 'quantity': 10, 'measure': 'гр'},\n",
    "     {'ingridient_name': 'томаты', 'quantity': 20, 'measure': 'гр'},\n",
    "     {'ingridient_name': 'тесто', 'quantity': 100, 'measure': 'гр'},   \n",
    "    ],\n",
    "  'лимонад': [\n",
    "     {'ingridient_name': 'лимон', 'quantity': 1, 'measure': 'шт'},\n",
    "     {'ingridient_name': 'вода', 'quantity': 200, 'measure': 'мл'},\n",
    "     {'ingridient_name': 'сахар', 'quantity': 10, 'measure': 'гр'},\n",
    "     {'ingridient_name': 'лайм', 'quantity': 20, 'measure': 'гр'},    \n",
    "    ]\n",
    "}"
   ]
  },
  {
   "cell_type": "markdown",
   "metadata": {},
   "source": [
    "Напишите программу (она может состоять из нескольких функций), которая будет запрашивать у пользователя количество гостей и список блюд, которые будут подаваться каждому гостю. В результате программа должна выдавать список покупок, состоящий из ингредиентов, которые нужно купить в магазине (если ингредиенты повторяются, то их нужно записать одной строкой, а не отдельно).\n",
    "\n",
    "Пример:\n",
    "\n",
    "вызов\\_главной\\_функций()\n",
    "\n",
    "Введите количество гостей: 3  \n",
    "Введите блюда через пробел: пицца пицца лимонад\n",
    "\n",
    "Список покупок:  \n",
    "сыр 120 гр  \n",
    "колбаса 180 гр  \n",
    "бекон 180 гр  \n",
    "оливки 60 гр  \n",
    "томаты 120 гр  \n",
    "тесто 600 гр  \n",
    "лимон 3 шт  \n",
    "вода 600 мл  \n",
    "сахар 30 гр  \n",
    "лайм 60 гр  "
   ]
  },
  {
   "cell_type": "code",
   "execution_count": 42,
   "metadata": {},
   "outputs": [
    {
     "name": "stdout",
     "output_type": "stream",
     "text": [
      "Введите количество гостей: 3\n",
      "Введите блюда через пробел: ПИцЦа\n",
      "Список покупок:\n",
      "сыр 60 гр\n",
      "колбаса 90 гр\n",
      "бекон 90 гр\n",
      "оливки 30 гр\n",
      "томаты 60 гр\n",
      "тесто 300 гр\n"
     ]
    }
   ],
   "source": [
    "import copy\n",
    "\n",
    "def shopping_list(guests, courses):\n",
    "    result = []\n",
    "    \n",
    "    for course in courses.split(' '):\n",
    "        if cook_book.get(course):       #проверяем есть ли такое блюдо\n",
    "            for i in cook_book[course]:\n",
    "                find = False\n",
    "                for j in result:         #Добавляли мы уже такой ингридиент в список покупок ?\n",
    "                    if i['ingridient_name'] == j['ingridient_name'] :\n",
    "                        j['quantity'] += i['quantity'] * guests\n",
    "                        find = True\n",
    "                if not find :\n",
    "                    result.append(copy.copy(i)) #пришлось использовать метод copy, иначе на след строке происходило изменение cook_book\n",
    "                    result[len(result)-1]['quantity'] = 3*result[len(result)-1]['quantity'] #было бы красиво, но увы надо еще мультипликатор гостей      \n",
    "\n",
    "    return result\n",
    "\n",
    "def view_sl(_list):\n",
    "    \"\"\"\n",
    "        This function prints shopping list humanly\n",
    "    \"\"\"\n",
    "    if len(_list) > 0:\n",
    "        print('Список покупок:')\n",
    "        for ing in _list:\n",
    "            print(f'{ing[\"ingridient_name\"]} {ing[\"quantity\"]} {ing[\"measure\"]}')\n",
    "    else:\n",
    "        print('Блюда не найдены')\n",
    "\n",
    "g = int(input('Введите количество гостей: '))\n",
    "c = input('Введите блюда через пробел: ')\n",
    "\n",
    "#в промышленном образце надо бы еще g проверить на число, но для домашки оставим на совести пользователя\n",
    "view_sl(shopping_list(g,c.lower()))"
   ]
  },
  {
   "cell_type": "markdown",
   "metadata": {},
   "source": [
    "## Задание 4"
   ]
  },
  {
   "cell_type": "markdown",
   "metadata": {},
   "source": [
    "Вы работаете секретарем и вам постоянно приходят различные документы. Вы должны быть очень внимательны, чтобы не потерять ни один документ. Каталог документов хранится в следующем виде:"
   ]
  },
  {
   "cell_type": "code",
   "execution_count": 12,
   "metadata": {},
   "outputs": [],
   "source": [
    "documents = [\n",
    "    {'type': 'passport', 'number': '2207 876234', 'name': 'Василий Гупкин'},\n",
    "    {'type': 'invoice', 'number': '11-2', 'name': 'Геннадий Покемонов'},\n",
    "    {'type': 'insurance', 'number': '10006', 'name': 'Аристарх Павлов'}\n",
    "]"
   ]
  },
  {
   "cell_type": "markdown",
   "metadata": {},
   "source": [
    "Перечень полок, на которых находятся документы хранится в следующем виде:"
   ]
  },
  {
   "cell_type": "code",
   "execution_count": 36,
   "metadata": {},
   "outputs": [],
   "source": [
    "directories = {\n",
    "    '1': ['2207 876234', '11-2', '5455 028765'],\n",
    "    '2': ['10006', '5400 028765', '5455 002299'],\n",
    "    '3': []\n",
    "}"
   ]
  },
  {
   "cell_type": "code",
   "execution_count": 37,
   "metadata": {},
   "outputs": [],
   "source": [
    "# в задании допущена ошибка! один и тот же документ на разных полках лежит, поправлю\n",
    "directories = {\n",
    "    '1': ['2207 876234', '11-2', '5455 028765'],\n",
    "    '2': ['10006', '400 999', '5455 002299'],  #заменяю\n",
    "    '3': []\n",
    "}"
   ]
  },
  {
   "cell_type": "markdown",
   "metadata": {},
   "source": [
    "Необходимо реализовать пользовательские команды (внимание! это не название функций, которые должны быть выразительными, а команды, которые вводит пользователь, чтобы получить необходимый результат):\n",
    "  \n",
    "- p – people – команда, которая спросит номер документа и выведет имя человека, которому он принадлежит;  \n",
    "- s – shelf – команда, которая спросит номер документа и выведет номер полки, на которой он находится  \n",
    "Правильно обработайте ситуацию, когда пользователь будет вводить несуществующий документ."
   ]
  },
  {
   "cell_type": "code",
   "execution_count": 49,
   "metadata": {},
   "outputs": [
    {
     "name": "stdout",
     "output_type": "stream",
     "text": [
      "Что прикажете, господин? s\n",
      "Какой манускрипт ищем? 55456\n",
      "Манускрипт не найден. Попробуйте еще раз.\n",
      "Какой манускрипт ищем? 777\n",
      "Манускрипт пылится на полке № 3\n"
     ]
    }
   ],
   "source": [
    "def get_doc(person = True):\n",
    "    \"\"\"\n",
    "        Asks for a document number. Checks if the document exists.\n",
    "    \"\"\"\n",
    "    doc_no = input('Какой манускрипт ищем? ')\n",
    "    \n",
    "    if person: #в зависимости от задачи, проверяем есть ли документ в соответствующем списке\n",
    "        for i in range(len(documents)):\n",
    "            if documents[i]['number'] == doc_no:\n",
    "                return i #вообще изначально задумывал функцию только для проверки документов, но в процессе написания меня стало напрягать двойной поиск и я начал возвращать позицию\n",
    "    else :\n",
    "        for key, value in directories.items():\n",
    "            for i in value:\n",
    "                if i == doc_no:\n",
    "                    return key\n",
    "    print('Манускрипт не найден. Попробуйте еще раз.')\n",
    "    return get_doc(person)\n",
    "    \n",
    "def person() :\n",
    "    print(f'Авторские права у {documents[get_doc()][\"name\"]}')\n",
    "          \n",
    "def shelf() :\n",
    "    print(f'Манускрипт пылится на полке № {get_doc(False)}')\n",
    "    \n",
    "def run(command) :\n",
    "    if command == 'p':\n",
    "        person()\n",
    "    elif command == 's':\n",
    "        shelf()\n",
    "    else:\n",
    "        print('Такое я не умею')\n",
    "\n",
    "command = input('Что прикажете, господин? ')\n",
    "\n",
    "run(command)\n"
   ]
  },
  {
   "cell_type": "markdown",
   "metadata": {},
   "source": [
    "## Задание 5"
   ]
  },
  {
   "cell_type": "markdown",
   "metadata": {},
   "source": [
    "К условию из задания 5 реализуйте следующие команды:\n",
    "  \n",
    "- l – list – команда, которая выведет список всех документов в формате   \n",
    "**passport \"2207 876234\" \"Василий Гупкин\"**  \n",
    "- as – add shelf – команда, которая спросит номер новой полки и добавит ее в перечень"
   ]
  },
  {
   "cell_type": "code",
   "execution_count": null,
   "metadata": {},
   "outputs": [],
   "source": [
    "#Так я понял! Давайте сразу тогда все задание в 6ом выполним, чего копипастой заниматься"
   ]
  },
  {
   "cell_type": "markdown",
   "metadata": {},
   "source": [
    "## Задание 6"
   ]
  },
  {
   "cell_type": "markdown",
   "metadata": {},
   "source": [
    "К условию из задания 5 реализуйте следующие команды:  \n",
    "  \n",
    "- d – delete – команда, которая спросит номер документа и удалит его из каталога и из перечня полок. Предусмотрите сценарий, когда пользователь вводит несуществующий документ;  \n",
    "- m – move – команда, которая спросит номер документа и целевую полку и переместит его с текущей полки на целевую. Корректно обработайте кейсы, когда пользователь пытается переместить несуществующий документ или переместить документ на несуществующую полку;  \n",
    "- a – add – команда, которая добавит новый документ в каталог и в перечень полок, спросив его номер, тип, имя владельца и номер полки, на котором он будет храниться."
   ]
  },
  {
   "cell_type": "code",
   "execution_count": 56,
   "metadata": {},
   "outputs": [
    {
     "name": "stdout",
     "output_type": "stream",
     "text": [
      "Что прикажете, господин? a\n",
      "Введите номер документа777\n",
      "Тип документа подскажете? ксива\n",
      "Что за мудрец написал? Путин\n",
      "На какую полку поместить скрижаль? 10\n"
     ]
    }
   ],
   "source": [
    "def _get_doc() : \n",
    "    \"\"\"\n",
    "        New version of get_doc which only asks user about doc_no\n",
    "    \"\"\"\n",
    "    return input('Введите номер документа')\n",
    "   \n",
    "def _list() :\n",
    "    print('Список всех документов:')\n",
    "    for doc in documents:\n",
    "        print('{} \"{}\" \"{}\"'.format(doc[\"type\"], doc[\"number\"], doc[\"name\"]))\n",
    "\n",
    "def add_shelf() :\n",
    "    shelf_no = input('Какую полку добавить? ')\n",
    "    directories.setdefault(shelf_no, [])\n",
    "    print(directories.keys())  #чтобы сразу проверить\n",
    "\n",
    "def delete() :\n",
    "    find = False\n",
    "     \n",
    "    doc_no = _get_doc()\n",
    "    \n",
    "    for i in range(len(documents)):\n",
    "        if documents[i]['number'] == doc_no :\n",
    "            documents.pop(i)\n",
    "            find = True\n",
    "            break    #Обязательно надо выходить из цикла после удаления, иначе словим out of index \n",
    "    \n",
    "    for key, value in directories.items():\n",
    "            for i in value:\n",
    "                if i == doc_no:\n",
    "                    value.remove(i)\n",
    "                    find = True\n",
    "    if find :\n",
    "        print(documents)\n",
    "        print(directories)\n",
    "    else :\n",
    "        print('Нет такого документа')\n",
    "\n",
    "def move():\n",
    "    doc_no = _get_doc()\n",
    "    \n",
    "    for key, value in directories.items():\n",
    "        for i in value:\n",
    "            if i == doc_no:\n",
    "                shelf_no = input('На какую полку переместить скрижаль? ')\n",
    "                \n",
    "                if shelf_no == key :\n",
    "                    print('Протрите глаза! И так на этой полке')\n",
    "                    return\n",
    "                \n",
    "                if directories.get(shelf_no) or directories.get(shelf_no) == []:\n",
    "                    value.remove(i)\n",
    "                    directories[shelf_no].append(doc_no) \n",
    "                else:\n",
    "                    print('Не буду я скрижаль в черную дыру отправлять!')\n",
    "                    return\n",
    "                \n",
    "                print('Приказ о перемещении выполнен!')\n",
    "                return\n",
    "    print('Господин, скрижаль потерялся!')\n",
    "        \n",
    "def add():\n",
    "    doc_no = _get_doc()\n",
    "    doc_type = input('Тип документа подскажете? ')\n",
    "    author = input('Что за мудрец написал? ')\n",
    "    shelf_no = input('На какую полку поместить скрижаль? ')\n",
    "    \n",
    "    if directories.get(shelf_no) or directories.get(shelf_no) == []:\n",
    "        documents.append({'type': doc_type, 'number': doc_no, 'name': author})\n",
    "        directories[shelf_no].append(doc_no)\n",
    "    \n",
    "    else :\n",
    "        print('Полку мне запили!')\n",
    "        \n",
    "def run(command) :\n",
    "    if command == 'p':\n",
    "        person()\n",
    "    elif command == 's':\n",
    "        shelf()\n",
    "    elif command == 'l':\n",
    "        _list()\n",
    "    elif command == 'as':\n",
    "        add_shelf()\n",
    "    elif command == 'd':\n",
    "        delete()\n",
    "    elif command == 'm':\n",
    "        move()\n",
    "    elif command == 'a':\n",
    "        add()\n",
    "    else:\n",
    "        print('Такое я не умею')\n",
    "\n",
    "command = input('Что прикажете, господин? ')\n",
    "\n",
    "run(command)"
   ]
  },
  {
   "cell_type": "code",
   "execution_count": 57,
   "metadata": {},
   "outputs": [
    {
     "name": "stdout",
     "output_type": "stream",
     "text": [
      "[{'type': 'passport', 'number': '2207 876234', 'name': 'Василий Гупкин'}, {'type': 'invoice', 'number': '11-2', 'name': 'Геннадий Покемонов'}, {'type': 'insurance', 'number': '10006', 'name': 'Аристарх Павлов'}, {'type': 'ксива', 'number': '777', 'name': 'Путин'}]\n"
     ]
    },
    {
     "data": {
      "text/plain": [
       "{'1': ['2207 876234', '5455 028765'],\n",
       " '2': ['10006', '5455 002299'],\n",
       " '3': ['400 999'],\n",
       " '10': ['11-2', '777']}"
      ]
     },
     "execution_count": 57,
     "metadata": {},
     "output_type": "execute_result"
    }
   ],
   "source": [
    "print(documents)\n",
    "directories"
   ]
  }
 ],
 "metadata": {
  "kernelspec": {
   "display_name": "Python 3",
   "language": "python",
   "name": "python3"
  },
  "language_info": {
   "codemirror_mode": {
    "name": "ipython",
    "version": 3
   },
   "file_extension": ".py",
   "mimetype": "text/x-python",
   "name": "python",
   "nbconvert_exporter": "python",
   "pygments_lexer": "ipython3",
   "version": "3.7.3"
  }
 },
 "nbformat": 4,
 "nbformat_minor": 2
}
