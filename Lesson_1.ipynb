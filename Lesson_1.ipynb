{
 "cells": [
  {
   "cell_type": "markdown",
   "metadata": {},
   "source": [
    "## Задание 1\n",
    "Играем в fizz buzz "
   ]
  },
  {
   "cell_type": "code",
   "execution_count": null,
   "metadata": {},
   "outputs": [],
   "source": [
    "number = 1\n",
    "max_number = 90\n",
    "\n",
    "while number <= max_number :\n",
    "    if (number % 3 == 0) and (number % 5 == 0):\n",
    "        print('fizz buzz')\n",
    "    elif number % 3 == 0 :\n",
    "        print('fizz')\n",
    "    elif number % 5 == 0 :\n",
    "        print('buzz')\n",
    "    else :\n",
    "        print(number)\n",
    "    number = number + 1"
   ]
  },
  {
   "cell_type": "markdown",
   "metadata": {},
   "source": [
    "## Задание 2\n",
    "Датчик"
   ]
  },
  {
   "cell_type": "code",
   "execution_count": 9,
   "metadata": {},
   "outputs": [
    {
     "name": "stdout",
     "output_type": "stream",
     "text": [
      "Периодичность 15\n",
      "Паттерн 101000110011101\n"
     ]
    }
   ],
   "source": [
    "# Сначала напишем генератор сигнала для датчика\n",
    "pattern = '101000110011101' #сигнал\n",
    "length = 200 #сколько раз его повторить\n",
    "signal = '' #сигнал, подаваемый на вход дачтику\n",
    "\n",
    "for i in range(length):\n",
    "    signal = signal + pattern\n",
    "\n",
    "#print('Датчик получил сигнал: ' + signal)\n",
    "\n",
    "# Теперь решаем задачу\n",
    "# Про вагоны интересно, но не совсем понятно как она помогает решить текущую...\n",
    "# моя стратегия BRUTFORCE (в конце тяжелого дня другая на ум не приходит)\n",
    "\n",
    "# берем первые 3 < n < 1000 цифр, где n - постоянно меняем\n",
    "for i in range(4, 1000): #цикл по предположительной периодичности сигнала\n",
    "    p = signal[0:i] #это наше преположение о паттерне сигнала\n",
    "    x = i #позиция следующего сигнала\n",
    "    nxt = signal[x:x+i] #проверочная строка\n",
    "    \n",
    "    #Теперь перебираем все последующие символы\n",
    "    #Если мы продолжаем встречать предполагаемый паттер, то мы на верном пути\n",
    "    while (nxt == p) and (x <= len(signal) - 1) :\n",
    "         x = x + i\n",
    "         nxt = signal[x:x+i]\n",
    "    #Если мы дошли перебором до конца последовательности, значит паттерн найден    \n",
    "    if x == (len(signal)) :\n",
    "        print('Периодичность ' + str(i))\n",
    "        print('Паттерн ' + str(p))\n",
    "        break\n"
   ]
  },
  {
   "cell_type": "markdown",
   "metadata": {},
   "source": [
    "## Задание 3\n",
    "Разбивка слов"
   ]
  },
  {
   "cell_type": "code",
   "execution_count": 10,
   "metadata": {},
   "outputs": [
    {
     "name": "stdout",
     "output_type": "stream",
     "text": [
      "sl\n"
     ]
    }
   ],
   "source": [
    "word = 'translator' # Cлово\n",
    "length = len(word)  # Считаем длину\n",
    "\n",
    "i = int(length / 2) #Определяем позицию, приводим к целому \n",
    "\n",
    "if length % 2 == 0 :\n",
    "    i = int(length / 2) #Определяем позицию, приводим к целому (хоть оно и целое, но пайтон на операции деления считает иначе)\n",
    "    print(word[i-1] + word[i]) \n",
    "else :\n",
    "    print (word[i]) #Как и везде индексы начинаются с нуля, поэтому -1 не пишем"
   ]
  }
 ],
 "metadata": {
  "kernelspec": {
   "display_name": "Python 3",
   "language": "python",
   "name": "python3"
  },
  "language_info": {
   "codemirror_mode": {
    "name": "ipython",
    "version": 3
   },
   "file_extension": ".py",
   "mimetype": "text/x-python",
   "name": "python",
   "nbconvert_exporter": "python",
   "pygments_lexer": "ipython3",
   "version": "3.7.3"
  }
 },
 "nbformat": 4,
 "nbformat_minor": 2
}
