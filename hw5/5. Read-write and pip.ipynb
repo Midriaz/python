{
 "cells": [
  {
   "cell_type": "markdown",
   "metadata": {},
   "source": [
    "### Упражнение на списки и функции\n",
    "Дана строчка с последовательностью натуральных чисел, разделенных пробелом. Посчитайте:\n",
    "1. Количество четных и нечетных чисел в этой строке\n",
    "2. Если четных больше, то укажите номер позиции первого \"лишнего\" нечетного числа\n",
    "3. Если нечетных больше, то укажите позицию первого \"лишнего\" четного числа\n",
    "4. Как бонусный вариант оформите код в виде функции"
   ]
  },
  {
   "cell_type": "code",
   "execution_count": 9,
   "metadata": {},
   "outputs": [],
   "source": [
    "sequence = '2 3 1 5 9 22 3 5'"
   ]
  },
  {
   "cell_type": "code",
   "execution_count": 13,
   "metadata": {},
   "outputs": [
    {
     "name": "stdout",
     "output_type": "stream",
     "text": [
      "['2', '3', '1', '5', '9', '22', '3', '5']\n"
     ]
    },
    {
     "data": {
      "text/plain": [
       "0"
      ]
     },
     "execution_count": 13,
     "metadata": {},
     "output_type": "execute_result"
    }
   ],
   "source": [
    "seq = sequence.split(' ')\n",
    "print(seq)\n",
    "\n",
    "def _count(seq) :\n",
    "    result = {'odd': 0, 'even': 0}\n",
    "    \n",
    "    for i in seq:\n",
    "        if int(i) % 2 == 0 :\n",
    "            result['even'] += 1\n",
    "        else :\n",
    "            result['odd'] += 1\n",
    "            \n",
    "    return result\n",
    "\n",
    "def pos(seq, odd = True):\n",
    "    for i in range(len(seq)) :\n",
    "        if odd and i % 2 != 0 :\n",
    "            return i\n",
    "        elif not odd and i % 2 == 0 :\n",
    "            return i\n",
    "    \n",
    "c = _count(seq)\n",
    "\n",
    "if c['even'] > c['odd'] :\n",
    "    p = pos(seq)\n",
    "else :\n",
    "    p = pos(seq, False)\n",
    "\n",
    "p"
   ]
  },
  {
   "cell_type": "code",
   "execution_count": null,
   "metadata": {},
   "outputs": [],
   "source": []
  },
  {
   "cell_type": "code",
   "execution_count": null,
   "metadata": {},
   "outputs": [],
   "source": []
  },
  {
   "cell_type": "markdown",
   "metadata": {},
   "source": [
    "# Чтение файлов\n",
    "Рассматриваем задачу сквозной аналитики\n",
    "- visit_log.csv\n",
    "- purchase_log.txt"
   ]
  },
  {
   "cell_type": "markdown",
   "metadata": {},
   "source": [
    "### Способ 1. Делаем все пошагово\n",
    "Опции при открытии файлов:\n",
    "- 'r' открыть для чтения. Файл при этом не меняется\n",
    "- 'w' открыть файл для записи. Файл при этом полностью чистится (!)\n",
    "- 'a' открыть файл для добавления. Файл не меняется, все записи добавляются в конец"
   ]
  },
  {
   "cell_type": "code",
   "execution_count": 14,
   "metadata": {},
   "outputs": [],
   "source": [
    "# открываем файл для чтения (опция r)\n",
    "f = open('visit_log.csv', 'r')"
   ]
  },
  {
   "cell_type": "code",
   "execution_count": 15,
   "metadata": {},
   "outputs": [
    {
     "data": {
      "text/plain": [
       "'user_id,source\\n'"
      ]
     },
     "execution_count": 15,
     "metadata": {},
     "output_type": "execute_result"
    }
   ],
   "source": [
    "# прочитать одну строчку\n",
    "f.readline()"
   ]
  },
  {
   "cell_type": "code",
   "execution_count": 16,
   "metadata": {},
   "outputs": [
    {
     "data": {
      "text/plain": [
       "'6450655ae8,other\\n'"
      ]
     },
     "execution_count": 16,
     "metadata": {},
     "output_type": "execute_result"
    }
   ],
   "source": [
    "# прочитать еще одну\n",
    "f.readline()"
   ]
  },
  {
   "cell_type": "code",
   "execution_count": 17,
   "metadata": {},
   "outputs": [
    {
     "data": {
      "text/plain": [
       "'b4ea53e670,other\\n'"
      ]
     },
     "execution_count": 17,
     "metadata": {},
     "output_type": "execute_result"
    }
   ],
   "source": [
    "# можно так\n",
    "next(f)"
   ]
  },
  {
   "cell_type": "markdown",
   "metadata": {},
   "source": [
    "Часто используется конструкция \n",
    "```python\n",
    "another_line.strip().split(',')\n",
    "```"
   ]
  },
  {
   "cell_type": "code",
   "execution_count": null,
   "metadata": {},
   "outputs": [],
   "source": [
    "another_line = f.readline()\n",
    "another_line"
   ]
  },
  {
   "cell_type": "code",
   "execution_count": null,
   "metadata": {},
   "outputs": [],
   "source": [
    "# удаляем перенос строки и лишние пробелы\n",
    "another_line.strip()"
   ]
  },
  {
   "cell_type": "code",
   "execution_count": null,
   "metadata": {},
   "outputs": [],
   "source": [
    "# разбиваем столбцы\n",
    "another_line.strip().split(',')"
   ]
  },
  {
   "cell_type": "code",
   "execution_count": null,
   "metadata": {},
   "outputs": [],
   "source": [
    "f.close()"
   ]
  },
  {
   "cell_type": "code",
   "execution_count": null,
   "metadata": {},
   "outputs": [],
   "source": [
    "# после закрытия не получится прочитать\n",
    "f.readline()"
   ]
  },
  {
   "cell_type": "code",
   "execution_count": null,
   "metadata": {},
   "outputs": [],
   "source": [
    "# прочитать все строчки файла\n",
    "f = open('visit_log.csv', 'r')\n",
    "\n",
    "content = f.readlines()\n",
    "\n",
    "f.close()"
   ]
  },
  {
   "cell_type": "code",
   "execution_count": null,
   "metadata": {},
   "outputs": [],
   "source": [
    "content[:5]"
   ]
  },
  {
   "cell_type": "markdown",
   "metadata": {},
   "source": [
    "### Упражнение\n",
    "Напишите функцию (или просто код), который возвращает список из первых N строк файла purchase_log.csv без записи всего содержимого в оперативную память."
   ]
  },
  {
   "cell_type": "code",
   "execution_count": 3,
   "metadata": {},
   "outputs": [
    {
     "data": {
      "text/plain": [
       "['user_id,source',\n",
       " '6450655ae8,other',\n",
       " 'b4ea53e670,other',\n",
       " '0e37347152,other',\n",
       " '96064ae9e0,other']"
      ]
     },
     "execution_count": 3,
     "metadata": {},
     "output_type": "execute_result"
    }
   ],
   "source": [
    "f = open('visit_log.csv', 'r')\n",
    "\n",
    "def read_file(f, n):\n",
    "    content = []\n",
    "    for i in range(n):\n",
    "        content.append(f.readline().strip())\n",
    "    return content\n",
    "\n",
    "read_file(f, 5)\n"
   ]
  },
  {
   "cell_type": "code",
   "execution_count": null,
   "metadata": {},
   "outputs": [],
   "source": []
  },
  {
   "cell_type": "code",
   "execution_count": null,
   "metadata": {},
   "outputs": [],
   "source": []
  },
  {
   "cell_type": "markdown",
   "metadata": {},
   "source": [
    "### Зачем все так сложно?\n",
    "Начинаем запись в файл"
   ]
  },
  {
   "cell_type": "code",
   "execution_count": null,
   "metadata": {},
   "outputs": [],
   "source": [
    "f = open('results.csv', 'w')"
   ]
  },
  {
   "cell_type": "code",
   "execution_count": null,
   "metadata": {},
   "outputs": [],
   "source": [
    "f.write('Начинаю запись первой строки...\\n')"
   ]
  },
  {
   "cell_type": "code",
   "execution_count": null,
   "metadata": {},
   "outputs": [],
   "source": [
    "f.write('Начинаю запись второй строки...\\n')"
   ]
  },
  {
   "cell_type": "markdown",
   "metadata": {},
   "source": [
    "Здесь кто-то еще хочет в него записать"
   ]
  },
  {
   "cell_type": "code",
   "execution_count": null,
   "metadata": {},
   "outputs": [],
   "source": [
    "my_friend_results = open('results.csv', 'w')"
   ]
  },
  {
   "cell_type": "code",
   "execution_count": null,
   "metadata": {},
   "outputs": [],
   "source": [
    "my_friend_results.write('Тут еще результаты есть')"
   ]
  },
  {
   "cell_type": "code",
   "execution_count": null,
   "metadata": {},
   "outputs": [],
   "source": [
    "# пишем свой результат\n",
    "f.close()"
   ]
  },
  {
   "cell_type": "code",
   "execution_count": null,
   "metadata": {},
   "outputs": [],
   "source": [
    "# и наш результат перезатирается\n",
    "my_friend_results.close()"
   ]
  },
  {
   "cell_type": "markdown",
   "metadata": {},
   "source": [
    "### Контекстный менеджер\n",
    "Как обезопасить себя от подобных накладок"
   ]
  },
  {
   "cell_type": "code",
   "execution_count": null,
   "metadata": {},
   "outputs": [],
   "source": [
    "with open('results.csv', 'w') as f:\n",
    "    f.write('Начинаю запись первой строки...\\n')\n",
    "    f.write('Начинаю запись второй строки...\\n')\n",
    "    \n",
    "    my_friend_results = open('results.csv', 'w')\n",
    "    my_friend_results.write('Тут еще результаты есть')\n",
    "    my_friend_results.close()"
   ]
  },
  {
   "cell_type": "markdown",
   "metadata": {},
   "source": [
    "### Упражнение\n",
    "Напишите функцию, которая фильтрует файл visit_log.csv по источнику context и пишет результат в visits_context.csv. Используйте функцию из второго упражнения для проверки результата."
   ]
  },
  {
   "cell_type": "code",
   "execution_count": 29,
   "metadata": {},
   "outputs": [
    {
     "data": {
      "text/plain": [
       "['e1bd168161,context\\n',\n",
       " '1f8845e157,context\\n',\n",
       " '86835b81ac,context\\n',\n",
       " 'dd3d43c266,context\\n',\n",
       " 'f6401d302f,context\\n']"
      ]
     },
     "execution_count": 29,
     "metadata": {},
     "output_type": "execute_result"
    }
   ],
   "source": [
    "fr = open('visit_log.csv', 'r')\n",
    "fw = open('visits_context.csv', 'w')\n",
    "\n",
    "def _filter(fr, fw, filter_word):\n",
    "    with fr as f:\n",
    "        for ln in f:\n",
    "            if ln.strip().split(',')[1] == filter_word: fw.write(ln)\n",
    "    \n",
    "    fw.close()\n",
    "\n",
    "_filter(fr, fw, 'context')\n",
    "read_file(open('visits_context.csv', 'r'), 5)"
   ]
  },
  {
   "cell_type": "code",
   "execution_count": null,
   "metadata": {},
   "outputs": [],
   "source": []
  },
  {
   "cell_type": "code",
   "execution_count": null,
   "metadata": {},
   "outputs": [],
   "source": []
  },
  {
   "cell_type": "markdown",
   "metadata": {},
   "source": [
    "# Чтение списков и словарей из файла\n",
    "Смотрим что в файле purchase_log.txt. Похоже тут не строки, а словари"
   ]
  },
  {
   "cell_type": "code",
   "execution_count": null,
   "metadata": {},
   "outputs": [],
   "source": [
    "with open('purchase_log.txt') as f:\n",
    "    print([next(f) for x in range(5)])"
   ]
  },
  {
   "cell_type": "code",
   "execution_count": null,
   "metadata": {},
   "outputs": [],
   "source": [
    "import json"
   ]
  },
  {
   "cell_type": "code",
   "execution_count": null,
   "metadata": {},
   "outputs": [],
   "source": [
    "# перевод строки в словарь\n",
    "dict_in_string = '{\"a\": 1, \"b\": 2}'\n",
    "\n",
    "type(json.loads(dict_in_string))"
   ]
  },
  {
   "cell_type": "code",
   "execution_count": null,
   "metadata": {},
   "outputs": [],
   "source": [
    "# перевод строки в список\n",
    "list_in_string = '[1, 2, 3]'\n",
    "\n",
    "json.loads(list_in_string)[-1]"
   ]
  },
  {
   "cell_type": "code",
   "execution_count": null,
   "metadata": {},
   "outputs": [],
   "source": [
    "i = 0\n",
    "with open('purchase_log.txt') as f:\n",
    "    for line in f:\n",
    "        line = line.strip()\n",
    "        \n",
    "        dict_ = json.loads(line)\n",
    "        print(dict_, type(dict_))\n",
    "        \n",
    "        i += 1\n",
    "        if i > 5:\n",
    "            break"
   ]
  },
  {
   "cell_type": "markdown",
   "metadata": {},
   "source": [
    "### Упражнение\n",
    "1. Посчитайте распределение количества покупок по категориям в столбце category\n",
    "2. Составьте словарь, в котором для каждого user_id значением будет название категории"
   ]
  },
  {
   "cell_type": "code",
   "execution_count": null,
   "metadata": {},
   "outputs": [],
   "source": []
  },
  {
   "cell_type": "code",
   "execution_count": null,
   "metadata": {},
   "outputs": [],
   "source": []
  },
  {
   "cell_type": "code",
   "execution_count": null,
   "metadata": {},
   "outputs": [],
   "source": []
  },
  {
   "cell_type": "markdown",
   "metadata": {},
   "source": [
    "### Из словаря в строку тоже можно"
   ]
  },
  {
   "cell_type": "code",
   "execution_count": null,
   "metadata": {},
   "outputs": [],
   "source": [
    "data = {'user_id': '1840e0b9d4', 'category': 'Продукты'}"
   ]
  },
  {
   "cell_type": "code",
   "execution_count": null,
   "metadata": {},
   "outputs": [],
   "source": [
    "type(json.dumps(data))"
   ]
  },
  {
   "cell_type": "markdown",
   "metadata": {},
   "source": [
    "# Модуль pickle\n",
    "Запись объекта сразу в файл как поток байтов"
   ]
  },
  {
   "cell_type": "code",
   "execution_count": 30,
   "metadata": {},
   "outputs": [],
   "source": [
    "import pickle"
   ]
  },
  {
   "cell_type": "code",
   "execution_count": null,
   "metadata": {},
   "outputs": [],
   "source": [
    "data = {'user_id': '1840e0b9d4', 'category': 'Продукты'}"
   ]
  },
  {
   "cell_type": "code",
   "execution_count": null,
   "metadata": {},
   "outputs": [],
   "source": [
    "with open('data.pickle', 'wb') as f:\n",
    "    pickle.dump(data, f)"
   ]
  },
  {
   "cell_type": "code",
   "execution_count": null,
   "metadata": {},
   "outputs": [],
   "source": [
    "# прочитать объект из такого файла\n",
    "\n",
    "with open('data.pickle', 'rb') as f:\n",
    "    dict_ = pickle.load(f)\n",
    "    \n",
    "dict_, dict_['user_id']"
   ]
  },
  {
   "cell_type": "markdown",
   "metadata": {},
   "source": [
    "### Упражнение\n",
    "В файле payments_stat.pickle записана некая статистика платежей пользователей. Посчитайте среднее значение платежа."
   ]
  },
  {
   "cell_type": "code",
   "execution_count": 31,
   "metadata": {},
   "outputs": [
    {
     "ename": "FileNotFoundError",
     "evalue": "[Errno 2] No such file or directory: 'payments_stat.pickle'",
     "output_type": "error",
     "traceback": [
      "\u001b[1;31m---------------------------------------------------------------------------\u001b[0m",
      "\u001b[1;31mFileNotFoundError\u001b[0m                         Traceback (most recent call last)",
      "\u001b[1;32m<ipython-input-31-87c46a806e00>\u001b[0m in \u001b[0;36m<module>\u001b[1;34m\u001b[0m\n\u001b[1;32m----> 1\u001b[1;33m \u001b[1;32mwith\u001b[0m \u001b[0mopen\u001b[0m\u001b[1;33m(\u001b[0m\u001b[1;34m'payments_stat.pickle'\u001b[0m\u001b[1;33m,\u001b[0m \u001b[1;34m'rb'\u001b[0m\u001b[1;33m)\u001b[0m \u001b[1;32mas\u001b[0m \u001b[0mf\u001b[0m\u001b[1;33m:\u001b[0m\u001b[1;33m\u001b[0m\u001b[1;33m\u001b[0m\u001b[0m\n\u001b[0m\u001b[0;32m      2\u001b[0m     \u001b[0mdict_\u001b[0m \u001b[1;33m=\u001b[0m \u001b[0mpickle\u001b[0m\u001b[1;33m.\u001b[0m\u001b[0mload\u001b[0m\u001b[1;33m(\u001b[0m\u001b[0mf\u001b[0m\u001b[1;33m)\u001b[0m\u001b[1;33m\u001b[0m\u001b[1;33m\u001b[0m\u001b[0m\n\u001b[0;32m      3\u001b[0m \u001b[1;33m\u001b[0m\u001b[0m\n\u001b[0;32m      4\u001b[0m \u001b[0mdict_\u001b[0m\u001b[1;33m\u001b[0m\u001b[1;33m\u001b[0m\u001b[0m\n",
      "\u001b[1;31mFileNotFoundError\u001b[0m: [Errno 2] No such file or directory: 'payments_stat.pickle'"
     ]
    }
   ],
   "source": [
    "with open('payments_stat.pickle', 'rb') as f:\n",
    "    dict_ = pickle.load(f)\n",
    "\n",
    "dict_"
   ]
  },
  {
   "cell_type": "code",
   "execution_count": null,
   "metadata": {},
   "outputs": [],
   "source": []
  },
  {
   "cell_type": "code",
   "execution_count": null,
   "metadata": {},
   "outputs": [],
   "source": []
  },
  {
   "cell_type": "markdown",
   "metadata": {},
   "source": [
    "# Каталог пакетов pip (Python Package Index)\n",
    "Варианты установки\n",
    "1. С помощью Anaconda Navigator\n",
    "2. В командной строке (Terminal на маке)\n",
    "```bash\n",
    "pip install package_name\n",
    "```\n",
    "3. Скачать версию с github и установить вручную\n",
    "```bash\n",
    "pip install .\n",
    "```\n",
    "\n",
    "Пакеты устанавливаются в определенное окружение! Вам пригодится virtualenv"
   ]
  },
  {
   "cell_type": "code",
   "execution_count": null,
   "metadata": {},
   "outputs": [],
   "source": [
    "import plotly"
   ]
  },
  {
   "cell_type": "markdown",
   "metadata": {},
   "source": [
    "# Простой импорт"
   ]
  },
  {
   "cell_type": "code",
   "execution_count": null,
   "metadata": {},
   "outputs": [],
   "source": [
    "import sys\n",
    "sys.path"
   ]
  },
  {
   "cell_type": "code",
   "execution_count": null,
   "metadata": {},
   "outputs": [],
   "source": [
    "# добавляем в список библиотек папку libs\n",
    "sys.path.append('libs')\n",
    "sys.path"
   ]
  },
  {
   "cell_type": "code",
   "execution_count": null,
   "metadata": {},
   "outputs": [],
   "source": [
    "from useful_codes import CATEGORIES"
   ]
  },
  {
   "cell_type": "code",
   "execution_count": null,
   "metadata": {},
   "outputs": [],
   "source": [
    "CATEGORIES"
   ]
  },
  {
   "cell_type": "code",
   "execution_count": null,
   "metadata": {},
   "outputs": [],
   "source": [
    "from useful_codes import word_count"
   ]
  },
  {
   "cell_type": "code",
   "execution_count": null,
   "metadata": {},
   "outputs": [],
   "source": [
    "# посмотреть документацию функции\n",
    "\n",
    "?word_count"
   ]
  },
  {
   "cell_type": "code",
   "execution_count": null,
   "metadata": {},
   "outputs": [],
   "source": [
    "word_count('Посчитай количество слов в тексте')"
   ]
  },
  {
   "cell_type": "markdown",
   "metadata": {},
   "source": [
    "# Домашнее задание\n",
    "1. Переведите содержимое файла purchase_log.txt в словарь purchases вида:\n",
    "```python\n",
    "{'1840e0b9d4': 'Продукты', ...}\n",
    "```\n",
    "\n",
    "2. Для каждого user_id в файле visit_log.csv добавьте третий столбец с категорией покупки (если покупка была).\n",
    "\n",
    "3. Запишите в файл funnel.csv визиты из файла visit_log.csv, в которых были покупки с указанием категории.\n",
    "\n",
    "Учтите условия на данные:\n",
    "- содержимое purchase_log.txt помещается в оперативную память компьютера\n",
    "- содержимое visit_log.csv - нет; используйте только построчную обработку этого файла"
   ]
  },
  {
   "cell_type": "code",
   "execution_count": 1,
   "metadata": {},
   "outputs": [],
   "source": [
    "import json\n",
    "\n",
    "f = open('purchase_log.txt', 'r', encoding='utf-8')\n",
    "purchase = [json.loads(x.strip()) for x in f]\n",
    "\n",
    "purchase.pop(0) #Удаляем залоговок\n",
    "\n",
    "with open('visit_log.csv', 'r') as fr, open('funnel.csv', 'w') as fw :\n",
    "    for ln in fr: #Читаем файл построчно\n",
    "        tmp = ln.strip().split(',')\n",
    "        user_id = tmp[0]\n",
    "        for phs in purchase :\n",
    "            if phs['user_id'] == user_id : \n",
    "                fw.write(f'{user_id}, {tmp[1]}, {phs[\"category\"]}\\n')\n",
    "                break   #надеюсь на один user_id одна только категория :) брик для оптимизации \n",
    "    fw.close()"
   ]
  },
  {
   "cell_type": "code",
   "execution_count": 7,
   "metadata": {},
   "outputs": [
    {
     "name": "stdout",
     "output_type": "stream",
     "text": [
      "['1840e0b9d4, Продукты', '4e4f90fcfb, Электроника', 'afea8d72fc, Электроника', '2824221f38, Продукты', '373a6055fe, Бытовая техника', '9b2ab046f3, Электроника', '9f39d307c3, Электроника', '44edeffc91, Продукты', '704474fa2d, Продукты', '1de31be403, Бытовая техника', '5da0dedf13, Досуг', 'b71f36a5e4, Продукты', '79843a685a, Продукты', 'ff68cee0d6, Бытовая техника', 'e8447c40e2, Досуг', 'b9ef8fdf47, Продукты', '98d290be27, Электроника', '3fff459bda, Электроника', 'fa0079a5a8, Досуг', 'fdd6b2fc76, Бытовая техника', '54ecd881a2, Бытовая техника', '22d2f03a17, Досуг', 'c9fa1b54d5, Продукты', '3f8e1ccd3f, Электроника', '81a9988b83, Электроника', '65f44a2eb7, Досуг', '6df948569b, Бытовая техника', '5f8fbb0149, Бытовая техника', '3ecff691fd, Электроника', 'dd0e912251, Электроника', '9250593d55, Электроника', '37c4e090e4, Электроника', '22fa3ea76f, Электроника', '73b876b237, Электроника', 'ed6b87f95d, Досуг', 'f983a69d67, Товары для животных', '4ea17212f8, Продукты', 'c6de96a5e2, Товары для животных', '4175fd2e58, Электроника', 'd8e3bcee53, Продукты', '680aa815f9, Продукты', '4a92a68cf9, Электроника', '905e60cb52, Бытовая техника', '393bcfb298, Продукты', '06d450cc57, Электроника', 'b60ce22f17, Электроника', '6f159c4c2e, Товары для животных', '564202f6bd, Электроника', '1908683775, Электроника', '8fd957a463, Продукты', '72e0a3f1d0, Бытовая техника', '7f5f56e517, Досуг', 'bc1a0a7e26, Досуг', '17639fe89d, Досуг', '74c9201f84, Электроника']\n"
     ]
    }
   ],
   "source": [
    "#проверим файл\n",
    "f = open('funnel.csv', 'r')\n",
    "\n",
    "print(read_file(f, 55))"
   ]
  },
  {
   "cell_type": "code",
   "execution_count": null,
   "metadata": {},
   "outputs": [],
   "source": [
    "purchase[:5]"
   ]
  }
 ],
 "metadata": {
  "kernelspec": {
   "display_name": "Python 3",
   "language": "python",
   "name": "python3"
  },
  "language_info": {
   "codemirror_mode": {
    "name": "ipython",
    "version": 3
   },
   "file_extension": ".py",
   "mimetype": "text/x-python",
   "name": "python",
   "nbconvert_exporter": "python",
   "pygments_lexer": "ipython3",
   "version": "3.7.3"
  }
 },
 "nbformat": 4,
 "nbformat_minor": 2
}
