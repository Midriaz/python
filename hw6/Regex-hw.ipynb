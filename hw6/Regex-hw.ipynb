{
 "cells": [
  {
   "cell_type": "markdown",
   "metadata": {},
   "source": [
    "# Домашнее задание к лекции \"Регулярные выражения\"\n",
    "Для зачета необходимо выполнить 4 задания.  \n",
    "Для зачета с отличием – все."
   ]
  },
  {
   "cell_type": "markdown",
   "metadata": {},
   "source": [
    "## Задание 1"
   ]
  },
  {
   "cell_type": "markdown",
   "metadata": {},
   "source": [
    "Напишите функцию, которая принимает на вход строку и проверяет является ли она валидным транспортным номером. Если да, то функция должна возвращать отдельно номер и регион."
   ]
  },
  {
   "cell_type": "code",
   "execution_count": 1,
   "metadata": {},
   "outputs": [],
   "source": [
    "import re"
   ]
  },
  {
   "cell_type": "code",
   "execution_count": 39,
   "metadata": {},
   "outputs": [
    {
     "name": "stdout",
     "output_type": "stream",
     "text": [
      "Number У123ВВ199  is invalid\n",
      "Number 123ВВВ199  is invalid\n",
      "Number У12ВВ99  is invalid\n",
      "Number У123ВВ099  is invalid\n",
      "{'region': '99', 'number': 'В123ВВ'}\n",
      "{'region': '199', 'number': 'К123ВВ'}\n",
      "Number К123ВВ1991  is invalid\n",
      "Number К123ВВ299  is invalid\n"
     ]
    }
   ],
   "source": [
    "def car_number(number):\n",
    "    result = {}\n",
    "    wrong = f'Number {number}  is invalid'\n",
    "    \n",
    "    if 8 < len(number) > 9 :\n",
    "        return wrong\n",
    "    \n",
    "    allowed_char = '[АВСЕНКМОРТX]'\n",
    "    reg_exp_num = allowed_char + '\\d{3}' + allowed_char + '{2}'\n",
    "    reg_exp_region = '\\d{2,3}'\n",
    "\n",
    "    if re.match(reg_exp_num + reg_exp_region, number) :\n",
    "        result['region'] = re.findall(reg_exp_region, number)[1]\n",
    "        \n",
    "        #существующие трехзначные коды регионов (двухзначные вроде все есть)\n",
    "        allowed_region = ['102', '103', '113', '116', '121', '123', '124', \n",
    "                          '125', '126', '134', '136', '138', '150', '152', '154', '159',\n",
    "                          '161', '163', '164', '166', '173', '174', '177', '178', '186',\n",
    "                          '190', '196', '197', '199', '750', '777']\n",
    "        \n",
    "        #Проверяем, что указан существующий трехзначный номер\n",
    "        if len(result['region']) > 2 and not result['region'] in allowed_region: return wrong\n",
    "        \n",
    "        result['number'] = re.match(reg_exp_num, number).group(0)\n",
    "        return result\n",
    "    \n",
    "    return wrong\n",
    "\n",
    "numbers = ['У123ВВ199', '123ВВВ199', 'У12ВВ99', 'У123ВВ099', 'В123ВВ99', 'К123ВВ199', 'К123ВВ1991', 'К123ВВ299']\n",
    "\n",
    "for x in numbers:\n",
    "    print(car_number(x))"
   ]
  },
  {
   "cell_type": "markdown",
   "metadata": {},
   "source": [
    "## Задание 2"
   ]
  },
  {
   "cell_type": "markdown",
   "metadata": {},
   "source": [
    "Напишите функцию, которая проверяет e-mail адрес на валидность по стандарту RFC822: http://www.w3.org/Protocols/rfc822/. Для этого постарайтесь написать (в крайнем случае найти) самый полный шаблон для проверки e-mail адресов через регулярное выражение. Разберитесь и напишите примеры, какие ваш шаблон может не охватить."
   ]
  },
  {
   "cell_type": "code",
   "execution_count": 108,
   "metadata": {},
   "outputs": [
    {
     "data": {
      "text/plain": [
       "'Email is invalid'"
      ]
     },
     "execution_count": 108,
     "metadata": {},
     "output_type": "execute_result"
    }
   ],
   "source": [
    "def emails(str):\n",
    "    #напишу вам простейщую проверку\n",
    "    email=\".+@.+\\..+\"\n",
    "\n",
    "    #времени у меня не так много, поэтому нашел вам готовое решение\n",
    "    email=\"(?:[a-z0-9!#$%&'*+/=?^_`{|}~-]+(?:\\.[a-z0-9!#$%&'*+/=?^_`{|}~-]+)*|\\\"(?:[\\x01-\\x08\\x0b\\x0c\\x0e-\\x1f\\x21\\x23-\\x5b\\x5d-\\x7f]|\\\\[\\x01-\\x09\\x0b\\x0c\\x0e-\\x7f])*\\\")@(?:(?:[a-z0-9](?:[a-z0-9-]*[a-z0-9])?\\.)+[a-z0-9](?:[a-z0-9-]*[a-z0-9])?|\\[(?:(?:25[0-5]|2[0-4][0-9]|[01]?[0-9][0-9]?)\\.){3}(?:25[0-5]|2[0-4][0-9]|[01]?[0-9][0-9]?|[a-z0-9-]*[a-z0-9]:(?:[\\x01-\\x08\\x0b\\x0c\\x0e-\\x1f\\x21-\\x5a\\x53-\\x7f]|\\\\[\\x01-\\x09\\x0b\\x0c\\x0e-\\x7f])+)\\])\"\n",
    "    #чтобы его сюда вставить пришлось экранировать кавычки\n",
    "    #на сайте оригинала https://emailregex.com/ есть довольно уморительная схема работы запроса\n",
    "    #пока изучал, двинулся умом\n",
    "    \n",
    "    if re.match(email, str): return 'Email is valid'\n",
    "    else: return 'Email is invalid'\n",
    "    \n",
    "#а вот и валидный email, который регулярка считает не валидным\n",
    "email = '\"this is valid\"@email.ru'\n",
    "\n",
    "emails(email)"
   ]
  },
  {
   "cell_type": "markdown",
   "metadata": {},
   "source": [
    "## Задание 3\n",
    "При помощи регулярных выражений напишите функцию, которая будет возвращать акроним переданного в нее текста."
   ]
  },
  {
   "cell_type": "code",
   "execution_count": 40,
   "metadata": {},
   "outputs": [],
   "source": [
    "text = 'Государственный регистрационный номер на автомобиле – обязательный элемент. Это своего рода идентификатор, позволяющий выделить данное транспортное средство из большого множества аналогичных автомобилей, а потому наличие двух одинаковых номерных знаков у разных машин не допустимо.'"
   ]
  },
  {
   "cell_type": "code",
   "execution_count": 97,
   "metadata": {},
   "outputs": [
    {
     "data": {
      "text/plain": [
       "'ГрннаоэЭсрипвдтсибмааапндонзурмнд'"
      ]
     },
     "execution_count": 97,
     "metadata": {},
     "output_type": "execute_result"
    }
   ],
   "source": [
    "def acronim (str):\n",
    "    result = ''\n",
    "    for x in re.findall('(?<!\\w)\\w', str):\n",
    "        result += x\n",
    "    return result\n",
    "\n",
    "acronim(text)"
   ]
  },
  {
   "cell_type": "markdown",
   "metadata": {},
   "source": [
    "## Задание 4\n",
    "Напишите функцию, которая будет удалять все последовательные повторы слов из заданной строки."
   ]
  },
  {
   "cell_type": "code",
   "execution_count": 95,
   "metadata": {},
   "outputs": [
    {
     "data": {
      "text/plain": [
       "'Millions of people are searching for jobs, salary information, information company reviews, and interview questions. See what others are looking.looking for on Glassdoor today.'"
      ]
     },
     "execution_count": 95,
     "metadata": {},
     "output_type": "execute_result"
    }
   ],
   "source": [
    "str = 'Millions millions of people people are searching for jobs jobs  jobs, salary information, information company reviews, and interview questions. See what others are looking.looking for on Glassdoor today today.'\n",
    "\n",
    "def duplicate(str): \n",
    "    reg = r'(\\w+)(?=\\s+\\1)+'\n",
    "    \n",
    "    #Решил что только пробелами это просто, и эксперементировал, \n",
    "    #чтобы удалять повторы даже разделенные запятыми и точками, а не только пробелами\n",
    "    #хотя по логике вообще говоря это неправильно - \n",
    "    #повторение разделенное знаками препинания вероятнее всего не является задвоением\n",
    "    #reg = '(\\w+)(?=(\\s|[\\.,])+\\1)+' \n",
    "   \n",
    "    #str = str.strip()\n",
    "    #strip почему-то не убирает лишний пробел из текста, поэтому пришлось применять извращенный способ:\n",
    "    str = ' '.join(str.split())\n",
    "    \n",
    "    search = re.search(reg, str, flags = re.I)\n",
    "    \n",
    "    #По идеи задачу можно было бы изящнее решить, заменой повторяющегося слова через re.sub,\n",
    "    #но проблема в том, что если делать lookbehind, выдает ошибку \"look-behind requires fixed-width pattern\"\n",
    "    #В таком случае я не знаю, как вычленить регуляркой именно второе слово\n",
    "    while search:\n",
    "        start = search.span()[0]\n",
    "        end = search.span()[1]\n",
    "        length = end - start\n",
    "        str = str[:end] + str[end+length+1:] #плюс 1 на символ пробела\n",
    "        search = re.search(reg, str, flags = re.I)   \n",
    "    return str\n",
    "    \n",
    "    \n",
    "duplicate(str)"
   ]
  },
  {
   "cell_type": "markdown",
   "metadata": {},
   "source": [
    "## Задание 5\n",
    "Напишите функцию, которая будет проверять номер сотового телефона на валидность, если он валиден, то переводить его в формат:   \n",
    "+7(xxx)-xxx-xx-xx  \n",
    "Постарайтесь предусмотреть как можно больше адекватных форматов изначального ввода номера.\n",
    "Примеры правильных и неправильных форматов:\n",
    "- +1 555 555-55-55;\n",
    "- 5555555555;\n",
    "- 555555555;\n",
    "- 8(555)555-55-55;\n",
    "- +7 555 555 55 55;\n",
    "- 7(555) 555-55-55;\n",
    "- +7 555+555+55+55."
   ]
  },
  {
   "cell_type": "code",
   "execution_count": 2,
   "metadata": {},
   "outputs": [],
   "source": [
    "#мои примеры\n",
    "phones = [x.strip() for x in open('phones.txt', 'r')]"
   ]
  },
  {
   "cell_type": "code",
   "execution_count": 3,
   "metadata": {},
   "outputs": [
    {
     "name": "stdout",
     "output_type": "stream",
     "text": [
      "The phone number is not valid\n",
      "+7 (955) 555-41-51\n",
      "+7 (955) 555-42-52\n",
      "+7 (955) 555-43-53\n",
      "+7 (955) 555-44-54\n",
      "+7 (955) 555-45-56\n",
      "+7 (955) 555-45-56\n",
      "+7 (955) 585-55-55\n",
      "+7 (955) 555-55-55\n",
      "+7 (955) 555-55-55\n",
      "+7 (955) 555-44-54\n",
      "+7 (955) 555-44-54\n",
      "+7 (955) 585-55-55\n",
      "+7 (955) 555-55-55\n",
      "+7 (955) 555-55-55\n",
      "+7 (955) 555-44-54\n",
      "+7 (955) 555-44-54\n",
      "+7 (955) 555-55-55\n",
      "+7 (955) 555-55-55\n",
      "+7 (955) 555-55-55\n",
      "+7 (955) 555-55-55\n",
      "+7 (955) 555-55-55\n",
      "+7 (955) 555-55-55\n",
      "+7 (955) 555-55-55\n",
      "+7 (955) 555-55-55\n",
      "+7 (955) 555-55-55\n",
      "The phone number is not valid\n",
      "The phone number is not valid\n"
     ]
    }
   ],
   "source": [
    "def mobile(phone):\n",
    "    #полная регулярка для проверки номера, но для вывода в подмаске не пойдет\n",
    "    reg = r'^[+]*\\s*[78]*\\s*[(+-]*\\s*\\d{3}\\s*[)+-]*\\s*\\d{3}\\s*[+-]*\\d{2}\\s*[+-]*\\d{2}\\s*$'\n",
    "    \n",
    "    if not re.match(reg, phone):\n",
    "        return 'The phone number is not valid'\n",
    "    \n",
    "    #визуально становится очень тяжело работать с рег выражением, когда оно разрастается\n",
    "    #поэтому я буду делать разбивку по классам случая\n",
    "    \n",
    "    #итак, для кода номера (код страны сами подставим, т.к. номера только рус по заданию)\n",
    "    reg_code = r'^[9]\\d{2}|(?<=^[(])[9]\\d{2}|(?<=^[(]\\s)[9]\\d{2}' #просто цифры в начале или в скобках. первая цифра должна быть 9 в коде мобильного оператора. В задании из-за этого примеры не корректны \n",
    "    reg_code += r'|(?<=^8)\\d{3}|(?<=^8[(])\\d{3}|(?<=^8\\s)\\d{3}|(?<=^8[(]\\s)\\d{3}|(?<=^8\\s[(])\\d{3}|(?<=^8\\s[(]\\s)\\d{3}' #когда код страны 8\n",
    "    reg_code += r'|(?<=^7)\\d{3}|(?<=^7[(])\\d{3}|(?<=^7\\s)\\d{3}|(?<=^7[(]\\s)\\d{3}|(?<=^7\\s[(])\\d{3}|(?<=^7\\s[(]\\s)\\d{3}' #когда код страны 7\n",
    "    reg_code += r'|(?<=^\\+7)\\d{3}|(?<=^\\+7[(])\\d{3}|(?<=^\\+7\\s)\\d{3}|(?<=^\\+7[(]\\s)\\d{3}|(?<=^\\+7\\s[(])\\d{3}|(?<=^\\+7\\s[(]\\s)\\d{3}' #когда код страны +7\n",
    "    reg_code += r'|(?<=^\\+\\s7)\\d{3}|(?<=^\\+\\s7[(])\\d{3}|(?<=^\\+\\s7\\s)\\d{3}|(?<=^\\+\\s7[(]\\s)\\d{3}|(?<=^\\+\\s7\\s[(])\\d{3}|(?<=^\\+\\s7\\s[(]\\s)\\d{3}' #когда код страны + пробел 7\n",
    "    \n",
    "    code = re.search(reg_code, phone).group(0)\n",
    "    \n",
    "    #выделяем остальные цифры\n",
    "    reg_num = r'\\d{3}\\s*[-+]*\\d{2}\\s*[-+]*\\d{2}$' \n",
    "    \n",
    "    #можно было изгаляться и пробовать рег выражениям распарсить все по группам цифр, чтобы по отдельности собрать, \n",
    "    #ну типа num1 = '555', num2 = '55', num3 = '55'\n",
    "    #Но мое рег выражение изящнее, а сам способ считаю более эффективным и надежным:\n",
    "    num = re.search(reg_num, phone).group(0)\n",
    "    num = num.replace(' ', '')\n",
    "    num = num.replace('-', '') #для унификации\n",
    "    num = num.replace('+', '')\n",
    "    num = '-'.join([num[:3], num[3:5], num[5:]])\n",
    "    \n",
    "    return f'+7 ({code}) {num}'\n",
    "    \n",
    "for x in phones: print(mobile(x)) "
   ]
  }
 ],
 "metadata": {
  "kernelspec": {
   "display_name": "Python 3",
   "language": "python",
   "name": "python3"
  },
  "language_info": {
   "codemirror_mode": {
    "name": "ipython",
    "version": 3
   },
   "file_extension": ".py",
   "mimetype": "text/x-python",
   "name": "python",
   "nbconvert_exporter": "python",
   "pygments_lexer": "ipython3",
   "version": "3.7.4"
  }
 },
 "nbformat": 4,
 "nbformat_minor": 2
}
