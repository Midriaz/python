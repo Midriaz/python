{
 "cells": [
  {
   "cell_type": "markdown",
   "metadata": {},
   "source": [
    "# Задание 1"
   ]
  },
  {
   "cell_type": "code",
   "execution_count": 7,
   "metadata": {},
   "outputs": [
    {
     "data": {
      "text/plain": [
       "{'Code': 'DKK', 'Value': 95.6324}"
      ]
     },
     "execution_count": 7,
     "metadata": {},
     "output_type": "execute_result"
    }
   ],
   "source": [
    "import requests\n",
    "\n",
    "def max_rate() :\n",
    "    r = requests.get('https://www.cbr-xml-daily.ru/daily_json.js')\n",
    "    currency_info = r.json()['Valute']\n",
    "    max = {'Code': '', 'Value': 0}\n",
    "    \n",
    "    for key, value in currency_info.items():\n",
    "        if max['Value'] < value['Value'] :\n",
    "            max['Code'] = key\n",
    "            max['Value'] = value['Value']\n",
    "    \n",
    "    return max\n",
    "\n",
    "max_rate()"
   ]
  },
  {
   "cell_type": "markdown",
   "metadata": {},
   "source": [
    "# Задание 2"
   ]
  },
  {
   "cell_type": "code",
   "execution_count": 21,
   "metadata": {},
   "outputs": [
    {
     "name": "stdout",
     "output_type": "stream",
     "text": [
      "EUR has been changed 0.40 %\n",
      "USD has been changed 0.40 %\n",
      "71.4785\n",
      "64.0316\n"
     ]
    }
   ],
   "source": [
    "class Rate:\n",
    "    def __init__(self, format_='value'):\n",
    "        self.format = format_\n",
    "        self.diff = False # Добавим diff\n",
    "        \n",
    "    def set_diff(self, diff):\n",
    "        \"\"\"\n",
    "        Sets param to see rate or it's change\n",
    "        \"\"\"\n",
    "        if type(diff) == bool : self.diff = diff\n",
    "        else : print('diff must be boolean')\n",
    "    \n",
    "    def set_format(self,format_) : # Ваш класс требует рефакторинга\n",
    "        if  format_ == 'value' or format_ == 'full' : self.format = format_\n",
    "        else : print('Invalid format')\n",
    "    \n",
    "    def exchange_rates(self):\n",
    "        \"\"\"\n",
    "        Возвращает ответ сервиса с информацией о валютах в виде:\n",
    "        \n",
    "        {\n",
    "            'AMD': {\n",
    "                'CharCode': 'AMD',\n",
    "                'ID': 'R01060',\n",
    "                'Name': 'Армянских драмов',\n",
    "                'Nominal': 100,\n",
    "                'NumCode': '051',\n",
    "                'Previous': 14.103,\n",
    "                'Value': 14.0879\n",
    "                },\n",
    "            ...\n",
    "        }\n",
    "        \"\"\"\n",
    "        r = requests.get('https://www.cbr-xml-daily.ru/daily_json.js')\n",
    "        return r.json()['Valute']\n",
    "    \n",
    "    def make_format(self, currency):\n",
    "        \"\"\"\n",
    "        Возвращает информацию о валюте currency в двух вариантах:\n",
    "        - полная информация о валюте при self.format = 'full':\n",
    "        Rate('full').make_format('EUR')\n",
    "        {\n",
    "            'CharCode': 'EUR',\n",
    "            'ID': 'R01239',\n",
    "            'Name': 'Евро',\n",
    "            'Nominal': 1,\n",
    "            'NumCode': '978',\n",
    "            'Previous': 79.6765,\n",
    "            'Value': 79.4966\n",
    "        }\n",
    "        \n",
    "        Rate('value').make_format('EUR')\n",
    "        79.4966\n",
    "        \"\"\"\n",
    "        response = self.exchange_rates()\n",
    "        \n",
    "        if currency in response:\n",
    "            if self.format == 'full':\n",
    "                return response[currency]\n",
    "            \n",
    "            if self.format == 'value':\n",
    "                return response[currency]['Value']\n",
    "        \n",
    "        return 'Error'\n",
    "    \n",
    "    def rate_diff(self, currency):\n",
    "        return (currency['Value'] - currency['Previous']) / currency['Previous'] * 100\n",
    "    \n",
    "    def eur(self):\n",
    "        \"\"\"Возвращает курс евро на сегодня в формате self.format\"\"\"\n",
    "        if not self.diff : return self.make_format('EUR')\n",
    "        else : \n",
    "            format_ = self.format #хочу по максимуму использовать ваши функции, поэтому приходится изгаляться\n",
    "            self.set_format('full')\n",
    "            result = self.rate_diff(self.make_format('EUR'))\n",
    "            self.set_format('value')\n",
    "            return f'EUR has been changed {result:.2f} %'\n",
    "    \n",
    "    def usd(self):\n",
    "        \"\"\"Возвращает курс доллара на сегодня в формате self.format\"\"\"\n",
    "        if not self.diff : return self.make_format('USD')\n",
    "        else : \n",
    "            format_ = self.format #хочу по максимуму использовать ваши функции, поэтому приходится изгаляться\n",
    "            self.set_format('full')\n",
    "            result = self.rate_diff(self.make_format('USD'))\n",
    "            self.set_format('value')\n",
    "            return f'USD has been changed {result:.2f} %'\n",
    "    \n",
    "    def brl(self):\n",
    "        \"\"\"Возвращает курс бразильского реала на сегодня в формате self.format\"\"\"\n",
    "        return self.make_format('BRL')\n",
    "    \n",
    "r = Rate()\n",
    "r.set_diff(True)\n",
    "print(r.eur())\n",
    "print(r.usd())\n",
    "\n",
    "r.set_diff(False)\n",
    "print(r.eur())\n",
    "print(r.usd())"
   ]
  },
  {
   "cell_type": "markdown",
   "metadata": {},
   "source": [
    "# Задание 3\n",
    "Напишите класс Designer, который учитывает количество международных премий. Подсказки в коде занятия в разделе “Домашнее задание задача 3”."
   ]
  },
  {
   "cell_type": "code",
   "execution_count": 7,
   "metadata": {},
   "outputs": [
    {
     "name": "stdout",
     "output_type": "stream",
     "text": [
      "Дизайнер Настя уровня 3 и наград у неё 4\n"
     ]
    }
   ],
   "source": [
    "class Employee:\n",
    "    def __init__(self, name, seniority):\n",
    "        self.name = name\n",
    "        self.seniority = seniority\n",
    "        self.grade = 1\n",
    "    \n",
    "    def grade_up(self):\n",
    "        \"\"\"Повышает уровень сотрудника\"\"\"\n",
    "        self.grade += 1\n",
    "    \n",
    "    def publish_grade(self):\n",
    "        \"\"\"Публикация результатов аккредитации сотрудников\"\"\"\n",
    "        print(self.name, self.grade)\n",
    "\n",
    "class Designer(Employee):\n",
    "    def __init__(self, name, seniority, awards):\n",
    "        super().__init__(name, seniority)\n",
    "        self.awards = awards\n",
    "        \n",
    "    def new_award(self):\n",
    "        self.awards += 1\n",
    "    \n",
    "    def check_if_it_is_time_for_upgrade(self):\n",
    "        # для каждой аккредитации увеличиваем счетчик на 1\n",
    "        # пока считаем, что все разработчики проходят аккредитацию\n",
    "        self.seniority += 1\n",
    "        \n",
    "        # условие повышения сотрудника из презентации\n",
    "        if self.seniority % 7 == 0:\n",
    "            self.grade_up()\n",
    "        \n",
    "        # условие повышения сотрудника из презентации\n",
    "        if self.seniority % 9 == 0:\n",
    "            self.new_award()\n",
    "        \n",
    "    def publish_info(self):\n",
    "        # публикация результатов\n",
    "        print(f'Дизайнер {self.name} уровня {self.grade} и наград у неё {self.awards}')\n",
    "    \n",
    "nastya = Designer('Настя', seniority=0, awards=2)\n",
    "\n",
    "for i in range(20):\n",
    "    nastya.check_if_it_is_time_for_upgrade()\n",
    "\n",
    "nastya.publish_info()"
   ]
  }
 ],
 "metadata": {
  "kernelspec": {
   "display_name": "Python 3",
   "language": "python",
   "name": "python3"
  },
  "language_info": {
   "codemirror_mode": {
    "name": "ipython",
    "version": 3
   },
   "file_extension": ".py",
   "mimetype": "text/x-python",
   "name": "python",
   "nbconvert_exporter": "python",
   "pygments_lexer": "ipython3",
   "version": "3.7.4"
  }
 },
 "nbformat": 4,
 "nbformat_minor": 2
}
