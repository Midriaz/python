{
 "cells": [
  {
   "cell_type": "code",
   "execution_count": 6,
   "metadata": {},
   "outputs": [],
   "source": [
    "import numpy as np\n",
    "import pandas as pd\n",
    "\n",
    "from sklearn.linear_model import LinearRegression"
   ]
  },
  {
   "cell_type": "code",
   "execution_count": 7,
   "metadata": {},
   "outputs": [],
   "source": [
    "# Создаём сэмпл\n",
    "n_samples = 500"
   ]
  },
  {
   "cell_type": "markdown",
   "metadata": {},
   "source": [
    "Я сделаю жестокий пример: вероятность серфера умереть в зависимости от высоты волны и процента каменистости дна"
   ]
  },
  {
   "cell_type": "code",
   "execution_count": 31,
   "metadata": {},
   "outputs": [
    {
     "data": {
      "text/html": [
       "<div>\n",
       "<style scoped>\n",
       "    .dataframe tbody tr th:only-of-type {\n",
       "        vertical-align: middle;\n",
       "    }\n",
       "\n",
       "    .dataframe tbody tr th {\n",
       "        vertical-align: top;\n",
       "    }\n",
       "\n",
       "    .dataframe thead th {\n",
       "        text-align: right;\n",
       "    }\n",
       "</style>\n",
       "<table border=\"1\" class=\"dataframe\">\n",
       "  <thead>\n",
       "    <tr style=\"text-align: right;\">\n",
       "      <th></th>\n",
       "      <th>year_day</th>\n",
       "      <th>wave_height</th>\n",
       "      <th>square</th>\n",
       "      <th>rocks</th>\n",
       "      <th>death_rate</th>\n",
       "    </tr>\n",
       "  </thead>\n",
       "  <tbody>\n",
       "    <tr>\n",
       "      <td>0</td>\n",
       "      <td>177</td>\n",
       "      <td>914</td>\n",
       "      <td>1393</td>\n",
       "      <td>861.0</td>\n",
       "      <td>0.689879</td>\n",
       "    </tr>\n",
       "    <tr>\n",
       "      <td>1</td>\n",
       "      <td>203</td>\n",
       "      <td>443</td>\n",
       "      <td>1823</td>\n",
       "      <td>719.0</td>\n",
       "      <td>0.381786</td>\n",
       "    </tr>\n",
       "    <tr>\n",
       "      <td>2</td>\n",
       "      <td>104</td>\n",
       "      <td>106</td>\n",
       "      <td>2032</td>\n",
       "      <td>771.0</td>\n",
       "      <td>0.233881</td>\n",
       "    </tr>\n",
       "    <tr>\n",
       "      <td>3</td>\n",
       "      <td>310</td>\n",
       "      <td>1117</td>\n",
       "      <td>1217</td>\n",
       "      <td>418.0</td>\n",
       "      <td>0.637150</td>\n",
       "    </tr>\n",
       "    <tr>\n",
       "      <td>4</td>\n",
       "      <td>42</td>\n",
       "      <td>211</td>\n",
       "      <td>1658</td>\n",
       "      <td>1561.0</td>\n",
       "      <td>0.558665</td>\n",
       "    </tr>\n",
       "  </tbody>\n",
       "</table>\n",
       "</div>"
      ],
      "text/plain": [
       "   year_day  wave_height  square   rocks  death_rate\n",
       "0       177          914    1393   861.0    0.689879\n",
       "1       203          443    1823   719.0    0.381786\n",
       "2       104          106    2032   771.0    0.233881\n",
       "3       310         1117    1217   418.0    0.637150\n",
       "4        42          211    1658  1561.0    0.558665"
      ]
     },
     "execution_count": 31,
     "metadata": {},
     "output_type": "execute_result"
    }
   ],
   "source": [
    "#день года\n",
    "year_day = np.random.choice(365, n_samples) + 1\n",
    "\n",
    "#высота волны в см\n",
    "wave_height = np.random.choice(1200, n_samples)\n",
    "\n",
    "#общая площадь берега\n",
    "square = np.random.choice(2000, n_samples) + 100\n",
    "\n",
    "#площадь камней\n",
    "rocks = np.array([])\n",
    "for x in square:\n",
    "    rocks = np.append(rocks, np.random.randint(x - 100) + 100)  \n",
    "\n",
    "death_rate = 0.5 / 1200 * wave_height + 0.5 * rocks / square  \n",
    "\n",
    "data = pd.DataFrame({'year_day': year_day, 'wave_height': wave_height, 'square': square, 'rocks': rocks, 'death_rate': death_rate})\n",
    "data.head(5)"
   ]
  },
  {
   "cell_type": "markdown",
   "metadata": {},
   "source": [
    "Первым шагом пробуем линейную регрессию на все параметры"
   ]
  },
  {
   "cell_type": "code",
   "execution_count": 32,
   "metadata": {},
   "outputs": [
    {
     "name": "stdout",
     "output_type": "stream",
     "text": [
      "Weights: [-3.72548336e-06  4.26410378e-04 -2.26326152e-04  3.47751629e-04]\n",
      "Bias: 0.3249596615406196\n",
      "Error: 0.045003704182343174\n"
     ]
    }
   ],
   "source": [
    "from sklearn.metrics import mean_absolute_error\n",
    "\n",
    "X = data[['year_day', 'wave_height', 'square', 'rocks']]\n",
    "y = data['death_rate']\n",
    "reg = LinearRegression().fit(X, y)\n",
    "print('Weights: {}'.format(reg.coef_))\n",
    "print('Bias: {}'.format(reg.intercept_))\n",
    "\n",
    "pred_values = reg.predict(data[['year_day', 'wave_height', 'square', 'rocks']])\n",
    "print('Error: {}'.format(mean_absolute_error(pred_values, y)))"
   ]
  },
  {
   "cell_type": "code",
   "execution_count": 33,
   "metadata": {},
   "outputs": [
    {
     "data": {
      "text/plain": [
       "0.5493127053771807"
      ]
     },
     "execution_count": 33,
     "metadata": {},
     "output_type": "execute_result"
    }
   ],
   "source": [
    "data.death_rate.mean()"
   ]
  },
  {
   "cell_type": "markdown",
   "metadata": {},
   "source": [
    "Ошибка около 10%, что в общем то не так уж много, но...\n",
    "Удаляем из обучения признак \"день года\", маловероятно что он как то влияет, если только не верить в астрологию)"
   ]
  },
  {
   "cell_type": "code",
   "execution_count": 34,
   "metadata": {},
   "outputs": [
    {
     "name": "stdout",
     "output_type": "stream",
     "text": [
      "Weights: [ 0.00042637 -0.00022636  0.00034768]\n",
      "Bias: 0.32436580697983636\n",
      "Error: 0.04499451141880026\n"
     ]
    }
   ],
   "source": [
    "X = data[['wave_height', 'square', 'rocks']]\n",
    "\n",
    "reg = LinearRegression().fit(X, y)\n",
    "print('Weights: {}'.format(reg.coef_))\n",
    "print('Bias: {}'.format(reg.intercept_))\n",
    "\n",
    "pred_values = reg.predict(data[['wave_height', 'square', 'rocks']])\n",
    "print('Error: {}'.format(mean_absolute_error(pred_values, y)))"
   ]
  },
  {
   "cell_type": "markdown",
   "metadata": {},
   "source": [
    "Ошибка не сильно меньше стало, но оно не удивительно, вес года модель изначально определила очень маленьким"
   ]
  },
  {
   "cell_type": "code",
   "execution_count": 36,
   "metadata": {},
   "outputs": [
    {
     "data": {
      "text/html": [
       "<div>\n",
       "<style scoped>\n",
       "    .dataframe tbody tr th:only-of-type {\n",
       "        vertical-align: middle;\n",
       "    }\n",
       "\n",
       "    .dataframe tbody tr th {\n",
       "        vertical-align: top;\n",
       "    }\n",
       "\n",
       "    .dataframe thead th {\n",
       "        text-align: right;\n",
       "    }\n",
       "</style>\n",
       "<table border=\"1\" class=\"dataframe\">\n",
       "  <thead>\n",
       "    <tr style=\"text-align: right;\">\n",
       "      <th></th>\n",
       "      <th>year_day</th>\n",
       "      <th>wave_height</th>\n",
       "      <th>square</th>\n",
       "      <th>rocks</th>\n",
       "      <th>death_rate</th>\n",
       "      <th>danger</th>\n",
       "    </tr>\n",
       "  </thead>\n",
       "  <tbody>\n",
       "    <tr>\n",
       "      <td>0</td>\n",
       "      <td>177</td>\n",
       "      <td>914</td>\n",
       "      <td>1393</td>\n",
       "      <td>861.0</td>\n",
       "      <td>0.689879</td>\n",
       "      <td>0.618090</td>\n",
       "    </tr>\n",
       "    <tr>\n",
       "      <td>1</td>\n",
       "      <td>203</td>\n",
       "      <td>443</td>\n",
       "      <td>1823</td>\n",
       "      <td>719.0</td>\n",
       "      <td>0.381786</td>\n",
       "      <td>0.394405</td>\n",
       "    </tr>\n",
       "    <tr>\n",
       "      <td>2</td>\n",
       "      <td>104</td>\n",
       "      <td>106</td>\n",
       "      <td>2032</td>\n",
       "      <td>771.0</td>\n",
       "      <td>0.233881</td>\n",
       "      <td>0.379429</td>\n",
       "    </tr>\n",
       "    <tr>\n",
       "      <td>3</td>\n",
       "      <td>310</td>\n",
       "      <td>1117</td>\n",
       "      <td>1217</td>\n",
       "      <td>418.0</td>\n",
       "      <td>0.637150</td>\n",
       "      <td>0.343468</td>\n",
       "    </tr>\n",
       "    <tr>\n",
       "      <td>4</td>\n",
       "      <td>42</td>\n",
       "      <td>211</td>\n",
       "      <td>1658</td>\n",
       "      <td>1561.0</td>\n",
       "      <td>0.558665</td>\n",
       "      <td>0.941496</td>\n",
       "    </tr>\n",
       "  </tbody>\n",
       "</table>\n",
       "</div>"
      ],
      "text/plain": [
       "   year_day  wave_height  square   rocks  death_rate    danger\n",
       "0       177          914    1393   861.0    0.689879  0.618090\n",
       "1       203          443    1823   719.0    0.381786  0.394405\n",
       "2       104          106    2032   771.0    0.233881  0.379429\n",
       "3       310         1117    1217   418.0    0.637150  0.343468\n",
       "4        42          211    1658  1561.0    0.558665  0.941496"
      ]
     },
     "execution_count": 36,
     "metadata": {},
     "output_type": "execute_result"
    }
   ],
   "source": [
    "# Создаем новый признак из square и rocks, все-таки по отдельности они практически не имеют смысла. \n",
    "#Важна не общая площадь камней, а насколько дно каменистое\n",
    "data['danger'] = data['rocks'] / data['square']\n",
    "data.head(5)"
   ]
  },
  {
   "cell_type": "code",
   "execution_count": 37,
   "metadata": {},
   "outputs": [
    {
     "name": "stdout",
     "output_type": "stream",
     "text": [
      "Weights: [4.16666667e-04 5.00000000e-01]\n",
      "Bias: 0.0\n",
      "Error: 1.3043732760564807e-16\n"
     ]
    }
   ],
   "source": [
    "X = data[['wave_height', 'danger']]\n",
    "\n",
    "reg = LinearRegression().fit(X, y)\n",
    "print('Weights: {}'.format(reg.coef_))\n",
    "print('Bias: {}'.format(reg.intercept_))\n",
    "\n",
    "pred_values = reg.predict(data[['wave_height', 'danger']])\n",
    "print('Error: {}'.format(mean_absolute_error(pred_values, y)))"
   ]
  },
  {
   "cell_type": "markdown",
   "metadata": {},
   "source": [
    "Эх, так бы в жизни курс валют предсказывать :)"
   ]
  }
 ],
 "metadata": {
  "kernelspec": {
   "display_name": "Python 3",
   "language": "python",
   "name": "python3"
  },
  "language_info": {
   "codemirror_mode": {
    "name": "ipython",
    "version": 3
   },
   "file_extension": ".py",
   "mimetype": "text/x-python",
   "name": "python",
   "nbconvert_exporter": "python",
   "pygments_lexer": "ipython3",
   "version": "3.7.4"
  }
 },
 "nbformat": 4,
 "nbformat_minor": 2
}
