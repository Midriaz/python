{
 "cells": [
  {
   "cell_type": "markdown",
   "metadata": {},
   "source": [
    "# Домашнее задание 3\n",
    "## Задание 1"
   ]
  },
  {
   "cell_type": "code",
   "execution_count": 32,
   "metadata": {},
   "outputs": [],
   "source": [
    "stats = {'facebook': 55, 'yandex': 120, 'vk': 115, 'google': 99, 'email': 42, 'ok': 98}"
   ]
  },
  {
   "cell_type": "code",
   "execution_count": 30,
   "metadata": {},
   "outputs": [
    {
     "data": {
      "text/plain": [
       "'yandex'"
      ]
     },
     "execution_count": 30,
     "metadata": {},
     "output_type": "execute_result"
    }
   ],
   "source": [
    "# сортировка мне кажется не лучший способ, но захотелось поиграться\n",
    "result = sorted(stats.items(), key = lambda x: -x[1])\n",
    "\n",
    "result[0][0]"
   ]
  },
  {
   "cell_type": "code",
   "execution_count": 38,
   "metadata": {},
   "outputs": [
    {
     "data": {
      "text/plain": [
       "'yandex'"
      ]
     },
     "execution_count": 38,
     "metadata": {},
     "output_type": "execute_result"
    }
   ],
   "source": [
    "#более традиционный способ\n",
    "max = 0\n",
    "\n",
    "for key, value in stats.items() :\n",
    "    if value > max :\n",
    "        max = value\n",
    "        result = key\n",
    "\n",
    "result"
   ]
  },
  {
   "cell_type": "markdown",
   "metadata": {},
   "source": [
    "Можно попробовать проверить, что быстрее"
   ]
  },
  {
   "cell_type": "code",
   "execution_count": 53,
   "metadata": {},
   "outputs": [],
   "source": [
    "stats = {}\n",
    "for i in range(10**7):\n",
    "    stats[i] = i"
   ]
  },
  {
   "cell_type": "code",
   "execution_count": 54,
   "metadata": {},
   "outputs": [
    {
     "name": "stdout",
     "output_type": "stream",
     "text": [
      "Wall time: 1.52 s\n"
     ]
    },
    {
     "data": {
      "text/plain": [
       "9999999"
      ]
     },
     "execution_count": 54,
     "metadata": {},
     "output_type": "execute_result"
    }
   ],
   "source": [
    "%%time\n",
    "\n",
    "result = sorted(stats.items(), key = lambda x: -x[1])\n",
    "\n",
    "result[0][0]"
   ]
  },
  {
   "cell_type": "code",
   "execution_count": 55,
   "metadata": {},
   "outputs": [
    {
     "name": "stdout",
     "output_type": "stream",
     "text": [
      "Wall time: 1.47 s\n"
     ]
    },
    {
     "data": {
      "text/plain": [
       "9999999"
      ]
     },
     "execution_count": 55,
     "metadata": {},
     "output_type": "execute_result"
    }
   ],
   "source": [
    "%%time\n",
    "max = 0\n",
    "\n",
    "for key, value in stats.items() :\n",
    "    if value > max :\n",
    "        max = value\n",
    "        result = key\n",
    "\n",
    "result"
   ]
  },
  {
   "cell_type": "markdown",
   "metadata": {},
   "source": [
    "Разница на 10 в степени 7 вроде небольшая, но вот на степени 8 вариант с сортировкой выполняется настолько долго, что у меня повесил браузер."
   ]
  },
  {
   "cell_type": "markdown",
   "metadata": {},
   "source": [
    "## Задание 2"
   ]
  },
  {
   "cell_type": "code",
   "execution_count": 58,
   "metadata": {},
   "outputs": [],
   "source": [
    "descriptions = [\n",
    "['браслет', 'xiaomi', 'mi', 'band', '2.', 'умный', 'браслет', 'xiaomi', 'mi', 'лидер', 'в', 'линейке', 'xiaomi.', 'фитнес', 'браслет', 'для', 'android', '4.4,', 'ios', '7,', 'экран', 'oled.', 'лучший', 'выбор', 'xiaomi'],\n",
    "['браслет', 'huawei', 'honor', 'band', '3.', 'фитнес', 'браслет', 'влагозащищенный', 'сенсорный', 'экран', 'android,', 'ios', 'мониторинг', 'сна'],\n",
    "['браслет', 'samsung', 'gear', 'fit2', 'pro.', 'влагозащищенный', 'сенсорный', 'amoled-экран', 'мониторинг', 'сна,', 'калорий,', 'новинка', 'samsung'],\n",
    "]"
   ]
  },
  {
   "cell_type": "code",
   "execution_count": 71,
   "metadata": {},
   "outputs": [
    {
     "data": {
      "text/plain": [
       "[{'description': 0, 'nonunique': 12, 'unique': 13},\n",
       " {'description': 1, 'nonunique': 9, 'unique': 5},\n",
       " {'description': 2, 'nonunique': 6, 'unique': 7}]"
      ]
     },
     "execution_count": 71,
     "metadata": {},
     "output_type": "execute_result"
    }
   ],
   "source": [
    "# давайте заведем словарь, где мы будем фиксировать частоту употребления слов \n",
    "use = {}\n",
    "\n",
    "for i in descriptions:\n",
    "    for keyword in i:\n",
    "        if not use.get(keyword):\n",
    "            use[keyword] = 1\n",
    "        else :\n",
    "            use[keyword] += 1\n",
    "\n",
    "# и тут я понял, что задание в другом состояло, \"глазами\" не заметил, что слова повторяются в рамках одного описания\n",
    "# ладно, давайте доведу свое видение до конца, а потом сделаю как требовалось по заданию\n",
    "\n",
    "calc = []\n",
    "j = 0\n",
    "\n",
    "for i in descriptions:\n",
    "    calc.append({'description': j})\n",
    "    for keyword in i:\n",
    "        \n",
    "        calc[j].setdefault('nonunique', 0)\n",
    "        calc[j].setdefault('unique', 0)\n",
    "        if use[keyword] > 1:\n",
    "            calc[j]['nonunique'] += 1\n",
    "        else :\n",
    "            calc[j]['unique'] += 1\n",
    "    j += 1\n",
    "    \n",
    "calc # еще и метрику не ту сделал, и дальше будет ясно, почему вы просите именно эту метрику"
   ]
  },
  {
   "cell_type": "code",
   "execution_count": 79,
   "metadata": {},
   "outputs": [
    {
     "name": "stdout",
     "output_type": "stream",
     "text": [
      "Для описания ['браслет', 'xiaomi', 'mi', 'band', '2.', 'умный', 'браслет', 'xiaomi', 'mi', 'лидер', 'в', 'линейке', 'xiaomi.', 'фитнес', 'браслет', 'для', 'android', '4.4,', 'ios', '7,', 'экран', 'oled.', 'лучший', 'выбор', 'xiaomi'] разница 5 слов\n",
      "Для описания ['браслет', 'huawei', 'honor', 'band', '3.', 'фитнес', 'браслет', 'влагозащищенный', 'сенсорный', 'экран', 'android,', 'ios', 'мониторинг', 'сна'] разница 1 слов\n",
      "Для описания ['браслет', 'samsung', 'gear', 'fit2', 'pro.', 'влагозащищенный', 'сенсорный', 'amoled-экран', 'мониторинг', 'сна,', 'калорий,', 'новинка', 'samsung'] разница 1 слов\n"
     ]
    }
   ],
   "source": [
    "# ок, теперь ищем в рамках только одного описания\n",
    "\n",
    "for i in descriptions:\n",
    "    unique = set(i) #множеством оставляем только уникальные\n",
    "    print(f'Для описания {i} разница {len(i) - len(unique)} слов')"
   ]
  },
  {
   "cell_type": "markdown",
   "metadata": {},
   "source": [
    "## Задание 3"
   ]
  },
  {
   "cell_type": "code",
   "execution_count": 16,
   "metadata": {},
   "outputs": [],
   "source": [
    "stats_dict = {}\n",
    "\n",
    "n = 2\n",
    "\n",
    "with open('stats.csv') as f: #Функции не проходили, не стал оформлять в виде функции\n",
    "    for line in f:\n",
    "        line = line.strip().split(',')\n",
    "        if n >= len(line):\n",
    "            n = len(line) - 1\n",
    "        stats_dict[tuple(line[:n])] = line[n:len(line)]"
   ]
  }
 ],
 "metadata": {
  "kernelspec": {
   "display_name": "Python 3",
   "language": "python",
   "name": "python3"
  },
  "language_info": {
   "codemirror_mode": {
    "name": "ipython",
    "version": 3
   },
   "file_extension": ".py",
   "mimetype": "text/x-python",
   "name": "python",
   "nbconvert_exporter": "python",
   "pygments_lexer": "ipython3",
   "version": "3.7.3"
  }
 },
 "nbformat": 4,
 "nbformat_minor": 2
}
