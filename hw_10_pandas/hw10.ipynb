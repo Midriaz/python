{
 "cells": [
  {
   "cell_type": "markdown",
   "metadata": {},
   "source": [
    "# Задание 1\n",
    "Скачайте с сайта https://grouplens.org/datasets/movielens/ датасет любого размера. Определите какому фильму было выставлено больше всего оценок 5.0."
   ]
  },
  {
   "cell_type": "code",
   "execution_count": 85,
   "metadata": {},
   "outputs": [
    {
     "name": "stdout",
     "output_type": "stream",
     "text": [
      "Фильм Shawshank Redemption, The (1994) получил 153 оценок \"отлично\" - это рекорд\n"
     ]
    }
   ],
   "source": [
    "import pandas as pd\n",
    "\n",
    "data = pd.read_csv('ratings.csv')\n",
    "result = dict(data[data['rating'] == 5]['movieId'].value_counts().head(1)) #Конвертируем в словарь для дальнейщего обращения к значения\n",
    "\n",
    "movies = pd.read_csv('movies.csv')\n",
    "\n",
    "for key, value in result.items(): #не знаю как просто обратиться к первому и единственному элементу словаря\n",
    "    title = movies[movies['movieId'] == key] \n",
    "   \n",
    "    title = title.filter(items = ['title']).iloc[0]['title']\n",
    "    print(f'Фильм {title} получил {value} оценок \"отлично\" - это рекорд!')"
   ]
  },
  {
   "cell_type": "markdown",
   "metadata": {},
   "source": [
    "# Задание 2\n",
    "По данным файла power.csv посчитайте суммарное потребление стран Прибалтики (Латвия, Литва и Эстония) категорий 4, 12 и 21 за период с 2005 по 2010 года. Не учитывайте в расчетах отрицательные значения quantity."
   ]
  },
  {
   "cell_type": "code",
   "execution_count": 53,
   "metadata": {},
   "outputs": [
    {
     "data": {
      "text/plain": [
       "240580.0"
      ]
     },
     "execution_count": 53,
     "metadata": {},
     "output_type": "execute_result"
    }
   ],
   "source": [
    "power = pd.read_csv('power.csv')\n",
    "\n",
    "pribalti = power[(power['country'] == 'Latvia') | (power['country'] == 'Estonia') | (power['country'] == 'Lithuania')]\n",
    "pribalti = pribalti[(pribalti['category'] == 4) | (pribalti['category'] == 12) | (pribalti['category'] == 21)] #Можно в одну было строку, но за экран уезжает\n",
    "pribalti = pribalti[(pribalti['year'] > 2004) & (pribalti['year'] < 2011) & (pribalti['quantity'] > 0)]\n",
    "\n",
    "pribalti['quantity'].sum()"
   ]
  },
  {
   "cell_type": "markdown",
   "metadata": {},
   "source": [
    "# Задание 3\n",
    "Выберите страницу любого сайта с табличными данными. Импортируйте таблицы в pandas dataframe.\n",
    "Примеры страниц (необязательно брать именно эти):\n",
    "https://fortrader.org/quotes\n",
    "https://www.finanz.ru/valyuty/v-realnom-vremeni"
   ]
  },
  {
   "cell_type": "code",
   "execution_count": 56,
   "metadata": {},
   "outputs": [
    {
     "data": {
      "text/plain": [
       "[                               Type    Last   Chg.  Chg.%  Time\n",
       " 0  Нефть (BRENT) Курс нефти сегодня  62.680  0.930  1.510   NaN\n",
       " 1   Нефть (WTI) Цены на нефть (WTI)  57.680  1.310  2.320   NaN\n",
       " 2          Сахар котировки на сахар  12.630  0.000  0.000   NaN\n",
       " 3                   Газ Цена на газ   2.773 -0.048 -1.702   NaN,\n",
       "                                     Type          Last      Chg.    Chg.%  \\\n",
       " 0                      ВТБ Акции ОАО ВТБ       0.04437  +0.00155   3.6198   \n",
       " 1                 Газпром Акции газпрома     270.84000    +28.97  11.9800   \n",
       " 2                    Лукоил Акции Лукойл    6140.00000     +18.0   0.3000   \n",
       " 3                Роснефть Акции Роснефти     463.90000    +42.65  10.1200   \n",
       " 4               Сбербанк Акции Сбербанка     242.22000     +1.07   0.4400   \n",
       " 5   Сургутнефтегаз Акции Сургутнефтегаза      47.18500    +5.570  13.3850   \n",
       " 6              Норникель Акции Норникель   18696.00000      +432   2.0000   \n",
       " 7               Аэрофлот Акции Аерофлота     106.30000     +9.49   9.8000   \n",
       " 8            Северсталь Акции Северсталь     930.60000     +54.8   6.3000   \n",
       " 9            Транснефть Акции транснефти  174350.00000    +8 050   5.0000   \n",
       " 10     Ростелеком Курс акций ростелекома      79.08000     +6.25   8.5800   \n",
       " 11                     RUSAL акции RUSAL       3.63000     +0.01   0.2800   \n",
       " \n",
       "     Time  \n",
       " 0    NaN  \n",
       " 1    NaN  \n",
       " 2    NaN  \n",
       " 3    NaN  \n",
       " 4    NaN  \n",
       " 5    NaN  \n",
       " 6    NaN  \n",
       " 7    NaN  \n",
       " 8    NaN  \n",
       " 9    NaN  \n",
       " 10   NaN  \n",
       " 11   NaN  ,\n",
       "                           Type      Last    Chg.   Chg.%  Time\n",
       " 0      Серебро Цена на серебро    17.020  -0.572 -3.2510   NaN\n",
       " 1      Платина Цены на платину   913.000 -18.200 -2.0000   NaN\n",
       " 2    Палладий Цена на палладий  1768.600   6.000  0.3400   NaN\n",
       " 3      Медь Цена меди на бирже     2.724   0.054  2.0225   NaN\n",
       " 4  Золото Цена золота на бирже  1464.940 -25.430 -1.7100   NaN,\n",
       "                                 Type    Last   Chg.  Chg.%  Time\n",
       " 0               Яндекс Акции яндекса   34.38   0.18   0.53   NaN\n",
       " 1          Microsoft Microsoft Corp.  144.64   0.62   0.43   NaN\n",
       " 2                  APPLE Акции APPLE  259.81   3.13   1.22   NaN\n",
       " 3                Toyota Акции Тойоты  120.94   0.00   0.00   NaN\n",
       " 4   Volkswagen Курс акций Volkswagen  181.90   4.00   2.25   NaN\n",
       " 5       Facebook Цена акций Facebook  191.95   0.73   0.38   NaN\n",
       " 6          Tesla Цены на акции Тесла  338.56  13.15   4.04   NaN\n",
       " 7          Twiter Цена акций твитера   29.20  -0.32  -1.08   NaN\n",
       " 8  Hasbro Цена на акции Hasbro, Inc.   95.98  11.11  13.09   NaN,\n",
       "                                                 Type       Last     Chg.  \\\n",
       " 0                         EURUSD Курс евро к доллару    1.10416 -0.00242   \n",
       " 1   AUDUSD Курс австралийского доллара к доллару сша    0.69059  0.00239   \n",
       " 2         AUDCAD Australian Dollar / Canadian Dollar    0.91022  0.00311   \n",
       " 3                          EURCHF Euro / Swiss Franc    1.10078  0.00238   \n",
       " 4                  EURGBP Euro / Great Britain Pound    0.86141  0.00082   \n",
       " 5                         EURJPY Euro / Japanese Yen  120.82800  0.25700   \n",
       " 6          GBPJPY Great Britain Pound / Japanese Yen  140.23300  0.18000   \n",
       " 7                        GBPUSD Курс фунта к доллару    1.28152 -0.00381   \n",
       " 8       USDCAD Курс канадского доллара к доллару сша    1.31799  0.00004   \n",
       " 9              NZDUSD New Zealand Dollar / US Dollar    0.63593 -0.00070   \n",
       " 10                    USDCHF US Dollar / Swiss Franc    0.99692  0.00430   \n",
       " 11         USDCNH Курс китайского юаня к доллару США    6.95724 -0.10875   \n",
       " 12                        USDJPY Курс йены к доллару  109.42700  0.46600   \n",
       " \n",
       "       Chg.%  Time  \n",
       " 0  -0.21869   NaN  \n",
       " 1   0.34728   NaN  \n",
       " 2   0.34285   NaN  \n",
       " 3   0.21668   NaN  \n",
       " 4   0.09528   NaN  \n",
       " 5   0.21300   NaN  \n",
       " 6   0.12900   NaN  \n",
       " 7  -0.29642   NaN  \n",
       " 8   0.00304   NaN  \n",
       " 9  -0.10995   NaN  \n",
       " 10  0.43320   NaN  \n",
       " 11 -1.53906   NaN  \n",
       " 12  0.42800   NaN  ,\n",
       "                                                  Type           Last  \\\n",
       " 0                               Bitcoin Курс биткоина    9198.470000   \n",
       " 1          Litecoin Курс лайткоин к доллару (LTC/USD)      61.461000   \n",
       " 2   BitcoinCash Курс Биткоин кеш к доллару США (BC...     288.720000   \n",
       " 3                                           Dash Dash      71.690000   \n",
       " 4                                       Ripple Ripple       0.290160   \n",
       " 5                                   Ethereum Ethereum     185.420000   \n",
       " 6                                   EmerCoin EmerCoin       0.140050   \n",
       " 7                                   NameCoin NameCoin       0.274000   \n",
       " 8                                   PeerCoin PeerCoin       1.300000   \n",
       " 9                             BTCRUB биткоин в рублях  247059.000000   \n",
       " 10                              BTCEUR биткоин в евро    8301.070000   \n",
       " 11                                        Zcash (ZEC)      38.675000   \n",
       " 12                                          NEO (NEO)      10.873000   \n",
       " 13                                          EOS (EOS)       3.465800   \n",
       " 14                                         TRON (TRX)       0.019498   \n",
       " 15                                             Monero      62.865000   \n",
       " 16                                            Cardano       0.045114   \n",
       " 17                                               IOTA       0.270700   \n",
       " 18                       ETC/USD эфириум классик, ETC       5.183100   \n",
       " \n",
       "          Chg.      Chg.%  Time  \n",
       " 0    -114.280  -1.227000   NaN  \n",
       " 1      -2.783  -4.332000   NaN  \n",
       " 2     -13.420  -4.442000   NaN  \n",
       " 3      -2.510  -3.383000   NaN  \n",
       " 4    -0.01779  -5.776910   NaN  \n",
       " 5      -5.090  -2.672000   NaN  \n",
       " 6     0.00000   0.000000   NaN  \n",
       " 7      -0.051 -15.692000   NaN  \n",
       " 8       +0.16  14.040000   NaN  \n",
       " 9   -3 097.00  -1.240000   NaN  \n",
       " 10    -84.190  -1.004000   NaN  \n",
       " 11     -0.361  -0.925000   NaN  \n",
       " 12     -0.235  -2.116000   NaN  \n",
       " 13    -0.1452  -4.021000   NaN  \n",
       " 14  -0.000761  -3.756355   NaN  \n",
       " 15     -1.335  -2.079000   NaN  \n",
       " 16  +0.000786   1.773146   NaN  \n",
       " 17    -0.0107  -3.809300   NaN  \n",
       " 18    +0.0931   1.829100   NaN  ,\n",
       "                                        Type       Last    Chg.  Chg.%  Time\n",
       " 0   Фьючерс РТС Курс фьючерса на индекс РТС  118130.00    0.00   0.00   NaN\n",
       " 1                      РТС Курс индекса РТС    1480.35   23.00   1.58   NaN\n",
       " 2                                     DAX30   13285.50  119.40   0.90   NaN\n",
       " 3                       Индекс Dow 30 (DJI)   27694.00  270.00   1.00   NaN\n",
       " 4                                      FTSE    7137.70 -227.40  -3.10   NaN\n",
       " 5                                    CAC 40    5279.70    0.00   0.00   NaN\n",
       " 6                                Nasdaq 100    8261.94   50.48   0.61   NaN\n",
       " 7                              Russell 2000    1594.50    6.20   0.40   NaN\n",
       " 8                                   S&P 500    2816.30   10.80   0.40   NaN\n",
       " 9                                   IBEX 35    9440.60   63.40   0.70   NaN\n",
       " 10                               Nikkei 225   21779.00   39.00   0.00   NaN\n",
       " 11                            Euro Stoxx 50    3703.00   19.10   0.50   NaN\n",
       " 12                                  S&P 500    3090.00   16.20   0.50   NaN\n",
       " 13                              S&P/ASX 200    6749.80   67.90   1.00   NaN\n",
       " 14                                      MIB   23443.00  165.00   1.00   NaN,\n",
       "                                Type     Last    Chg.   Chg.%  Time\n",
       " 0  EURRUB Курс евро к рублю сегодня  69.9060 -0.7520 -1.0640   NaN\n",
       " 1       USDRUB Курс рубля к доллару  63.4743 -0.3267 -0.5121   NaN]"
      ]
     },
     "execution_count": 56,
     "metadata": {},
     "output_type": "execute_result"
    }
   ],
   "source": [
    "trade = pd.read_html('https://fortrader.org/quotes')\n",
    "trade #И всё?!"
   ]
  }
 ],
 "metadata": {
  "kernelspec": {
   "display_name": "Python 3",
   "language": "python",
   "name": "python3"
  },
  "language_info": {
   "codemirror_mode": {
    "name": "ipython",
    "version": 3
   },
   "file_extension": ".py",
   "mimetype": "text/x-python",
   "name": "python",
   "nbconvert_exporter": "python",
   "pygments_lexer": "ipython3",
   "version": "3.7.4"
  }
 },
 "nbformat": 4,
 "nbformat_minor": 2
}
