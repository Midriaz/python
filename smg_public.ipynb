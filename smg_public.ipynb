{
 "cells": [
  {
   "cell_type": "markdown",
   "metadata": {},
   "source": [
    "Олег, доброго времени суток.\n",
    "Добро пожаловать в мой аналитический отчет :)\n",
    "Увы, он для Вас вряд ли будет таким интересным, как Вы рассказывали на занятии.\n",
    "Но вот такая у меня скучная работа)\n",
    "Все опять же банально.\n",
    "Есть сайт по аренде аттракционов, на нем висит счетчик метрики. Я с него выгрузил сырые данные по просмотрам (визиты увы не удалось выгрузить, там такая ошибка, что даже Константин Башевой пасанул, как и \"коллеги с метрики\"), но вообщем-то и просмотров для моих целей должно будет хватить.\n",
    "Какого-то вау эффекта не ждите, зато эти данные я потом буду реально использовать :)"
   ]
  },
  {
   "cell_type": "markdown",
   "metadata": {},
   "source": [
    "Если интересно, то сайт https://attrakcion-vsem.ru/ но там как раз поменяли дизайн полностью, а данные релевантны для старой версии"
   ]
  },
  {
   "cell_type": "code",
   "execution_count": 52,
   "metadata": {},
   "outputs": [],
   "source": [
    "import pandas as pd"
   ]
  },
  {
   "cell_type": "code",
   "execution_count": 53,
   "metadata": {},
   "outputs": [],
   "source": [
    "hits = pd.read_csv('sql3.csv', low_memory=False)"
   ]
  },
  {
   "cell_type": "code",
   "execution_count": 54,
   "metadata": {},
   "outputs": [
    {
     "data": {
      "text/html": [
       "<div>\n",
       "<style scoped>\n",
       "    .dataframe tbody tr th:only-of-type {\n",
       "        vertical-align: middle;\n",
       "    }\n",
       "\n",
       "    .dataframe tbody tr th {\n",
       "        vertical-align: top;\n",
       "    }\n",
       "\n",
       "    .dataframe thead th {\n",
       "        text-align: right;\n",
       "    }\n",
       "</style>\n",
       "<table border=\"1\" class=\"dataframe\">\n",
       "  <thead>\n",
       "    <tr style=\"text-align: right;\">\n",
       "      <th></th>\n",
       "      <th>Artificial</th>\n",
       "      <th>Browser</th>\n",
       "      <th>BrowserCountry</th>\n",
       "      <th>BrowserEngine</th>\n",
       "      <th>BrowserEngineVersion1</th>\n",
       "      <th>BrowserEngineVersion2</th>\n",
       "      <th>BrowserEngineVersion3</th>\n",
       "      <th>BrowserEngineVersion4</th>\n",
       "      <th>BrowserLanguage</th>\n",
       "      <th>BrowserMajorVersion</th>\n",
       "      <th>...</th>\n",
       "      <th>Title</th>\n",
       "      <th>URL</th>\n",
       "      <th>UTMCampaign</th>\n",
       "      <th>UTMContent</th>\n",
       "      <th>UTMMedium</th>\n",
       "      <th>UTMSource</th>\n",
       "      <th>UTMTerm</th>\n",
       "      <th>WatchID</th>\n",
       "      <th>WindowClientHeight</th>\n",
       "      <th>WindowClientWidth</th>\n",
       "    </tr>\n",
       "  </thead>\n",
       "  <tbody>\n",
       "    <tr>\n",
       "      <td>0</td>\n",
       "      <td>0</td>\n",
       "      <td>opera</td>\n",
       "      <td>NaN</td>\n",
       "      <td>WebKit</td>\n",
       "      <td>537</td>\n",
       "      <td>36</td>\n",
       "      <td>0</td>\n",
       "      <td>0</td>\n",
       "      <td>ru</td>\n",
       "      <td>49</td>\n",
       "      <td>...</td>\n",
       "      <td>Casino</td>\n",
       "      <td>http://attrakcion-vsem.ru/index.php?option=com...</td>\n",
       "      <td>NaN</td>\n",
       "      <td>NaN</td>\n",
       "      <td>NaN</td>\n",
       "      <td>NaN</td>\n",
       "      <td>NaN</td>\n",
       "      <td>18032239452380999881</td>\n",
       "      <td>885</td>\n",
       "      <td>1263</td>\n",
       "    </tr>\n",
       "    <tr>\n",
       "      <td>1</td>\n",
       "      <td>0</td>\n",
       "      <td>yandex_browser</td>\n",
       "      <td>NaN</td>\n",
       "      <td>WebKit</td>\n",
       "      <td>537</td>\n",
       "      <td>36</td>\n",
       "      <td>0</td>\n",
       "      <td>0</td>\n",
       "      <td>ru</td>\n",
       "      <td>17</td>\n",
       "      <td>...</td>\n",
       "      <td>Аренда игровой приставки Sony Playstation 3 и ...</td>\n",
       "      <td>http://attrakcion-vsem.ru/sony-playstation</td>\n",
       "      <td>NaN</td>\n",
       "      <td>NaN</td>\n",
       "      <td>NaN</td>\n",
       "      <td>NaN</td>\n",
       "      <td>NaN</td>\n",
       "      <td>18031560362332262095</td>\n",
       "      <td>656</td>\n",
       "      <td>1349</td>\n",
       "    </tr>\n",
       "    <tr>\n",
       "      <td>2</td>\n",
       "      <td>1</td>\n",
       "      <td>yandex_browser</td>\n",
       "      <td>NaN</td>\n",
       "      <td>WebKit</td>\n",
       "      <td>537</td>\n",
       "      <td>36</td>\n",
       "      <td>0</td>\n",
       "      <td>0</td>\n",
       "      <td>ru</td>\n",
       "      <td>17</td>\n",
       "      <td>...</td>\n",
       "      <td>NaN</td>\n",
       "      <td>http://attrakcion-vsem.ru/sony-playstation</td>\n",
       "      <td>NaN</td>\n",
       "      <td>NaN</td>\n",
       "      <td>NaN</td>\n",
       "      <td>NaN</td>\n",
       "      <td>NaN</td>\n",
       "      <td>18031564298077867727</td>\n",
       "      <td>656</td>\n",
       "      <td>1349</td>\n",
       "    </tr>\n",
       "    <tr>\n",
       "      <td>3</td>\n",
       "      <td>0</td>\n",
       "      <td>NaN</td>\n",
       "      <td>us</td>\n",
       "      <td>Unknown</td>\n",
       "      <td>0</td>\n",
       "      <td>0</td>\n",
       "      <td>0</td>\n",
       "      <td>0</td>\n",
       "      <td>en</td>\n",
       "      <td>0</td>\n",
       "      <td>...</td>\n",
       "      <td>Аренда аттракционов</td>\n",
       "      <td>http://attrakcion-vsem.ru/</td>\n",
       "      <td>NaN</td>\n",
       "      <td>NaN</td>\n",
       "      <td>NaN</td>\n",
       "      <td>NaN</td>\n",
       "      <td>NaN</td>\n",
       "      <td>18034622214498958093</td>\n",
       "      <td>300</td>\n",
       "      <td>400</td>\n",
       "    </tr>\n",
       "    <tr>\n",
       "      <td>4</td>\n",
       "      <td>0</td>\n",
       "      <td>yandex_browser</td>\n",
       "      <td>NaN</td>\n",
       "      <td>WebKit</td>\n",
       "      <td>537</td>\n",
       "      <td>36</td>\n",
       "      <td>0</td>\n",
       "      <td>0</td>\n",
       "      <td>ru</td>\n",
       "      <td>17</td>\n",
       "      <td>...</td>\n",
       "      <td>Casino</td>\n",
       "      <td>http://attrakcion-vsem.ru/index.php?option=com...</td>\n",
       "      <td>NaN</td>\n",
       "      <td>NaN</td>\n",
       "      <td>NaN</td>\n",
       "      <td>NaN</td>\n",
       "      <td>NaN</td>\n",
       "      <td>18032995809069114072</td>\n",
       "      <td>562</td>\n",
       "      <td>360</td>\n",
       "    </tr>\n",
       "  </tbody>\n",
       "</table>\n",
       "<p>5 rows × 74 columns</p>\n",
       "</div>"
      ],
      "text/plain": [
       "   Artificial         Browser BrowserCountry BrowserEngine  \\\n",
       "0           0           opera            NaN        WebKit   \n",
       "1           0  yandex_browser            NaN        WebKit   \n",
       "2           1  yandex_browser            NaN        WebKit   \n",
       "3           0             NaN             us       Unknown   \n",
       "4           0  yandex_browser            NaN        WebKit   \n",
       "\n",
       "   BrowserEngineVersion1  BrowserEngineVersion2  BrowserEngineVersion3  \\\n",
       "0                    537                     36                      0   \n",
       "1                    537                     36                      0   \n",
       "2                    537                     36                      0   \n",
       "3                      0                      0                      0   \n",
       "4                    537                     36                      0   \n",
       "\n",
       "   BrowserEngineVersion4 BrowserLanguage  BrowserMajorVersion  ...  \\\n",
       "0                      0              ru                   49  ...   \n",
       "1                      0              ru                   17  ...   \n",
       "2                      0              ru                   17  ...   \n",
       "3                      0              en                    0  ...   \n",
       "4                      0              ru                   17  ...   \n",
       "\n",
       "                                               Title  \\\n",
       "0                                             Casino   \n",
       "1  Аренда игровой приставки Sony Playstation 3 и ...   \n",
       "2                                                NaN   \n",
       "3                                Аренда аттракционов   \n",
       "4                                             Casino   \n",
       "\n",
       "                                                 URL  UTMCampaign  UTMContent  \\\n",
       "0  http://attrakcion-vsem.ru/index.php?option=com...          NaN         NaN   \n",
       "1         http://attrakcion-vsem.ru/sony-playstation          NaN         NaN   \n",
       "2         http://attrakcion-vsem.ru/sony-playstation          NaN         NaN   \n",
       "3                         http://attrakcion-vsem.ru/          NaN         NaN   \n",
       "4  http://attrakcion-vsem.ru/index.php?option=com...          NaN         NaN   \n",
       "\n",
       "   UTMMedium UTMSource UTMTerm               WatchID  WindowClientHeight  \\\n",
       "0        NaN       NaN     NaN  18032239452380999881                 885   \n",
       "1        NaN       NaN     NaN  18031560362332262095                 656   \n",
       "2        NaN       NaN     NaN  18031564298077867727                 656   \n",
       "3        NaN       NaN     NaN  18034622214498958093                 300   \n",
       "4        NaN       NaN     NaN  18032995809069114072                 562   \n",
       "\n",
       "   WindowClientWidth  \n",
       "0               1263  \n",
       "1               1349  \n",
       "2               1349  \n",
       "3                400  \n",
       "4                360  \n",
       "\n",
       "[5 rows x 74 columns]"
      ]
     },
     "execution_count": 54,
     "metadata": {},
     "output_type": "execute_result"
    }
   ],
   "source": [
    "hits.head()"
   ]
  },
  {
   "cell_type": "markdown",
   "metadata": {},
   "source": [
    "Так какие колонки?"
   ]
  },
  {
   "cell_type": "code",
   "execution_count": 55,
   "metadata": {},
   "outputs": [
    {
     "name": "stdout",
     "output_type": "stream",
     "text": [
      "<class 'pandas.core.frame.DataFrame'>\n",
      "RangeIndex: 171720 entries, 0 to 171719\n",
      "Data columns (total 74 columns):\n",
      "Artificial                  171720 non-null int64\n",
      "Browser                     166045 non-null object\n",
      "BrowserCountry              117202 non-null object\n",
      "BrowserEngine               171702 non-null object\n",
      "BrowserEngineVersion1       171720 non-null int64\n",
      "BrowserEngineVersion2       171720 non-null int64\n",
      "BrowserEngineVersion3       171720 non-null int64\n",
      "BrowserEngineVersion4       171720 non-null int64\n",
      "BrowserLanguage             171272 non-null object\n",
      "BrowserMajorVersion         171720 non-null int64\n",
      "BrowserMinorVersion         171720 non-null int64\n",
      "ClientID                    171720 non-null uint64\n",
      "ClientTimeZone              171720 non-null int64\n",
      "CookieEnabled               171720 non-null int64\n",
      "CounterID                   171720 non-null int64\n",
      "`Date`                      171720 non-null object\n",
      "`DateTime`                  171720 non-null object\n",
      "DeviceCategory              171720 non-null int64\n",
      "Download                    171720 non-null int64\n",
      "FlashMajor                  171720 non-null int64\n",
      "FlashMinor                  171720 non-null int64\n",
      "`From`                      0 non-null float64\n",
      "GCLID                       1 non-null object\n",
      "GoalsID                     561 non-null object\n",
      "HasGCLID                    171720 non-null int64\n",
      "HttpError                   171720 non-null int64\n",
      "IFrame                      171720 non-null int64\n",
      "IpAddress                   171720 non-null object\n",
      "IsPageView                  171720 non-null int64\n",
      "JavascriptEnabled           171720 non-null int64\n",
      "LastAdvEngine               50881 non-null object\n",
      "LastSearchEngine            43705 non-null object\n",
      "LastSearchEngineRoot        43705 non-null object\n",
      "LastSocialNetwork           526 non-null object\n",
      "LastSocialNetworkProfile    11 non-null object\n",
      "LastTrafficSource           171720 non-null object\n",
      "Link                        171720 non-null int64\n",
      "MobilePhone                 82954 non-null object\n",
      "MobilePhoneModel            83571 non-null object\n",
      "NetworkType                 42319 non-null object\n",
      "NotBounce                   171720 non-null int64\n",
      "OpenstatAd                  5686 non-null float64\n",
      "OpenstatCampaign            5686 non-null float64\n",
      "OpenstatService             5686 non-null object\n",
      "OpenstatSource              5668 non-null object\n",
      "OperatingSystem             168041 non-null object\n",
      "OperatingSystemRoot         168041 non-null object\n",
      "PageCharset                 171323 non-null object\n",
      "Params                      663 non-null object\n",
      "PhysicalScreenHeight        171720 non-null int64\n",
      "PhysicalScreenWidth         171720 non-null int64\n",
      "Referer                     87689 non-null object\n",
      "RegionCity                  144960 non-null object\n",
      "RegionCityID                171720 non-null int64\n",
      "RegionCountry               171624 non-null object\n",
      "RegionCountryID             171720 non-null int64\n",
      "ScreenColors                171720 non-null int64\n",
      "ScreenFormat                171720 non-null int64\n",
      "ScreenHeight                171720 non-null int64\n",
      "ScreenOrientation           171720 non-null int64\n",
      "ScreenWidth                 171720 non-null int64\n",
      "ShareService                0 non-null float64\n",
      "ShareTitle                  0 non-null float64\n",
      "ShareURL                    0 non-null float64\n",
      "Title                       114213 non-null object\n",
      "URL                         171398 non-null object\n",
      "UTMCampaign                 42876 non-null object\n",
      "UTMContent                  2424 non-null object\n",
      "UTMMedium                   23934 non-null object\n",
      "UTMSource                   40904 non-null object\n",
      "UTMTerm                     43302 non-null object\n",
      "WatchID                     171720 non-null uint64\n",
      "WindowClientHeight          171720 non-null int64\n",
      "WindowClientWidth           171720 non-null int64\n",
      "dtypes: float64(6), int64(32), object(34), uint64(2)\n",
      "memory usage: 96.9+ MB\n"
     ]
    }
   ],
   "source": [
    "hits.info()"
   ]
  },
  {
   "cell_type": "markdown",
   "metadata": {},
   "source": [
    "Много колонок пустых, постепенно будем их отфильтровывать. Тут будет в основном pandas на самом деле, визуализация самое простое в этой задаче."
   ]
  },
  {
   "cell_type": "code",
   "execution_count": 56,
   "metadata": {},
   "outputs": [
    {
     "data": {
      "text/plain": [
       "27,748,804    561\n",
       "Name: GoalsID, dtype: int64"
      ]
     },
     "execution_count": 56,
     "metadata": {},
     "output_type": "execute_result"
    }
   ],
   "source": [
    "hits[hits['GoalsID'].isna() == False ]['GoalsID'].value_counts()"
   ]
  },
  {
   "cell_type": "markdown",
   "metadata": {},
   "source": [
    "На сайте только один тип цели есть - заказ аттракциона (не важно какого). Достигалась цель 561 раз."
   ]
  },
  {
   "cell_type": "code",
   "execution_count": 57,
   "metadata": {},
   "outputs": [],
   "source": [
    "import matplotlib.pyplot as plt"
   ]
  },
  {
   "cell_type": "code",
   "execution_count": 58,
   "metadata": {},
   "outputs": [
    {
     "data": {
      "image/png": "[encoded data removed]",
      "text/plain": [
       "<Figure size 864x648 with 1 Axes>"
      ]
     },
     "metadata": {},
     "output_type": "display_data"
    }
   ],
   "source": [
    "hits['Artificial'].value_counts().plot(kind='pie')\n",
    "plt.show()"
   ]
  },
  {
   "cell_type": "markdown",
   "metadata": {},
   "source": [
    "Первый график - pie chart, который в данном случае очень нагляден. Видно, что количество искусственных просмотров больше 25% от всех. Не мало! А самое интересное, что мне неизвестно, чтобы на сайте искусственно передавались просмотры. Хм... Буду разбираться."
   ]
  },
  {
   "cell_type": "code",
   "execution_count": 59,
   "metadata": {},
   "outputs": [
    {
     "data": {
      "text/plain": [
       "rsya      38710\n",
       "yandex     1860\n",
       "kms         334\n",
       "Name: UTMSource, dtype: int64"
      ]
     },
     "execution_count": 59,
     "metadata": {},
     "output_type": "execute_result"
    }
   ],
   "source": [
    "hits['UTMSource'].value_counts()"
   ]
  },
  {
   "cell_type": "code",
   "execution_count": 60,
   "metadata": {},
   "outputs": [
    {
     "data": {
      "text/plain": [
       "child        19162\n",
       "razvlekat     1508\n",
       "sport          316\n",
       "Name: UTMCampaign, dtype: int64"
      ]
     },
     "execution_count": 60,
     "metadata": {},
     "output_type": "execute_result"
    }
   ],
   "source": [
    "hits['UTMCampaign'][(hits['UTMCampaign'] == 'child') | (hits['UTMCampaign'] == 'razvlekat') | (hits['UTMCampaign'] == 'sport')].value_counts()"
   ]
  },
  {
   "cell_type": "markdown",
   "metadata": {},
   "source": [
    "В проекте нет единого подхода к формированию UTM меток, поэтому я вытащил только те метки, которые относятся к типу аттракционов (хотя на самом деле их 5, но не все они представлены в рекламе)"
   ]
  },
  {
   "cell_type": "markdown",
   "metadata": {},
   "source": [
    "Перед дальнейщим исследованием влияния параметров на конверсию, я должен отрезать часть данных, т.к. настройка конверсии в метрике не всегда была на этом сайте."
   ]
  },
  {
   "cell_type": "code",
   "execution_count": 61,
   "metadata": {},
   "outputs": [
    {
     "data": {
      "text/plain": [
       "46315    2017-02-09\n",
       "50375    2017-02-10\n",
       "50148    2017-02-10\n",
       "50147    2017-02-10\n",
       "50146    2017-02-10\n",
       "Name: `Date`, dtype: object"
      ]
     },
     "execution_count": 61,
     "metadata": {},
     "output_type": "execute_result"
    }
   ],
   "source": [
    "hits[hits['GoalsID'].isna() == False].sort_values('`Date`')['`Date`'].head()"
   ]
  },
  {
   "cell_type": "markdown",
   "metadata": {},
   "source": [
    "Хорошо, видимо цель была добавлена в метрику 8го или 9го февраля 2017 года. Кстати, этот факт, позволил мне больше понять, почему у меня не выгрузились сырые визиты - до 8го февраля 2017 года они выгружались без ошибок. Видимо какое-то поле относящиеся к цели и вызывает ошибку."
   ]
  },
  {
   "cell_type": "markdown",
   "metadata": {},
   "source": [
    "Удалим из выборки все просмотры, которые были раньше, чем 2017-02-09"
   ]
  },
  {
   "cell_type": "code",
   "execution_count": 62,
   "metadata": {},
   "outputs": [],
   "source": [
    "convert = hits[hits['`Date`'] > '2017-02-08'].sort_values('`Date`')"
   ]
  },
  {
   "cell_type": "markdown",
   "metadata": {},
   "source": [
    "# Гипотеза 1\n",
    "Я предполагаю, что чем больше размеры видимой пользователем области, тем вероятнее, что он закажет аттракцион"
   ]
  },
  {
   "cell_type": "code",
   "execution_count": 63,
   "metadata": {},
   "outputs": [],
   "source": [
    "#Сначала посмотрим какие у нас вообще бывают размеры\n",
    "windows = convert[['WindowClientHeight', 'WindowClientWidth']].copy()"
   ]
  },
  {
   "cell_type": "code",
   "execution_count": 64,
   "metadata": {},
   "outputs": [
    {
     "data": {
      "text/html": [
       "<div>\n",
       "<style scoped>\n",
       "    .dataframe tbody tr th:only-of-type {\n",
       "        vertical-align: middle;\n",
       "    }\n",
       "\n",
       "    .dataframe tbody tr th {\n",
       "        vertical-align: top;\n",
       "    }\n",
       "\n",
       "    .dataframe thead th {\n",
       "        text-align: right;\n",
       "    }\n",
       "</style>\n",
       "<table border=\"1\" class=\"dataframe\">\n",
       "  <thead>\n",
       "    <tr style=\"text-align: right;\">\n",
       "      <th></th>\n",
       "      <th>WindowClientHeight</th>\n",
       "      <th>WindowClientWidth</th>\n",
       "    </tr>\n",
       "  </thead>\n",
       "  <tbody>\n",
       "    <tr>\n",
       "      <td>46318</td>\n",
       "      <td>613</td>\n",
       "      <td>1349</td>\n",
       "    </tr>\n",
       "    <tr>\n",
       "      <td>46295</td>\n",
       "      <td>974</td>\n",
       "      <td>1903</td>\n",
       "    </tr>\n",
       "    <tr>\n",
       "      <td>46292</td>\n",
       "      <td>645</td>\n",
       "      <td>1349</td>\n",
       "    </tr>\n",
       "    <tr>\n",
       "      <td>46290</td>\n",
       "      <td>616</td>\n",
       "      <td>360</td>\n",
       "    </tr>\n",
       "    <tr>\n",
       "      <td>46289</td>\n",
       "      <td>560</td>\n",
       "      <td>360</td>\n",
       "    </tr>\n",
       "    <tr>\n",
       "      <td>...</td>\n",
       "      <td>...</td>\n",
       "      <td>...</td>\n",
       "    </tr>\n",
       "    <tr>\n",
       "      <td>171625</td>\n",
       "      <td>688</td>\n",
       "      <td>1215</td>\n",
       "    </tr>\n",
       "    <tr>\n",
       "      <td>171690</td>\n",
       "      <td>713</td>\n",
       "      <td>1243</td>\n",
       "    </tr>\n",
       "    <tr>\n",
       "      <td>171524</td>\n",
       "      <td>909</td>\n",
       "      <td>1864</td>\n",
       "    </tr>\n",
       "    <tr>\n",
       "      <td>171578</td>\n",
       "      <td>604</td>\n",
       "      <td>1333</td>\n",
       "    </tr>\n",
       "    <tr>\n",
       "      <td>171588</td>\n",
       "      <td>758</td>\n",
       "      <td>1505</td>\n",
       "    </tr>\n",
       "  </tbody>\n",
       "</table>\n",
       "<p>9180 rows × 2 columns</p>\n",
       "</div>"
      ],
      "text/plain": [
       "        WindowClientHeight  WindowClientWidth\n",
       "46318                  613               1349\n",
       "46295                  974               1903\n",
       "46292                  645               1349\n",
       "46290                  616                360\n",
       "46289                  560                360\n",
       "...                    ...                ...\n",
       "171625                 688               1215\n",
       "171690                 713               1243\n",
       "171524                 909               1864\n",
       "171578                 604               1333\n",
       "171588                 758               1505\n",
       "\n",
       "[9180 rows x 2 columns]"
      ]
     },
     "execution_count": 64,
     "metadata": {},
     "output_type": "execute_result"
    }
   ],
   "source": [
    "windows.drop_duplicates()"
   ]
  },
  {
   "cell_type": "markdown",
   "metadata": {},
   "source": [
    "Ничего себе сколько их! Хотя можно было догадаться, т.к. это могут быть не развернутые окна. Это плохо, потому что конверсий у нас не так много, давайте тогда обратимся к физическим размерам экрана."
   ]
  },
  {
   "cell_type": "code",
   "execution_count": 65,
   "metadata": {},
   "outputs": [],
   "source": [
    "screens = convert[['ScreenHeight', 'ScreenWidth']].copy()"
   ]
  },
  {
   "cell_type": "code",
   "execution_count": 66,
   "metadata": {},
   "outputs": [
    {
     "data": {
      "text/html": [
       "<div>\n",
       "<style scoped>\n",
       "    .dataframe tbody tr th:only-of-type {\n",
       "        vertical-align: middle;\n",
       "    }\n",
       "\n",
       "    .dataframe tbody tr th {\n",
       "        vertical-align: top;\n",
       "    }\n",
       "\n",
       "    .dataframe thead th {\n",
       "        text-align: right;\n",
       "    }\n",
       "</style>\n",
       "<table border=\"1\" class=\"dataframe\">\n",
       "  <thead>\n",
       "    <tr style=\"text-align: right;\">\n",
       "      <th></th>\n",
       "      <th>ScreenHeight</th>\n",
       "      <th>ScreenWidth</th>\n",
       "    </tr>\n",
       "  </thead>\n",
       "  <tbody>\n",
       "    <tr>\n",
       "      <td>46318</td>\n",
       "      <td>768</td>\n",
       "      <td>1366</td>\n",
       "    </tr>\n",
       "    <tr>\n",
       "      <td>46295</td>\n",
       "      <td>1080</td>\n",
       "      <td>1920</td>\n",
       "    </tr>\n",
       "    <tr>\n",
       "      <td>46290</td>\n",
       "      <td>640</td>\n",
       "      <td>360</td>\n",
       "    </tr>\n",
       "    <tr>\n",
       "      <td>46286</td>\n",
       "      <td>568</td>\n",
       "      <td>320</td>\n",
       "    </tr>\n",
       "    <tr>\n",
       "      <td>49934</td>\n",
       "      <td>859</td>\n",
       "      <td>1146</td>\n",
       "    </tr>\n",
       "    <tr>\n",
       "      <td>...</td>\n",
       "      <td>...</td>\n",
       "      <td>...</td>\n",
       "    </tr>\n",
       "    <tr>\n",
       "      <td>170138</td>\n",
       "      <td>1252</td>\n",
       "      <td>2226</td>\n",
       "    </tr>\n",
       "    <tr>\n",
       "      <td>170905</td>\n",
       "      <td>728</td>\n",
       "      <td>1242</td>\n",
       "    </tr>\n",
       "    <tr>\n",
       "      <td>171162</td>\n",
       "      <td>1600</td>\n",
       "      <td>1600</td>\n",
       "    </tr>\n",
       "    <tr>\n",
       "      <td>171449</td>\n",
       "      <td>279</td>\n",
       "      <td>640</td>\n",
       "    </tr>\n",
       "    <tr>\n",
       "      <td>171450</td>\n",
       "      <td>335</td>\n",
       "      <td>640</td>\n",
       "    </tr>\n",
       "  </tbody>\n",
       "</table>\n",
       "<p>656 rows × 2 columns</p>\n",
       "</div>"
      ],
      "text/plain": [
       "        ScreenHeight  ScreenWidth\n",
       "46318            768         1366\n",
       "46295           1080         1920\n",
       "46290            640          360\n",
       "46286            568          320\n",
       "49934            859         1146\n",
       "...              ...          ...\n",
       "170138          1252         2226\n",
       "170905           728         1242\n",
       "171162          1600         1600\n",
       "171449           279          640\n",
       "171450           335          640\n",
       "\n",
       "[656 rows x 2 columns]"
      ]
     },
     "execution_count": 66,
     "metadata": {},
     "output_type": "execute_result"
    }
   ],
   "source": [
    "screens.drop_duplicates()"
   ]
  },
  {
   "cell_type": "markdown",
   "metadata": {},
   "source": [
    "Уже лучше, но все равно больше, чем количество конверсий.. Ладно, посмотрим что из этого выйдет, для начала добавим в ряд конверсию, заменив ID счетчика на признак - конверсия была/конверсии не было"
   ]
  },
  {
   "cell_type": "code",
   "execution_count": 67,
   "metadata": {},
   "outputs": [],
   "source": [
    "def conversion(goalsid):\n",
    "    if pd.isnull(goalsid) :\n",
    "        return 0\n",
    "    else :\n",
    "        return 1\n",
    "    \n",
    "convert['convert'] = convert['GoalsID'].apply(conversion)"
   ]
  },
  {
   "cell_type": "code",
   "execution_count": 68,
   "metadata": {},
   "outputs": [],
   "source": [
    "screens = convert.groupby(['ScreenHeight', 'ScreenWidth']).agg({'convert' : 'sum'})\n",
    "screens.reset_index(inplace = True)"
   ]
  },
  {
   "cell_type": "markdown",
   "metadata": {},
   "source": [
    "Тут еще хотел разделить выборку по ориентации экрана (из-за боязни получить задвоенные результаты - одинаковый размер экрана, но разный поворот), но передумал (чтобы роль ориентации также отображалась на одном графике).\n",
    "\n",
    "Для анализа будем использовать Bubble chart - он хорошо демонстрирует зависимости трех величин (хотя может есть решение лучше)"
   ]
  },
  {
   "cell_type": "code",
   "execution_count": 69,
   "metadata": {},
   "outputs": [],
   "source": [
    "#увеличим дефолтный размер графиков\n",
    "from pylab import rcParams\n",
    "rcParams['figure.figsize'] = 12,9"
   ]
  },
  {
   "cell_type": "code",
   "execution_count": 70,
   "metadata": {},
   "outputs": [
    {
     "data": {
      "image/png": "[encoded data removed]",
      "text/plain": [
       "<Figure size 864x648 with 1 Axes>"
      ]
     },
     "metadata": {
      "needs_background": "light"
     },
     "output_type": "display_data"
    }
   ],
   "source": [
    "x = screens['ScreenWidth']\n",
    "y = screens['ScreenHeight']\n",
    "z = screens['convert']\n",
    "\n",
    "plt.scatter(x, y, s = z*10, alpha = 0.5)\n",
    "plt.show()"
   ]
  },
  {
   "cell_type": "markdown",
   "metadata": {},
   "source": [
    "На самом деле, конечно, выводы по этому графику делать не стоит - все таки здесь не учитывается насколько часто встречается тот или иной размер экрана."
   ]
  },
  {
   "cell_type": "markdown",
   "metadata": {},
   "source": [
    "График имеет два недостатка:\n",
    "    1. не учитывается частота встречи\n",
    "    2. масштаб графика сбивается экстремальными значениями без конверсий"
   ]
  },
  {
   "cell_type": "code",
   "execution_count": 71,
   "metadata": {},
   "outputs": [],
   "source": [
    "# выборку придется по новой брать\n",
    "screens = convert.groupby(['ScreenHeight', 'ScreenWidth']).agg({'convert' : 'sum', 'ScreenOrientation': 'count'})\n",
    "screens.reset_index(inplace = True)"
   ]
  },
  {
   "cell_type": "code",
   "execution_count": 72,
   "metadata": {},
   "outputs": [],
   "source": [
    "#уберем слишком большие значения экранов\n",
    "screens = screens[(screens['ScreenHeight'] < 1800) & (screens['ScreenWidth'] < 3000)]"
   ]
  },
  {
   "cell_type": "code",
   "execution_count": 73,
   "metadata": {},
   "outputs": [
    {
     "data": {
      "image/png": "[encoded data removed]",
      "text/plain": [
       "<Figure size 864x648 with 1 Axes>"
      ]
     },
     "metadata": {
      "needs_background": "light"
     },
     "output_type": "display_data"
    }
   ],
   "source": [
    "x = screens['ScreenWidth']\n",
    "y = screens['ScreenHeight']\n",
    "z = screens['convert']/screens['ScreenOrientation']\n",
    "\n",
    "plt.scatter(x, y, s = z*2000, alpha = 0.5)\n",
    "plt.show()"
   ]
  },
  {
   "cell_type": "markdown",
   "metadata": {},
   "source": [
    "Честно говоря я надеялся на более вменяемый график, по которому можно какие-то однозначные выводы сделать, но не все так просто. Однако давайте сделаем несколько довольно понятных выводов:\n",
    "1. Есть одно устройство, которое конвертит прямо очень хорошо, далее я выведу модель, аж интересно стало кто так конвертит\n",
    "2. В целом экрана с большей шириной, чем высотой лучше конвертируют (исключение 1ый пункт), тоже касается размеров экрана, чем они больше в целом, тем пвероятнее конверсия (огромное скопление точек около 300-500px ширины все таки проигрывает хотя бы размером точек)\n",
    "\n",
    "Что делать бизнесу в такой ситуации? Есть два пути: работать над качеством мобильной версии сайта, ориентироваться на десктопный/планшетный (это я бы еще проверил по DeviceCategory, но в большинстве рекламных систем нет отдельного деления на планшет, в отличии от моб. трафика) трафик"
   ]
  },
  {
   "cell_type": "code",
   "execution_count": 74,
   "metadata": {},
   "outputs": [
    {
     "data": {
      "text/html": [
       "<div>\n",
       "<style scoped>\n",
       "    .dataframe tbody tr th:only-of-type {\n",
       "        vertical-align: middle;\n",
       "    }\n",
       "\n",
       "    .dataframe tbody tr th {\n",
       "        vertical-align: top;\n",
       "    }\n",
       "\n",
       "    .dataframe thead th {\n",
       "        text-align: right;\n",
       "    }\n",
       "</style>\n",
       "<table border=\"1\" class=\"dataframe\">\n",
       "  <thead>\n",
       "    <tr style=\"text-align: right;\">\n",
       "      <th></th>\n",
       "      <th>ScreenHeight</th>\n",
       "      <th>ScreenWidth</th>\n",
       "      <th>MobilePhone</th>\n",
       "      <th>MobilePhoneModel</th>\n",
       "      <th>convert</th>\n",
       "      <th>`Date`</th>\n",
       "    </tr>\n",
       "  </thead>\n",
       "  <tbody>\n",
       "    <tr>\n",
       "      <td>0</td>\n",
       "      <td>0</td>\n",
       "      <td>0</td>\n",
       "      <td>apple</td>\n",
       "      <td>iPad</td>\n",
       "      <td>0</td>\n",
       "      <td>1</td>\n",
       "    </tr>\n",
       "    <tr>\n",
       "      <td>1</td>\n",
       "      <td>0</td>\n",
       "      <td>0</td>\n",
       "      <td>apple</td>\n",
       "      <td>iPhone</td>\n",
       "      <td>0</td>\n",
       "      <td>95</td>\n",
       "    </tr>\n",
       "    <tr>\n",
       "      <td>2</td>\n",
       "      <td>0</td>\n",
       "      <td>0</td>\n",
       "      <td>asus</td>\n",
       "      <td>ASUS_T00I</td>\n",
       "      <td>0</td>\n",
       "      <td>2</td>\n",
       "    </tr>\n",
       "    <tr>\n",
       "      <td>3</td>\n",
       "      <td>0</td>\n",
       "      <td>0</td>\n",
       "      <td>google</td>\n",
       "      <td>Nexus 5</td>\n",
       "      <td>0</td>\n",
       "      <td>6</td>\n",
       "    </tr>\n",
       "    <tr>\n",
       "      <td>4</td>\n",
       "      <td>0</td>\n",
       "      <td>0</td>\n",
       "      <td>huawei</td>\n",
       "      <td>CRO-L22</td>\n",
       "      <td>0</td>\n",
       "      <td>2</td>\n",
       "    </tr>\n",
       "    <tr>\n",
       "      <td>...</td>\n",
       "      <td>...</td>\n",
       "      <td>...</td>\n",
       "      <td>...</td>\n",
       "      <td>...</td>\n",
       "      <td>...</td>\n",
       "      <td>...</td>\n",
       "    </tr>\n",
       "    <tr>\n",
       "      <td>3143</td>\n",
       "      <td>1980</td>\n",
       "      <td>1081</td>\n",
       "      <td>xiaomi</td>\n",
       "      <td>Redmi 5 Plus</td>\n",
       "      <td>0</td>\n",
       "      <td>2</td>\n",
       "    </tr>\n",
       "    <tr>\n",
       "      <td>3144</td>\n",
       "      <td>2000</td>\n",
       "      <td>2000</td>\n",
       "      <td>apple</td>\n",
       "      <td>iPhone</td>\n",
       "      <td>0</td>\n",
       "      <td>94</td>\n",
       "    </tr>\n",
       "    <tr>\n",
       "      <td>3145</td>\n",
       "      <td>2048</td>\n",
       "      <td>1536</td>\n",
       "      <td>xiaomi</td>\n",
       "      <td>MI PAD</td>\n",
       "      <td>0</td>\n",
       "      <td>2</td>\n",
       "    </tr>\n",
       "    <tr>\n",
       "      <td>3146</td>\n",
       "      <td>2560</td>\n",
       "      <td>1440</td>\n",
       "      <td>samsung</td>\n",
       "      <td>SM-G935F</td>\n",
       "      <td>0</td>\n",
       "      <td>6</td>\n",
       "    </tr>\n",
       "    <tr>\n",
       "      <td>3147</td>\n",
       "      <td>5118</td>\n",
       "      <td>320</td>\n",
       "      <td>apple</td>\n",
       "      <td>iPhone</td>\n",
       "      <td>0</td>\n",
       "      <td>2</td>\n",
       "    </tr>\n",
       "  </tbody>\n",
       "</table>\n",
       "<p>3148 rows × 6 columns</p>\n",
       "</div>"
      ],
      "text/plain": [
       "      ScreenHeight  ScreenWidth MobilePhone MobilePhoneModel  convert  `Date`\n",
       "0                0            0       apple             iPad        0       1\n",
       "1                0            0       apple           iPhone        0      95\n",
       "2                0            0        asus        ASUS_T00I        0       2\n",
       "3                0            0      google          Nexus 5        0       6\n",
       "4                0            0      huawei          CRO-L22        0       2\n",
       "...            ...          ...         ...              ...      ...     ...\n",
       "3143          1980         1081      xiaomi     Redmi 5 Plus        0       2\n",
       "3144          2000         2000       apple           iPhone        0      94\n",
       "3145          2048         1536      xiaomi           MI PAD        0       2\n",
       "3146          2560         1440     samsung         SM-G935F        0       6\n",
       "3147          5118          320       apple           iPhone        0       2\n",
       "\n",
       "[3148 rows x 6 columns]"
      ]
     },
     "execution_count": 74,
     "metadata": {},
     "output_type": "execute_result"
    }
   ],
   "source": [
    "screens = convert.groupby(['ScreenHeight', 'ScreenWidth', 'MobilePhone', 'MobilePhoneModel']).agg({'convert' : 'sum', '`Date`': 'count'})\n",
    "screens.reset_index()"
   ]
  },
  {
   "cell_type": "code",
   "execution_count": 75,
   "metadata": {},
   "outputs": [],
   "source": [
    "def convert_rate(row):\n",
    "    return 1000*row['convert']/row['`Date`']\n",
    "\n",
    "screens['CTR'] = screens.apply(convert_rate, axis = 1)"
   ]
  },
  {
   "cell_type": "code",
   "execution_count": 76,
   "metadata": {},
   "outputs": [
    {
     "data": {
      "text/html": [
       "<div>\n",
       "<style scoped>\n",
       "    .dataframe tbody tr th:only-of-type {\n",
       "        vertical-align: middle;\n",
       "    }\n",
       "\n",
       "    .dataframe tbody tr th {\n",
       "        vertical-align: top;\n",
       "    }\n",
       "\n",
       "    .dataframe thead th {\n",
       "        text-align: right;\n",
       "    }\n",
       "</style>\n",
       "<table border=\"1\" class=\"dataframe\">\n",
       "  <thead>\n",
       "    <tr style=\"text-align: right;\">\n",
       "      <th></th>\n",
       "      <th></th>\n",
       "      <th></th>\n",
       "      <th></th>\n",
       "      <th>convert</th>\n",
       "      <th>`Date`</th>\n",
       "      <th>CTR</th>\n",
       "    </tr>\n",
       "    <tr>\n",
       "      <th>ScreenHeight</th>\n",
       "      <th>ScreenWidth</th>\n",
       "      <th>MobilePhone</th>\n",
       "      <th>MobilePhoneModel</th>\n",
       "      <th></th>\n",
       "      <th></th>\n",
       "      <th></th>\n",
       "    </tr>\n",
       "  </thead>\n",
       "  <tbody>\n",
       "    <tr>\n",
       "      <td>854</td>\n",
       "      <td>480</td>\n",
       "      <td>fly</td>\n",
       "      <td>IQ4504 Quad</td>\n",
       "      <td>1</td>\n",
       "      <td>2</td>\n",
       "      <td>500.000000</td>\n",
       "    </tr>\n",
       "    <tr>\n",
       "      <td rowspan=\"2\" valign=\"top\">640</td>\n",
       "      <td rowspan=\"2\" valign=\"top\">360</td>\n",
       "      <td>4good</td>\n",
       "      <td>Light A103</td>\n",
       "      <td>2</td>\n",
       "      <td>4</td>\n",
       "      <td>500.000000</td>\n",
       "    </tr>\n",
       "    <tr>\n",
       "      <td>nokia</td>\n",
       "      <td>Lumia 650</td>\n",
       "      <td>4</td>\n",
       "      <td>12</td>\n",
       "      <td>333.333333</td>\n",
       "    </tr>\n",
       "    <tr>\n",
       "      <td>1078</td>\n",
       "      <td>674</td>\n",
       "      <td>prestigio</td>\n",
       "      <td>PMT3118_3G</td>\n",
       "      <td>1</td>\n",
       "      <td>3</td>\n",
       "      <td>333.333333</td>\n",
       "    </tr>\n",
       "    <tr>\n",
       "      <td>640</td>\n",
       "      <td>320</td>\n",
       "      <td>zte</td>\n",
       "      <td>ZTE Blade L8RU</td>\n",
       "      <td>1</td>\n",
       "      <td>4</td>\n",
       "      <td>250.000000</td>\n",
       "    </tr>\n",
       "    <tr>\n",
       "      <td>600</td>\n",
       "      <td>1024</td>\n",
       "      <td>asus</td>\n",
       "      <td>P01Y</td>\n",
       "      <td>2</td>\n",
       "      <td>9</td>\n",
       "      <td>222.222222</td>\n",
       "    </tr>\n",
       "    <tr>\n",
       "      <td>640</td>\n",
       "      <td>360</td>\n",
       "      <td>sony</td>\n",
       "      <td>Xperia C</td>\n",
       "      <td>1</td>\n",
       "      <td>6</td>\n",
       "      <td>166.666667</td>\n",
       "    </tr>\n",
       "    <tr>\n",
       "      <td>570</td>\n",
       "      <td>320</td>\n",
       "      <td>zte</td>\n",
       "      <td>ZTE BLADE A210</td>\n",
       "      <td>1</td>\n",
       "      <td>6</td>\n",
       "      <td>166.666667</td>\n",
       "    </tr>\n",
       "    <tr>\n",
       "      <td rowspan=\"2\" valign=\"top\">640</td>\n",
       "      <td rowspan=\"2\" valign=\"top\">360</td>\n",
       "      <td>sony</td>\n",
       "      <td>F8131</td>\n",
       "      <td>1</td>\n",
       "      <td>7</td>\n",
       "      <td>142.857143</td>\n",
       "    </tr>\n",
       "    <tr>\n",
       "      <td>samsung</td>\n",
       "      <td>SM-A310F</td>\n",
       "      <td>1</td>\n",
       "      <td>8</td>\n",
       "      <td>125.000000</td>\n",
       "    </tr>\n",
       "  </tbody>\n",
       "</table>\n",
       "</div>"
      ],
      "text/plain": [
       "                                                       convert  `Date`  \\\n",
       "ScreenHeight ScreenWidth MobilePhone MobilePhoneModel                    \n",
       "854          480         fly         IQ4504 Quad             1       2   \n",
       "640          360         4good       Light A103              2       4   \n",
       "                         nokia       Lumia 650               4      12   \n",
       "1078         674         prestigio   PMT3118_3G              1       3   \n",
       "640          320         zte         ZTE Blade L8RU          1       4   \n",
       "600          1024        asus        P01Y                    2       9   \n",
       "640          360         sony        Xperia C                1       6   \n",
       "570          320         zte         ZTE BLADE A210          1       6   \n",
       "640          360         sony        F8131                   1       7   \n",
       "                         samsung     SM-A310F                1       8   \n",
       "\n",
       "                                                              CTR  \n",
       "ScreenHeight ScreenWidth MobilePhone MobilePhoneModel              \n",
       "854          480         fly         IQ4504 Quad       500.000000  \n",
       "640          360         4good       Light A103        500.000000  \n",
       "                         nokia       Lumia 650         333.333333  \n",
       "1078         674         prestigio   PMT3118_3G        333.333333  \n",
       "640          320         zte         ZTE Blade L8RU    250.000000  \n",
       "600          1024        asus        P01Y              222.222222  \n",
       "640          360         sony        Xperia C          166.666667  \n",
       "570          320         zte         ZTE BLADE A210    166.666667  \n",
       "640          360         sony        F8131             142.857143  \n",
       "                         samsung     SM-A310F          125.000000  "
      ]
     },
     "execution_count": 76,
     "metadata": {},
     "output_type": "execute_result"
    }
   ],
   "source": [
    "screens.reset_index()\n",
    "screens.sort_values('CTR', ascending = False).head(10)"
   ]
  },
  {
   "cell_type": "markdown",
   "metadata": {},
   "source": [
    "Судя по всему то самое устройство, вызвавшее такой всплеск - это prestigio PMT3118_3G с нестандартным экраном, хоть и есть более высокие показатели CTR у других моделей, их результаты размываются другими моделями с таким же экраном. В любом случае данных слишком, мало, чтобы говорить, что весь бюджет надо заряжать на prestigio PMT3118_3G и он действительно так хорошо конвертит, по поробовать стоит :)"
   ]
  },
  {
   "cell_type": "markdown",
   "metadata": {},
   "source": [
    "Найдем более статистически значемые данные"
   ]
  },
  {
   "cell_type": "code",
   "execution_count": 77,
   "metadata": {},
   "outputs": [
    {
     "data": {
      "text/html": [
       "<div>\n",
       "<style scoped>\n",
       "    .dataframe tbody tr th:only-of-type {\n",
       "        vertical-align: middle;\n",
       "    }\n",
       "\n",
       "    .dataframe tbody tr th {\n",
       "        vertical-align: top;\n",
       "    }\n",
       "\n",
       "    .dataframe thead th {\n",
       "        text-align: right;\n",
       "    }\n",
       "</style>\n",
       "<table border=\"1\" class=\"dataframe\">\n",
       "  <thead>\n",
       "    <tr style=\"text-align: right;\">\n",
       "      <th></th>\n",
       "      <th></th>\n",
       "      <th></th>\n",
       "      <th></th>\n",
       "      <th>convert</th>\n",
       "      <th>`Date`</th>\n",
       "      <th>CTR</th>\n",
       "    </tr>\n",
       "    <tr>\n",
       "      <th>ScreenHeight</th>\n",
       "      <th>ScreenWidth</th>\n",
       "      <th>MobilePhone</th>\n",
       "      <th>MobilePhoneModel</th>\n",
       "      <th></th>\n",
       "      <th></th>\n",
       "      <th></th>\n",
       "    </tr>\n",
       "  </thead>\n",
       "  <tbody>\n",
       "    <tr>\n",
       "      <td rowspan=\"2\" valign=\"top\">640</td>\n",
       "      <td rowspan=\"2\" valign=\"top\">360</td>\n",
       "      <td rowspan=\"2\" valign=\"top\">samsung</td>\n",
       "      <td>Galaxy J3</td>\n",
       "      <td>14</td>\n",
       "      <td>768</td>\n",
       "      <td>18.229167</td>\n",
       "    </tr>\n",
       "    <tr>\n",
       "      <td>Galaxy S5</td>\n",
       "      <td>3</td>\n",
       "      <td>178</td>\n",
       "      <td>16.853933</td>\n",
       "    </tr>\n",
       "    <tr>\n",
       "      <td>1366</td>\n",
       "      <td>1024</td>\n",
       "      <td>apple</td>\n",
       "      <td>iPad</td>\n",
       "      <td>2</td>\n",
       "      <td>147</td>\n",
       "      <td>13.605442</td>\n",
       "    </tr>\n",
       "    <tr>\n",
       "      <td>720</td>\n",
       "      <td>360</td>\n",
       "      <td>huawei</td>\n",
       "      <td>AUM-L29</td>\n",
       "      <td>2</td>\n",
       "      <td>154</td>\n",
       "      <td>12.987013</td>\n",
       "    </tr>\n",
       "    <tr>\n",
       "      <td>740</td>\n",
       "      <td>360</td>\n",
       "      <td>samsung</td>\n",
       "      <td>SM-J600F</td>\n",
       "      <td>1</td>\n",
       "      <td>101</td>\n",
       "      <td>9.900990</td>\n",
       "    </tr>\n",
       "    <tr>\n",
       "      <td>...</td>\n",
       "      <td>...</td>\n",
       "      <td>...</td>\n",
       "      <td>...</td>\n",
       "      <td>...</td>\n",
       "      <td>...</td>\n",
       "      <td>...</td>\n",
       "    </tr>\n",
       "    <tr>\n",
       "      <td rowspan=\"2\" valign=\"top\">720</td>\n",
       "      <td rowspan=\"2\" valign=\"top\">360</td>\n",
       "      <td rowspan=\"2\" valign=\"top\">huawei</td>\n",
       "      <td>AUM-L41</td>\n",
       "      <td>0</td>\n",
       "      <td>199</td>\n",
       "      <td>0.000000</td>\n",
       "    </tr>\n",
       "    <tr>\n",
       "      <td>BND-L21</td>\n",
       "      <td>0</td>\n",
       "      <td>141</td>\n",
       "      <td>0.000000</td>\n",
       "    </tr>\n",
       "    <tr>\n",
       "      <td>640</td>\n",
       "      <td>360</td>\n",
       "      <td>huawei</td>\n",
       "      <td>DLI-TL20</td>\n",
       "      <td>0</td>\n",
       "      <td>140</td>\n",
       "      <td>0.000000</td>\n",
       "    </tr>\n",
       "    <tr>\n",
       "      <td>720</td>\n",
       "      <td>360</td>\n",
       "      <td>huawei</td>\n",
       "      <td>FIG-LX1</td>\n",
       "      <td>0</td>\n",
       "      <td>225</td>\n",
       "      <td>0.000000</td>\n",
       "    </tr>\n",
       "    <tr>\n",
       "      <td>360</td>\n",
       "      <td>640</td>\n",
       "      <td>xiaomi</td>\n",
       "      <td>Redmi Note 4</td>\n",
       "      <td>0</td>\n",
       "      <td>103</td>\n",
       "      <td>0.000000</td>\n",
       "    </tr>\n",
       "  </tbody>\n",
       "</table>\n",
       "<p>74 rows × 3 columns</p>\n",
       "</div>"
      ],
      "text/plain": [
       "                                                       convert  `Date`  \\\n",
       "ScreenHeight ScreenWidth MobilePhone MobilePhoneModel                    \n",
       "640          360         samsung     Galaxy J3              14     768   \n",
       "                                     Galaxy S5               3     178   \n",
       "1366         1024        apple       iPad                    2     147   \n",
       "720          360         huawei      AUM-L29                 2     154   \n",
       "740          360         samsung     SM-J600F                1     101   \n",
       "...                                                        ...     ...   \n",
       "720          360         huawei      AUM-L41                 0     199   \n",
       "                                     BND-L21                 0     141   \n",
       "640          360         huawei      DLI-TL20                0     140   \n",
       "720          360         huawei      FIG-LX1                 0     225   \n",
       "360          640         xiaomi      Redmi Note 4            0     103   \n",
       "\n",
       "                                                             CTR  \n",
       "ScreenHeight ScreenWidth MobilePhone MobilePhoneModel             \n",
       "640          360         samsung     Galaxy J3         18.229167  \n",
       "                                     Galaxy S5         16.853933  \n",
       "1366         1024        apple       iPad              13.605442  \n",
       "720          360         huawei      AUM-L29           12.987013  \n",
       "740          360         samsung     SM-J600F           9.900990  \n",
       "...                                                          ...  \n",
       "720          360         huawei      AUM-L41            0.000000  \n",
       "                                     BND-L21            0.000000  \n",
       "640          360         huawei      DLI-TL20           0.000000  \n",
       "720          360         huawei      FIG-LX1            0.000000  \n",
       "360          640         xiaomi      Redmi Note 4       0.000000  \n",
       "\n",
       "[74 rows x 3 columns]"
      ]
     },
     "execution_count": 77,
     "metadata": {},
     "output_type": "execute_result"
    }
   ],
   "source": [
    "screens[screens['`Date`'] > 100].sort_values('CTR', ascending = False)"
   ]
  },
  {
   "cell_type": "markdown",
   "metadata": {},
   "source": [
    "Вот эта картина в разы интереснее, жаль не так много площадок позволяет таргетироваться по конкретным устройствам. И очень интересно почему устройства с одинаковым экраном, одинакового бренда, так разительно отличаются друг от друга результатами.\n",
    "huawei\tAUM-L29 в топе, и множество хуавей на дне. Возможно ответ лежит в плоскости программного обеспечения этих устройств и что там не работало, увы узнать сейчас уже не представляется возможным - старую версию сайта удалили."
   ]
  },
  {
   "cell_type": "markdown",
   "metadata": {},
   "source": [
    "## Итог\n",
    "Гипотеза подтверждена, заодно узнали много интересного о возможных проблемах сайта на старых устройствах"
   ]
  },
  {
   "cell_type": "markdown",
   "metadata": {},
   "source": [
    "# Гипотеза 2\n",
    "Дни недели влияют на конверсию.\n",
    "\n",
    "Довольно простая гипотеза и скорее всего верная, осталось определить какие дни лучше.\n",
    "\n",
    "Для начала нам придется создать еще один столбец данных с днями недели. Боюсь процесс затянется, приедтся тащить библиотеку."
   ]
  },
  {
   "cell_type": "code",
   "execution_count": 78,
   "metadata": {},
   "outputs": [],
   "source": [
    "from datetime import datetime as dt"
   ]
  },
  {
   "cell_type": "code",
   "execution_count": 79,
   "metadata": {},
   "outputs": [],
   "source": [
    "convert['dayofweek'] = convert['`Date`'].apply(lambda x: dt.isoweekday(dt.strptime(x, '%Y-%m-%d')))"
   ]
  },
  {
   "cell_type": "code",
   "execution_count": 80,
   "metadata": {},
   "outputs": [],
   "source": [
    "days = convert.groupby('dayofweek').agg({'convert': 'sum', '`Date`': 'count'})"
   ]
  },
  {
   "cell_type": "code",
   "execution_count": 81,
   "metadata": {},
   "outputs": [
    {
     "data": {
      "text/html": [
       "<div>\n",
       "<style scoped>\n",
       "    .dataframe tbody tr th:only-of-type {\n",
       "        vertical-align: middle;\n",
       "    }\n",
       "\n",
       "    .dataframe tbody tr th {\n",
       "        vertical-align: top;\n",
       "    }\n",
       "\n",
       "    .dataframe thead th {\n",
       "        text-align: right;\n",
       "    }\n",
       "</style>\n",
       "<table border=\"1\" class=\"dataframe\">\n",
       "  <thead>\n",
       "    <tr style=\"text-align: right;\">\n",
       "      <th></th>\n",
       "      <th>dayofweek</th>\n",
       "      <th>convert</th>\n",
       "      <th>`Date`</th>\n",
       "    </tr>\n",
       "  </thead>\n",
       "  <tbody>\n",
       "    <tr>\n",
       "      <td>0</td>\n",
       "      <td>1</td>\n",
       "      <td>80</td>\n",
       "      <td>25345</td>\n",
       "    </tr>\n",
       "    <tr>\n",
       "      <td>1</td>\n",
       "      <td>2</td>\n",
       "      <td>110</td>\n",
       "      <td>24972</td>\n",
       "    </tr>\n",
       "    <tr>\n",
       "      <td>2</td>\n",
       "      <td>3</td>\n",
       "      <td>89</td>\n",
       "      <td>23542</td>\n",
       "    </tr>\n",
       "    <tr>\n",
       "      <td>3</td>\n",
       "      <td>4</td>\n",
       "      <td>113</td>\n",
       "      <td>24577</td>\n",
       "    </tr>\n",
       "    <tr>\n",
       "      <td>4</td>\n",
       "      <td>5</td>\n",
       "      <td>80</td>\n",
       "      <td>22089</td>\n",
       "    </tr>\n",
       "    <tr>\n",
       "      <td>5</td>\n",
       "      <td>6</td>\n",
       "      <td>36</td>\n",
       "      <td>17999</td>\n",
       "    </tr>\n",
       "    <tr>\n",
       "      <td>6</td>\n",
       "      <td>7</td>\n",
       "      <td>53</td>\n",
       "      <td>17653</td>\n",
       "    </tr>\n",
       "  </tbody>\n",
       "</table>\n",
       "</div>"
      ],
      "text/plain": [
       "   dayofweek  convert  `Date`\n",
       "0          1       80   25345\n",
       "1          2      110   24972\n",
       "2          3       89   23542\n",
       "3          4      113   24577\n",
       "4          5       80   22089\n",
       "5          6       36   17999\n",
       "6          7       53   17653"
      ]
     },
     "execution_count": 81,
     "metadata": {},
     "output_type": "execute_result"
    }
   ],
   "source": [
    "days.reset_index()"
   ]
  },
  {
   "cell_type": "markdown",
   "metadata": {},
   "source": [
    "Вообще видно не вооруженным взглядом, но задание про графики, давайте все таки гистограмму построим"
   ]
  },
  {
   "cell_type": "code",
   "execution_count": 82,
   "metadata": {},
   "outputs": [],
   "source": [
    "# Для начала нормируем конверт\n",
    "days['CTR'] = days.apply(convert_rate, axis = 1)\n",
    "days = days.reset_index()\n",
    "\n",
    "names_of_day = {1 : 'Понедельник', 2: 'Вторник', 3: 'Среда', 4: 'Четверг', 5: 'Пятница', 6: 'Суббота', 7: 'Воскресенье'}\n",
    "days['dayofweek'] = days['dayofweek'].apply(lambda x: names_of_day[x]) "
   ]
  },
  {
   "cell_type": "code",
   "execution_count": 83,
   "metadata": {},
   "outputs": [
    {
     "data": {
      "text/plain": [
       "Text(0.5, 1.0, 'В какие дни лучше конверт')"
      ]
     },
     "execution_count": 83,
     "metadata": {},
     "output_type": "execute_result"
    },
    {
     "data": {
      "image/png": "[encoded data removed]",
      "text/plain": [
       "<Figure size 864x648 with 1 Axes>"
      ]
     },
     "metadata": {
      "needs_background": "light"
     },
     "output_type": "display_data"
    }
   ],
   "source": [
    "plt.bar(days['dayofweek'], days['CTR'])\n",
    "plt.title('В какие дни лучше конверт')"
   ]
  },
  {
   "cell_type": "markdown",
   "metadata": {},
   "source": [
    "## Выводы\n",
    "\n",
    "эта гипотеза еще полезнее, здесь очевидно, что в дорогих источниках, где ROI около нуля или отрицательный надо 100% отключать субботу, конверт просто ужасный. Еще можно отключить воскресенье, а если все еще дорого - понедельник. "
   ]
  },
  {
   "cell_type": "markdown",
   "metadata": {},
   "source": [
    "# Гипотеза 3\n",
    "Логичное продолжение второй гипотезы, посмотреть разбивку по времени, увы результатом проверки уже не стоит так сильно доверять - конверта явно маловато для 24х интервалов. Реклама дается только на Москву и область, поэтому временные зоны учитывать не имеет смысла (плюс ко всему счетчик с правильным временным поясом)."
   ]
  },
  {
   "cell_type": "code",
   "execution_count": 84,
   "metadata": {},
   "outputs": [
    {
     "data": {
      "text/plain": [
       "46318     14\n",
       "46295     18\n",
       "46294     18\n",
       "46293     18\n",
       "46292     15\n",
       "          ..\n",
       "171570    14\n",
       "171571    17\n",
       "171572    17\n",
       "171560    14\n",
       "171719    11\n",
       "Name: hour, Length: 156177, dtype: object"
      ]
     },
     "execution_count": 84,
     "metadata": {},
     "output_type": "execute_result"
    }
   ],
   "source": [
    "convert['hour'] = convert['`DateTime`'].apply(lambda x: x[11:13])\n",
    "convert['hour']"
   ]
  },
  {
   "cell_type": "code",
   "execution_count": 85,
   "metadata": {},
   "outputs": [],
   "source": [
    "timeismoney = convert.groupby('hour').agg({'convert': 'sum', '`Date`': 'count'})\n",
    "timeismoney['CTR'] = timeismoney.apply(convert_rate, axis = 1)\n",
    "timeismoney = timeismoney.reset_index()"
   ]
  },
  {
   "cell_type": "code",
   "execution_count": 86,
   "metadata": {},
   "outputs": [
    {
     "data": {
      "text/html": [
       "<div>\n",
       "<style scoped>\n",
       "    .dataframe tbody tr th:only-of-type {\n",
       "        vertical-align: middle;\n",
       "    }\n",
       "\n",
       "    .dataframe tbody tr th {\n",
       "        vertical-align: top;\n",
       "    }\n",
       "\n",
       "    .dataframe thead th {\n",
       "        text-align: right;\n",
       "    }\n",
       "</style>\n",
       "<table border=\"1\" class=\"dataframe\">\n",
       "  <thead>\n",
       "    <tr style=\"text-align: right;\">\n",
       "      <th></th>\n",
       "      <th>hour</th>\n",
       "      <th>convert</th>\n",
       "      <th>`Date`</th>\n",
       "      <th>CTR</th>\n",
       "    </tr>\n",
       "  </thead>\n",
       "  <tbody>\n",
       "    <tr>\n",
       "      <td>0</td>\n",
       "      <td>00</td>\n",
       "      <td>26</td>\n",
       "      <td>8775</td>\n",
       "      <td>2.962963</td>\n",
       "    </tr>\n",
       "    <tr>\n",
       "      <td>1</td>\n",
       "      <td>01</td>\n",
       "      <td>33</td>\n",
       "      <td>8767</td>\n",
       "      <td>3.764115</td>\n",
       "    </tr>\n",
       "    <tr>\n",
       "      <td>2</td>\n",
       "      <td>02</td>\n",
       "      <td>9</td>\n",
       "      <td>6786</td>\n",
       "      <td>1.326260</td>\n",
       "    </tr>\n",
       "    <tr>\n",
       "      <td>3</td>\n",
       "      <td>03</td>\n",
       "      <td>4</td>\n",
       "      <td>2325</td>\n",
       "      <td>1.720430</td>\n",
       "    </tr>\n",
       "    <tr>\n",
       "      <td>4</td>\n",
       "      <td>04</td>\n",
       "      <td>8</td>\n",
       "      <td>1406</td>\n",
       "      <td>5.689900</td>\n",
       "    </tr>\n",
       "    <tr>\n",
       "      <td>5</td>\n",
       "      <td>05</td>\n",
       "      <td>1</td>\n",
       "      <td>1026</td>\n",
       "      <td>0.974659</td>\n",
       "    </tr>\n",
       "    <tr>\n",
       "      <td>6</td>\n",
       "      <td>06</td>\n",
       "      <td>2</td>\n",
       "      <td>928</td>\n",
       "      <td>2.155172</td>\n",
       "    </tr>\n",
       "    <tr>\n",
       "      <td>7</td>\n",
       "      <td>07</td>\n",
       "      <td>1</td>\n",
       "      <td>754</td>\n",
       "      <td>1.326260</td>\n",
       "    </tr>\n",
       "    <tr>\n",
       "      <td>8</td>\n",
       "      <td>08</td>\n",
       "      <td>3</td>\n",
       "      <td>687</td>\n",
       "      <td>4.366812</td>\n",
       "    </tr>\n",
       "    <tr>\n",
       "      <td>9</td>\n",
       "      <td>09</td>\n",
       "      <td>1</td>\n",
       "      <td>717</td>\n",
       "      <td>1.394700</td>\n",
       "    </tr>\n",
       "    <tr>\n",
       "      <td>10</td>\n",
       "      <td>10</td>\n",
       "      <td>0</td>\n",
       "      <td>852</td>\n",
       "      <td>0.000000</td>\n",
       "    </tr>\n",
       "    <tr>\n",
       "      <td>11</td>\n",
       "      <td>11</td>\n",
       "      <td>16</td>\n",
       "      <td>8539</td>\n",
       "      <td>1.873756</td>\n",
       "    </tr>\n",
       "    <tr>\n",
       "      <td>12</td>\n",
       "      <td>12</td>\n",
       "      <td>19</td>\n",
       "      <td>7407</td>\n",
       "      <td>2.565141</td>\n",
       "    </tr>\n",
       "    <tr>\n",
       "      <td>13</td>\n",
       "      <td>13</td>\n",
       "      <td>23</td>\n",
       "      <td>8779</td>\n",
       "      <td>2.619888</td>\n",
       "    </tr>\n",
       "    <tr>\n",
       "      <td>14</td>\n",
       "      <td>14</td>\n",
       "      <td>45</td>\n",
       "      <td>9740</td>\n",
       "      <td>4.620123</td>\n",
       "    </tr>\n",
       "    <tr>\n",
       "      <td>15</td>\n",
       "      <td>15</td>\n",
       "      <td>45</td>\n",
       "      <td>10457</td>\n",
       "      <td>4.303337</td>\n",
       "    </tr>\n",
       "    <tr>\n",
       "      <td>16</td>\n",
       "      <td>16</td>\n",
       "      <td>46</td>\n",
       "      <td>10187</td>\n",
       "      <td>4.515559</td>\n",
       "    </tr>\n",
       "    <tr>\n",
       "      <td>17</td>\n",
       "      <td>17</td>\n",
       "      <td>48</td>\n",
       "      <td>10608</td>\n",
       "      <td>4.524887</td>\n",
       "    </tr>\n",
       "    <tr>\n",
       "      <td>18</td>\n",
       "      <td>18</td>\n",
       "      <td>37</td>\n",
       "      <td>11474</td>\n",
       "      <td>3.224682</td>\n",
       "    </tr>\n",
       "    <tr>\n",
       "      <td>19</td>\n",
       "      <td>19</td>\n",
       "      <td>44</td>\n",
       "      <td>10904</td>\n",
       "      <td>4.035216</td>\n",
       "    </tr>\n",
       "    <tr>\n",
       "      <td>20</td>\n",
       "      <td>20</td>\n",
       "      <td>44</td>\n",
       "      <td>9998</td>\n",
       "      <td>4.400880</td>\n",
       "    </tr>\n",
       "    <tr>\n",
       "      <td>21</td>\n",
       "      <td>21</td>\n",
       "      <td>39</td>\n",
       "      <td>9043</td>\n",
       "      <td>4.312728</td>\n",
       "    </tr>\n",
       "    <tr>\n",
       "      <td>22</td>\n",
       "      <td>22</td>\n",
       "      <td>35</td>\n",
       "      <td>7779</td>\n",
       "      <td>4.499293</td>\n",
       "    </tr>\n",
       "    <tr>\n",
       "      <td>23</td>\n",
       "      <td>23</td>\n",
       "      <td>32</td>\n",
       "      <td>8239</td>\n",
       "      <td>3.883967</td>\n",
       "    </tr>\n",
       "  </tbody>\n",
       "</table>\n",
       "</div>"
      ],
      "text/plain": [
       "   hour  convert  `Date`       CTR\n",
       "0    00       26    8775  2.962963\n",
       "1    01       33    8767  3.764115\n",
       "2    02        9    6786  1.326260\n",
       "3    03        4    2325  1.720430\n",
       "4    04        8    1406  5.689900\n",
       "5    05        1    1026  0.974659\n",
       "6    06        2     928  2.155172\n",
       "7    07        1     754  1.326260\n",
       "8    08        3     687  4.366812\n",
       "9    09        1     717  1.394700\n",
       "10   10        0     852  0.000000\n",
       "11   11       16    8539  1.873756\n",
       "12   12       19    7407  2.565141\n",
       "13   13       23    8779  2.619888\n",
       "14   14       45    9740  4.620123\n",
       "15   15       45   10457  4.303337\n",
       "16   16       46   10187  4.515559\n",
       "17   17       48   10608  4.524887\n",
       "18   18       37   11474  3.224682\n",
       "19   19       44   10904  4.035216\n",
       "20   20       44    9998  4.400880\n",
       "21   21       39    9043  4.312728\n",
       "22   22       35    7779  4.499293\n",
       "23   23       32    8239  3.883967"
      ]
     },
     "execution_count": 86,
     "metadata": {},
     "output_type": "execute_result"
    }
   ],
   "source": [
    "timeismoney"
   ]
  },
  {
   "cell_type": "code",
   "execution_count": 87,
   "metadata": {},
   "outputs": [
    {
     "data": {
      "text/plain": [
       "Text(0.5, 1.0, 'В какие часы лучше конверт')"
      ]
     },
     "execution_count": 87,
     "metadata": {},
     "output_type": "execute_result"
    },
    {
     "data": {
      "image/png": "[encoded data removed]",
      "text/plain": [
       "<Figure size 864x648 with 1 Axes>"
      ]
     },
     "metadata": {
      "needs_background": "light"
     },
     "output_type": "display_data"
    }
   ],
   "source": [
    "plt.bar(timeismoney['hour'], timeismoney['CTR'])\n",
    "plt.title('В какие часы лучше конверт')"
   ]
  },
  {
   "cell_type": "markdown",
   "metadata": {},
   "source": [
    "## Выводы\n",
    "Ну что сказать, время с 12 до часу ночи весьма благоприятное, остальные интервалы вряд ли. Можно еще потестировать 4 часа ночи 8 утра, но мне кажется это аномалии, вызванные недостаточностью данных. (а вдруг все таки в 4 часа ночи у народа просыпается острое желание развлечаться :) ) Как и 10 часов не такое уж днище (хотя может все усиленно работают :)"
   ]
  },
  {
   "cell_type": "markdown",
   "metadata": {},
   "source": [
    "Результат довольно предсказуем, но от этого не менее полезен. Остается загадкой, почему в яндекс метрике/директе до сих пор нет отчета по дням недели и часам (в гугл эдвордс кстати он есть). Наверное, боятся что тогда в \"плохие\" часы и дни никто не будет показывать рекламу :)"
   ]
  },
  {
   "cell_type": "markdown",
   "metadata": {},
   "source": [
    "# Гипотеза 4\n",
    "\n",
    "Еще одна временная гипотеза о сезонности интереса к определенным видам аттракциона.\n",
    "\n",
    "Здесь надо будет проделать больше подготовительной работы. Для начала разметив все страницы."
   ]
  },
  {
   "cell_type": "code",
   "execution_count": 89,
   "metadata": {},
   "outputs": [],
   "source": [
    "from urllib.parse import urlparse"
   ]
  },
  {
   "cell_type": "code",
   "execution_count": 92,
   "metadata": {},
   "outputs": [
    {
     "data": {
      "text/plain": [
       "ParseResult(scheme='http', netloc='attrakcion-vsem.ru', path='/', params='', query='target_ref=https:%2F%2Fott-widget.yandex.ru%2Fvideo%2F15687597891902948660%3Fautoplay%3D0%26from%3Dyavideo%26reqid%3D1556191228497682-1520007239060873276680248-man1-3617-V-TCH&adsdk-bundle-version=1390&adsdk-bundle-name=Multiroll&video-api-version=js:1.0-1390&ad-session-id=955711556191233576', fragment='')"
      ]
     },
     "execution_count": 92,
     "metadata": {},
     "output_type": "execute_result"
    }
   ],
   "source": [
    "u = urlparse('http://attrakcion-vsem.ru/?target_ref=https:%2F%2Fott-widget.yandex.ru%2Fvideo%2F15687597891902948660%3Fautoplay%3D0%26from%3Dyavideo%26reqid%3D1556191228497682-1520007239060873276680248-man1-3617-V-TCH&adsdk-bundle-version=1390&adsdk-bundle-name=Multiroll&video-api-version=js:1.0-1390&ad-session-id=955711556191233576')\n",
    "u"
   ]
  },
  {
   "cell_type": "code",
   "execution_count": 95,
   "metadata": {},
   "outputs": [],
   "source": [
    "def get_pages(page):\n",
    "    url = urlparse(str(page)) \n",
    "    if url.path != '/' :\n",
    "        if url.path == '/index.php' :\n",
    "            return url.query\n",
    "        else :\n",
    "            return url.path\n",
    "    else :\n",
    "        return 'blank'"
   ]
  },
  {
   "cell_type": "code",
   "execution_count": 144,
   "metadata": {},
   "outputs": [],
   "source": [
    "hits['page'] = hits['URL'].apply(get_pages)"
   ]
  },
  {
   "cell_type": "code",
   "execution_count": 100,
   "metadata": {},
   "outputs": [],
   "source": [
    "# Сделаем то, что должны были сделать еще раньше - уберем \"искусственные\" просмотры\n",
    "pc = hits[hits['Artificial'] == 0]['page'].value_counts()"
   ]
  },
  {
   "cell_type": "code",
   "execution_count": 143,
   "metadata": {},
   "outputs": [],
   "source": [
    "# есть некоторые замены, которые нужно произвести\n",
    "rplc = {'option=com_content&view=article&id=13': '/аренда-аэрохоккея',\n",
    "            'option=com_content&view=article&id=18': '/аренда-крокета',\n",
    "            'option=com_content&view=article&id=19': '/аренда-мини-гольфа',\n",
    "            'option=com_content&view=article&id=20': '/столы-армрестлинг',\n",
    "            'option=com_content&view=article&id=22': '/nintendo-wii',\n",
    "            'option=com_content&view=article&id=24': '/аттракцион-angry-birds',\n",
    "            'option=com_content&amp;view=article&amp;id=24': '/аттракцион-angry-birds',\n",
    "            'option=com_content&amp;view=article&amp;id=25': '/аренда-электромобили',\n",
    "            'option=com_content&view=article&id=25': '/аренда-электромобили',\n",
    "            'option=com_content&view=article&id=26': '/симулятор-сноуборда',\n",
    "            'option=com_content&view=article&id=27': '/аренда-радио-машинок',\n",
    "            'option=com_content&view=article&id=28': '/гоночный-симулятор',\n",
    "            'option=com_content&view=article&id=29': '/аренда-лазерный-тир',\n",
    "            'option=com_content&view=article&id=3': '/столы-для-покера',\n",
    "            'option=com_content&view=article&id=31': '/аренда-дартс',\n",
    "            'option=com_content&view=article&id=33': '/аренда-лототрона',\n",
    "            'option=com_content&view=article&id=10': '/настольный-футбол',\n",
    "            'option=com_content&view=article&id=42': '/аренда-казино',\n",
    "            '/mini-golf': '/аренда-мини-гольфа',\n",
    "            '/nastolnyj-tennis': '/настольный-теннис',\n",
    "            '/radioupravlyaemye-modeli': '/аренда-радио-машинок',\n",
    "            '/letayushchie-dengi': '/летающие-деньги',\n",
    "            '/gonochnyj-simulyator': '/гоночный-симулятор',\n",
    "            '/serditye-ptitsy': '/аттракцион-angry-birds',\n",
    "            '/kroket': '/аренда-крокета',\n",
    "            '/simulyator-snouborda': '/симулятор-сноуборда',\n",
    "            '/gorodki-v-arendu': '/gorodki-v-arendu',\n",
    "            '/nastolnyj-futbol': '/настольный-футбол',\n",
    "            '/nastolnyj-khokkej': '/аренда-аэрохоккея',\n",
    "            '/ruletka': '/аренда-рулетки',\n",
    "            '/tekhasskij-poker': '/техасский-холдем',\n",
    "            '/interaktivnyj-lazernyj-tir': '',\n",
    "            '/arenda-lototrona': '/аренда-лототрона',\n",
    "            '/xbox360': '/аренда-xbox360',\n",
    "            '/koleso-fortuny': '/колесо-фортуны',\n",
    "            '/kreps': '/аренда-столов-крэпс',\n",
    "            '/tarakani-i-khomyachi-bega': '/тараканьи-бега',\n",
    "            '/kto-my': '/kto-my',\n",
    "            '/odnorukij-bandit': '/odnorukij-bandit',\n",
    "            '/komplekt-1': '/аренда-казино',\n",
    "            '/blek-dzhek': '/столы-blackjack',\n",
    "            '/badminton': '/badminton',\n",
    "            '/detskie-elektromobili': '/аренда-электромобили',\n",
    "            '/darts-v-arendu': '/аренда-дартс',\n",
    "            '/Sony-PlayStation': '/sony-playstation',\n",
    "            '/Radioupravlyaemye-modeli': '/аренда-радио-машинок',\n",
    "            '/shakhmaty-shashki-nardy': '/шахматы-шашки-нарды',\n",
    "            '/сахарная-вата': '/сахарная-вата-аренда',\n",
    "            '//колесо-фортуны': '/колесо-фортуны',\n",
    "            '//аренда-крокета': '/аренда-крокета',\n",
    "            '/aerokhokkej': '/аренда-аэрохоккея',\n",
    "            '/channel/UC_HMKI5r0RQ612cIro5ZszQ': '/youtube',\n",
    "            '/armrestling': '/столы-армрестлинг',\n",
    "            '/казино-в-аренду': '/аренда-казино',\n",
    "            '/предложение-агенствам': '/предложение-агентствам',\n",
    "            '/attractionsrent/': '/instagram',\n",
    "            '/attractionrent': '/instagram'\n",
    "            }\n",
    "\n",
    "def replace_pages(page):\n",
    "    if page in rplc :\n",
    "        return rplc[page]\n",
    "    else :\n",
    "        return page"
   ]
  },
  {
   "cell_type": "code",
   "execution_count": 145,
   "metadata": {},
   "outputs": [],
   "source": [
    "hits['page'] = hits['page'].apply(replace_pages) "
   ]
  },
  {
   "cell_type": "code",
   "execution_count": null,
   "metadata": {},
   "outputs": [],
   "source": [
    "pc = hits[hits['Artificial'] == 0]['page'].value_counts()\n",
    "dict(pc)"
   ]
  },
  {
   "cell_type": "code",
   "execution_count": 136,
   "metadata": {},
   "outputs": [],
   "source": [
    "#очистим от другого мусора\n",
    "\n",
    "def clean_trash(page):\n",
    "    if (len(page) < 1) or ('/images/' in page) or (page[0] != '/') or ('/redir/' in page) or ('/collections/' in page) or ('/+' in page):\n",
    "        return 'blank'\n",
    "    else :\n",
    "        return page"
   ]
  },
  {
   "cell_type": "code",
   "execution_count": 147,
   "metadata": {},
   "outputs": [],
   "source": [
    "hits['page'] = hits['page'].apply(clean_trash) "
   ]
  },
  {
   "cell_type": "code",
   "execution_count": 148,
   "metadata": {},
   "outputs": [],
   "source": [
    "#Есть одна страница, которая была разделена на две '/popkorn-i-sakharnaya-vata'\n",
    "#Чтобы не терять результаты с этой страницы разделим просмотры по страницам в прорпции просмотров этих отдельных страниц\n",
    "import random\n",
    "\n",
    "def split_pages(page):\n",
    "    if page == '/popkorn-i-sakharnaya-vata':\n",
    "        if random.randint(1, 4637) > 2861:\n",
    "            return '/аренда-попкорн'\n",
    "        else :\n",
    "            return '/сахарная-вата-аренда'\n",
    "    else:\n",
    "        return page"
   ]
  },
  {
   "cell_type": "code",
   "execution_count": 150,
   "metadata": {},
   "outputs": [],
   "source": [
    "hits['page'] = hits['page'].apply(split_pages) "
   ]
  },
  {
   "cell_type": "code",
   "execution_count": 242,
   "metadata": {},
   "outputs": [
    {
     "data": {
      "text/plain": [
       "{'/аренда-радио-машинок': 9849,\n",
       " '/sony-playstation': 7044,\n",
       " '/аттракцион-angry-birds': 5913,\n",
       " '/сахарная-вата-аренда': 3592,\n",
       " '/аренда-электромобили': 3214,\n",
       " '/настольный-футбол': 3048,\n",
       " '/столы-для-покера': 2861,\n",
       " '/аренда-аэрохоккея': 2284,\n",
       " '/аренда-попкорн': 2159,\n",
       " '/аренда-лототрона': 2004,\n",
       " '/колесо-фортуны': 1993,\n",
       " '/аренда-казино': 1947,\n",
       " '/аренда-мини-гольфа': 1904,\n",
       " '/аренда-рулетки': 1868,\n",
       " '/летающие-деньги': 1844,\n",
       " '/тараканьи-бега': 1772,\n",
       " '/аренда-лазерный-тир': 1672,\n",
       " '/гоночный-симулятор': 1598,\n",
       " '/развлекательные-аттракционы': 1452,\n",
       " '/аренда-xbox360': 1398,\n",
       " '/kontakty': 1176,\n",
       " '/столы-армрестлинг': 1037,\n",
       " '/настольный-теннис': 1037,\n",
       " '/аренда-дартс': 984,\n",
       " '/симулятор-сноуборда': 832,\n",
       " '/аренда-бампербола': 828,\n",
       " '/столы-blackjack': 749,\n",
       " '/аренда-крокета': 733,\n",
       " '/доставка-аттракционов': 662,\n",
       " '/аренда-столов-крэпс': 644,\n",
       " '/аренда-аттракционов': 595,\n",
       " '/шахматы-шашки-нарды': 580,\n",
       " '/способы-оплаты': 572,\n",
       " '/спортивные-аттракционы': 566,\n",
       " '/предложение-агентствам': 549,\n",
       " '/дженга': 478,\n",
       " '/командные-лыжи': 475,\n",
       " '/аттракцион-сумо': 426,\n",
       " '/nintendo-wii': 393,\n",
       " '/настольные-аттракционы': 391,\n",
       " '/очки-виртуальной-реальности': 384,\n",
       " '/радиоуправляемые-танки': 381,\n",
       " '/техасский-холдем': 355,\n",
       " '/аттракцион-гусеница': 323,\n",
       " '/instagram': 206,\n",
       " '/пневматические-пистолеты': 205,\n",
       " '/nastolnyj-basketbol': 194,\n",
       " '/луки-и-арбалеты': 168,\n",
       " '/рогатки': 145,\n",
       " '/frisbi': 140,\n",
       " '/gorodki-v-arendu': 136,\n",
       " '/youtube': 96,\n",
       " '/kto-my': 46,\n",
       " '/odnorukij-bandit': 41,\n",
       " '/badminton': 25}"
      ]
     },
     "execution_count": 242,
     "metadata": {},
     "output_type": "execute_result"
    }
   ],
   "source": [
    "#допонительно избавимся от мусора через количество показов не менее 10\n",
    "pc = hits[hits['Artificial'] == 0]['page'].value_counts()\n",
    "pc = dict(pc)\n",
    "\n",
    "for key in [key for key, value in pc.items() if value < 10]: del pc[key] #Классная штука, подсмотрел в интернете\n",
    "    \n",
    "#еще пару ненужных надо удалить\n",
    "del pc['blank']\n",
    "del pc['/meltsaev.denis'] #Ссылка на разработчика да :)"
   ]
  },
  {
   "cell_type": "markdown",
   "metadata": {},
   "source": [
    "Вот что значит подготовка данных!"
   ]
  },
  {
   "cell_type": "code",
   "execution_count": 244,
   "metadata": {},
   "outputs": [
    {
     "data": {
      "text/html": [
       "<div>\n",
       "<style scoped>\n",
       "    .dataframe tbody tr th:only-of-type {\n",
       "        vertical-align: middle;\n",
       "    }\n",
       "\n",
       "    .dataframe tbody tr th {\n",
       "        vertical-align: top;\n",
       "    }\n",
       "\n",
       "    .dataframe thead th {\n",
       "        text-align: right;\n",
       "    }\n",
       "</style>\n",
       "<table border=\"1\" class=\"dataframe\">\n",
       "  <thead>\n",
       "    <tr style=\"text-align: right;\">\n",
       "      <th></th>\n",
       "      <th>`Date`</th>\n",
       "      <th>page</th>\n",
       "      <th>GoalsID</th>\n",
       "      <th>Referer</th>\n",
       "    </tr>\n",
       "  </thead>\n",
       "  <tbody>\n",
       "    <tr>\n",
       "      <td>0</td>\n",
       "      <td>2018-01-01</td>\n",
       "      <td>/аттракцион-angry-birds</td>\n",
       "      <td>NaN</td>\n",
       "      <td>http://yabs.yandex.ru/count/O6gDlVYCjUe50701CT...</td>\n",
       "    </tr>\n",
       "    <tr>\n",
       "      <td>1</td>\n",
       "      <td>2018-01-01</td>\n",
       "      <td>/sony-playstation</td>\n",
       "      <td>NaN</td>\n",
       "      <td>http://yabs.yandex.ru/count/S7i5NVPIZ_a506u1CQ...</td>\n",
       "    </tr>\n",
       "    <tr>\n",
       "      <td>4</td>\n",
       "      <td>2018-01-01</td>\n",
       "      <td>/аренда-радио-машинок</td>\n",
       "      <td>NaN</td>\n",
       "      <td>http://yabs.yandex.ru/count/KKRQxQe4Ure50841CI...</td>\n",
       "    </tr>\n",
       "    <tr>\n",
       "      <td>6</td>\n",
       "      <td>2018-01-01</td>\n",
       "      <td>/sony-playstation</td>\n",
       "      <td>NaN</td>\n",
       "      <td>http://yabs.yandex.ru/count/Heth3UqpfuS506i1CO...</td>\n",
       "    </tr>\n",
       "    <tr>\n",
       "      <td>7</td>\n",
       "      <td>2018-01-01</td>\n",
       "      <td>/аренда-радио-машинок</td>\n",
       "      <td>NaN</td>\n",
       "      <td>http://yandex.ru/searchapp?text=</td>\n",
       "    </tr>\n",
       "    <tr>\n",
       "      <td>...</td>\n",
       "      <td>...</td>\n",
       "      <td>...</td>\n",
       "      <td>...</td>\n",
       "      <td>...</td>\n",
       "    </tr>\n",
       "    <tr>\n",
       "      <td>171693</td>\n",
       "      <td>2019-10-30</td>\n",
       "      <td>/колесо-фортуны</td>\n",
       "      <td>NaN</td>\n",
       "      <td>NaN</td>\n",
       "    </tr>\n",
       "    <tr>\n",
       "      <td>171699</td>\n",
       "      <td>2019-10-30</td>\n",
       "      <td>/колесо-фортуны</td>\n",
       "      <td>NaN</td>\n",
       "      <td>NaN</td>\n",
       "    </tr>\n",
       "    <tr>\n",
       "      <td>171706</td>\n",
       "      <td>2019-10-30</td>\n",
       "      <td>/сахарная-вата-аренда</td>\n",
       "      <td>NaN</td>\n",
       "      <td>NaN</td>\n",
       "    </tr>\n",
       "    <tr>\n",
       "      <td>171714</td>\n",
       "      <td>2019-10-30</td>\n",
       "      <td>/колесо-фортуны</td>\n",
       "      <td>NaN</td>\n",
       "      <td>NaN</td>\n",
       "    </tr>\n",
       "    <tr>\n",
       "      <td>171717</td>\n",
       "      <td>2019-10-30</td>\n",
       "      <td>/шахматы-шашки-нарды</td>\n",
       "      <td>NaN</td>\n",
       "      <td>https://yandex.ru/</td>\n",
       "    </tr>\n",
       "  </tbody>\n",
       "</table>\n",
       "<p>75968 rows × 4 columns</p>\n",
       "</div>"
      ],
      "text/plain": [
       "            `Date`                     page GoalsID  \\\n",
       "0       2018-01-01  /аттракцион-angry-birds     NaN   \n",
       "1       2018-01-01        /sony-playstation     NaN   \n",
       "4       2018-01-01    /аренда-радио-машинок     NaN   \n",
       "6       2018-01-01        /sony-playstation     NaN   \n",
       "7       2018-01-01    /аренда-радио-машинок     NaN   \n",
       "...            ...                      ...     ...   \n",
       "171693  2019-10-30          /колесо-фортуны     NaN   \n",
       "171699  2019-10-30          /колесо-фортуны     NaN   \n",
       "171706  2019-10-30    /сахарная-вата-аренда     NaN   \n",
       "171714  2019-10-30          /колесо-фортуны     NaN   \n",
       "171717  2019-10-30     /шахматы-шашки-нарды     NaN   \n",
       "\n",
       "                                                  Referer  \n",
       "0       http://yabs.yandex.ru/count/O6gDlVYCjUe50701CT...  \n",
       "1       http://yabs.yandex.ru/count/S7i5NVPIZ_a506u1CQ...  \n",
       "4       http://yabs.yandex.ru/count/KKRQxQe4Ure50841CI...  \n",
       "6       http://yabs.yandex.ru/count/Heth3UqpfuS506i1CO...  \n",
       "7                        http://yandex.ru/searchapp?text=  \n",
       "...                                                   ...  \n",
       "171693                                                NaN  \n",
       "171699                                                NaN  \n",
       "171706                                                NaN  \n",
       "171714                                                NaN  \n",
       "171717                                 https://yandex.ru/  \n",
       "\n",
       "[75968 rows x 4 columns]"
      ]
     },
     "execution_count": 244,
     "metadata": {},
     "output_type": "execute_result"
    }
   ],
   "source": [
    "pages = hits[(hits['Artificial'] == 0) & (hits['page'].isin(pc)) & (hits['page'].isnull() == False)][['`Date`', 'page', 'GoalsID', 'Referer']]\n",
    "pages"
   ]
  },
  {
   "cell_type": "markdown",
   "metadata": {},
   "source": [
    "У меня будет своя разбивка по сезонам, ориентированная на учет праздничных дней в РФ"
   ]
  },
  {
   "cell_type": "code",
   "execution_count": 227,
   "metadata": {},
   "outputs": [],
   "source": [
    "seasons = {\n",
    "            'winter': [[11, 1], [1, 20]],\n",
    "            'wo_man': [[1, 21], [3, 15]],\n",
    "            'spring': [[3, 16], [5, 16]],\n",
    "            'summer': [[5, 17], [8, 10]],\n",
    "            'autumn': [[8, 11], [10,31]]\n",
    "          }\n",
    "#запись не очень понятной, но написано старт и конец сезона через задание [месяц, число]"
   ]
  },
  {
   "cell_type": "code",
   "execution_count": 224,
   "metadata": {},
   "outputs": [],
   "source": [
    "def set_seasons(date):\n",
    "    month = int(date[5:7])\n",
    "    day = int(date[8:])\n",
    "              \n",
    "    for key, value in seasons.items():\n",
    "        if (value[0][0] == month and value[0][1] <= day) or (value[1][0] == month and value[1][1] >= day) or (value[0][0] < month < value[1][0]) or (month == 12):\n",
    "            return key\n",
    "    \n",
    "    return 'undefined'"
   ]
  },
  {
   "cell_type": "code",
   "execution_count": 245,
   "metadata": {},
   "outputs": [],
   "source": [
    "pages['seasons'] = pages['`Date`'].apply(set_seasons)"
   ]
  },
  {
   "cell_type": "code",
   "execution_count": 246,
   "metadata": {},
   "outputs": [
    {
     "data": {
      "text/plain": [
       "{'autumn': 14118,\n",
       " 'spring': 10827,\n",
       " 'summer': 23243,\n",
       " 'winter': 14369,\n",
       " 'wo_man': 13411}"
      ]
     },
     "execution_count": 246,
     "metadata": {},
     "output_type": "execute_result"
    }
   ],
   "source": [
    "#Подсчитаем количество дней в сезонах, чтобы нормировать количество просмотров\n",
    "date_in_seasons = pages.groupby('seasons').agg({'`Date`': 'count'}).reset_index()\n",
    "date_in_seasons = pd.Series(date_in_seasons['`Date`'].values, index = date_in_seasons.seasons).to_dict()\n",
    "date_in_seasons"
   ]
  },
  {
   "cell_type": "code",
   "execution_count": 248,
   "metadata": {},
   "outputs": [],
   "source": [
    "sepage = pages.groupby(['seasons', 'page']).agg({'Referer': 'count'}).reset_index()"
   ]
  },
  {
   "cell_type": "code",
   "execution_count": 249,
   "metadata": {},
   "outputs": [],
   "source": [
    "def normalize(row):\n",
    "    return row['Referer']/date_in_seasons[row['seasons']] * 10000"
   ]
  },
  {
   "cell_type": "code",
   "execution_count": 250,
   "metadata": {},
   "outputs": [],
   "source": [
    "sepage['shows'] = sepage.apply(normalize, axis = 1)"
   ]
  },
  {
   "cell_type": "code",
   "execution_count": 251,
   "metadata": {},
   "outputs": [
    {
     "data": {
      "text/html": [
       "<div>\n",
       "<style scoped>\n",
       "    .dataframe tbody tr th:only-of-type {\n",
       "        vertical-align: middle;\n",
       "    }\n",
       "\n",
       "    .dataframe tbody tr th {\n",
       "        vertical-align: top;\n",
       "    }\n",
       "\n",
       "    .dataframe thead th {\n",
       "        text-align: right;\n",
       "    }\n",
       "</style>\n",
       "<table border=\"1\" class=\"dataframe\">\n",
       "  <thead>\n",
       "    <tr style=\"text-align: right;\">\n",
       "      <th></th>\n",
       "      <th>seasons</th>\n",
       "      <th>page</th>\n",
       "      <th>Referer</th>\n",
       "      <th>shows</th>\n",
       "    </tr>\n",
       "  </thead>\n",
       "  <tbody>\n",
       "    <tr>\n",
       "      <td>0</td>\n",
       "      <td>autumn</td>\n",
       "      <td>/badminton</td>\n",
       "      <td>8</td>\n",
       "      <td>5.666525</td>\n",
       "    </tr>\n",
       "    <tr>\n",
       "      <td>1</td>\n",
       "      <td>autumn</td>\n",
       "      <td>/frisbi</td>\n",
       "      <td>51</td>\n",
       "      <td>36.124097</td>\n",
       "    </tr>\n",
       "    <tr>\n",
       "      <td>2</td>\n",
       "      <td>autumn</td>\n",
       "      <td>/gorodki-v-arendu</td>\n",
       "      <td>71</td>\n",
       "      <td>50.290409</td>\n",
       "    </tr>\n",
       "    <tr>\n",
       "      <td>3</td>\n",
       "      <td>autumn</td>\n",
       "      <td>/instagram</td>\n",
       "      <td>47</td>\n",
       "      <td>33.290834</td>\n",
       "    </tr>\n",
       "    <tr>\n",
       "      <td>4</td>\n",
       "      <td>autumn</td>\n",
       "      <td>/kontakty</td>\n",
       "      <td>191</td>\n",
       "      <td>135.288284</td>\n",
       "    </tr>\n",
       "    <tr>\n",
       "      <td>...</td>\n",
       "      <td>...</td>\n",
       "      <td>...</td>\n",
       "      <td>...</td>\n",
       "      <td>...</td>\n",
       "    </tr>\n",
       "    <tr>\n",
       "      <td>258</td>\n",
       "      <td>wo_man</td>\n",
       "      <td>/столы-армрестлинг</td>\n",
       "      <td>234</td>\n",
       "      <td>174.483633</td>\n",
       "    </tr>\n",
       "    <tr>\n",
       "      <td>259</td>\n",
       "      <td>wo_man</td>\n",
       "      <td>/столы-для-покера</td>\n",
       "      <td>496</td>\n",
       "      <td>369.845649</td>\n",
       "    </tr>\n",
       "    <tr>\n",
       "      <td>260</td>\n",
       "      <td>wo_man</td>\n",
       "      <td>/тараканьи-бега</td>\n",
       "      <td>317</td>\n",
       "      <td>236.373127</td>\n",
       "    </tr>\n",
       "    <tr>\n",
       "      <td>261</td>\n",
       "      <td>wo_man</td>\n",
       "      <td>/техасский-холдем</td>\n",
       "      <td>53</td>\n",
       "      <td>39.519797</td>\n",
       "    </tr>\n",
       "    <tr>\n",
       "      <td>262</td>\n",
       "      <td>wo_man</td>\n",
       "      <td>/шахматы-шашки-нарды</td>\n",
       "      <td>86</td>\n",
       "      <td>64.126463</td>\n",
       "    </tr>\n",
       "  </tbody>\n",
       "</table>\n",
       "<p>263 rows × 4 columns</p>\n",
       "</div>"
      ],
      "text/plain": [
       "    seasons                  page  Referer       shows\n",
       "0    autumn            /badminton        8    5.666525\n",
       "1    autumn               /frisbi       51   36.124097\n",
       "2    autumn     /gorodki-v-arendu       71   50.290409\n",
       "3    autumn            /instagram       47   33.290834\n",
       "4    autumn             /kontakty      191  135.288284\n",
       "..      ...                   ...      ...         ...\n",
       "258  wo_man    /столы-армрестлинг      234  174.483633\n",
       "259  wo_man     /столы-для-покера      496  369.845649\n",
       "260  wo_man       /тараканьи-бега      317  236.373127\n",
       "261  wo_man     /техасский-холдем       53   39.519797\n",
       "262  wo_man  /шахматы-шашки-нарды       86   64.126463\n",
       "\n",
       "[263 rows x 4 columns]"
      ]
     },
     "execution_count": 251,
     "metadata": {},
     "output_type": "execute_result"
    }
   ],
   "source": [
    "sepage"
   ]
  },
  {
   "cell_type": "code",
   "execution_count": 252,
   "metadata": {},
   "outputs": [],
   "source": [
    "import seaborn as sns"
   ]
  },
  {
   "cell_type": "code",
   "execution_count": 261,
   "metadata": {},
   "outputs": [
    {
     "data": {
      "text/html": [
       "<div>\n",
       "<style scoped>\n",
       "    .dataframe tbody tr th:only-of-type {\n",
       "        vertical-align: middle;\n",
       "    }\n",
       "\n",
       "    .dataframe tbody tr th {\n",
       "        vertical-align: top;\n",
       "    }\n",
       "\n",
       "    .dataframe thead th {\n",
       "        text-align: right;\n",
       "    }\n",
       "</style>\n",
       "<table border=\"1\" class=\"dataframe\">\n",
       "  <thead>\n",
       "    <tr style=\"text-align: right;\">\n",
       "      <th>page</th>\n",
       "      <th>/badminton</th>\n",
       "      <th>/frisbi</th>\n",
       "      <th>/gorodki-v-arendu</th>\n",
       "      <th>/instagram</th>\n",
       "      <th>/kontakty</th>\n",
       "      <th>/kto-my</th>\n",
       "      <th>/nastolnyj-basketbol</th>\n",
       "      <th>/nintendo-wii</th>\n",
       "      <th>/odnorukij-bandit</th>\n",
       "      <th>/sony-playstation</th>\n",
       "      <th>...</th>\n",
       "      <th>/сахарная-вата-аренда</th>\n",
       "      <th>/симулятор-сноуборда</th>\n",
       "      <th>/спортивные-аттракционы</th>\n",
       "      <th>/способы-оплаты</th>\n",
       "      <th>/столы-blackjack</th>\n",
       "      <th>/столы-армрестлинг</th>\n",
       "      <th>/столы-для-покера</th>\n",
       "      <th>/тараканьи-бега</th>\n",
       "      <th>/техасский-холдем</th>\n",
       "      <th>/шахматы-шашки-нарды</th>\n",
       "    </tr>\n",
       "    <tr>\n",
       "      <th>seasons</th>\n",
       "      <th></th>\n",
       "      <th></th>\n",
       "      <th></th>\n",
       "      <th></th>\n",
       "      <th></th>\n",
       "      <th></th>\n",
       "      <th></th>\n",
       "      <th></th>\n",
       "      <th></th>\n",
       "      <th></th>\n",
       "      <th></th>\n",
       "      <th></th>\n",
       "      <th></th>\n",
       "      <th></th>\n",
       "      <th></th>\n",
       "      <th></th>\n",
       "      <th></th>\n",
       "      <th></th>\n",
       "      <th></th>\n",
       "      <th></th>\n",
       "      <th></th>\n",
       "    </tr>\n",
       "  </thead>\n",
       "  <tbody>\n",
       "    <tr>\n",
       "      <td>autumn</td>\n",
       "      <td>5.666525</td>\n",
       "      <td>36.124097</td>\n",
       "      <td>50.290409</td>\n",
       "      <td>33.290834</td>\n",
       "      <td>135.288284</td>\n",
       "      <td>2.124947</td>\n",
       "      <td>49.582094</td>\n",
       "      <td>36.832413</td>\n",
       "      <td>4.249894</td>\n",
       "      <td>1032.724182</td>\n",
       "      <td>...</td>\n",
       "      <td>217.452897</td>\n",
       "      <td>104.122397</td>\n",
       "      <td>41.790622</td>\n",
       "      <td>62.331775</td>\n",
       "      <td>87.122822</td>\n",
       "      <td>123.955234</td>\n",
       "      <td>349.907919</td>\n",
       "      <td>173.537328</td>\n",
       "      <td>48.873778</td>\n",
       "      <td>91.372716</td>\n",
       "    </tr>\n",
       "    <tr>\n",
       "      <td>spring</td>\n",
       "      <td>0.000000</td>\n",
       "      <td>0.000000</td>\n",
       "      <td>0.000000</td>\n",
       "      <td>14.777870</td>\n",
       "      <td>134.848065</td>\n",
       "      <td>0.000000</td>\n",
       "      <td>0.000000</td>\n",
       "      <td>49.875312</td>\n",
       "      <td>0.000000</td>\n",
       "      <td>883.901358</td>\n",
       "      <td>...</td>\n",
       "      <td>474.739078</td>\n",
       "      <td>80.354669</td>\n",
       "      <td>69.271266</td>\n",
       "      <td>75.736584</td>\n",
       "      <td>59.111481</td>\n",
       "      <td>108.986792</td>\n",
       "      <td>256.765494</td>\n",
       "      <td>191.188695</td>\n",
       "      <td>21.243188</td>\n",
       "      <td>49.875312</td>\n",
       "    </tr>\n",
       "    <tr>\n",
       "      <td>summer</td>\n",
       "      <td>6.883793</td>\n",
       "      <td>25.383987</td>\n",
       "      <td>20.221142</td>\n",
       "      <td>32.698017</td>\n",
       "      <td>140.687519</td>\n",
       "      <td>6.883793</td>\n",
       "      <td>38.721335</td>\n",
       "      <td>34.418965</td>\n",
       "      <td>9.034978</td>\n",
       "      <td>808.845674</td>\n",
       "      <td>...</td>\n",
       "      <td>548.552252</td>\n",
       "      <td>82.605516</td>\n",
       "      <td>55.930818</td>\n",
       "      <td>55.070344</td>\n",
       "      <td>64.535559</td>\n",
       "      <td>97.233576</td>\n",
       "      <td>231.037302</td>\n",
       "      <td>148.431786</td>\n",
       "      <td>34.418965</td>\n",
       "      <td>68.407693</td>\n",
       "    </tr>\n",
       "    <tr>\n",
       "      <td>winter</td>\n",
       "      <td>0.000000</td>\n",
       "      <td>19.486394</td>\n",
       "      <td>9.047255</td>\n",
       "      <td>24.357993</td>\n",
       "      <td>141.972301</td>\n",
       "      <td>13.918853</td>\n",
       "      <td>18.094509</td>\n",
       "      <td>59.155126</td>\n",
       "      <td>4.175656</td>\n",
       "      <td>984.062913</td>\n",
       "      <td>...</td>\n",
       "      <td>424.525019</td>\n",
       "      <td>129.445334</td>\n",
       "      <td>34.101190</td>\n",
       "      <td>68.202380</td>\n",
       "      <td>153.107384</td>\n",
       "      <td>92.560373</td>\n",
       "      <td>367.457721</td>\n",
       "      <td>167.722180</td>\n",
       "      <td>74.465864</td>\n",
       "      <td>82.121233</td>\n",
       "    </tr>\n",
       "    <tr>\n",
       "      <td>wo_man</td>\n",
       "      <td>0.000000</td>\n",
       "      <td>0.000000</td>\n",
       "      <td>0.000000</td>\n",
       "      <td>23.861010</td>\n",
       "      <td>172.246663</td>\n",
       "      <td>0.745657</td>\n",
       "      <td>0.000000</td>\n",
       "      <td>75.311312</td>\n",
       "      <td>0.000000</td>\n",
       "      <td>767.280591</td>\n",
       "      <td>...</td>\n",
       "      <td>325.106256</td>\n",
       "      <td>109.611513</td>\n",
       "      <td>37.282828</td>\n",
       "      <td>115.576765</td>\n",
       "      <td>102.900604</td>\n",
       "      <td>174.483633</td>\n",
       "      <td>369.845649</td>\n",
       "      <td>236.373127</td>\n",
       "      <td>39.519797</td>\n",
       "      <td>64.126463</td>\n",
       "    </tr>\n",
       "  </tbody>\n",
       "</table>\n",
       "<p>5 rows × 55 columns</p>\n",
       "</div>"
      ],
      "text/plain": [
       "page     /badminton    /frisbi  /gorodki-v-arendu  /instagram   /kontakty  \\\n",
       "seasons                                                                     \n",
       "autumn     5.666525  36.124097          50.290409   33.290834  135.288284   \n",
       "spring     0.000000   0.000000           0.000000   14.777870  134.848065   \n",
       "summer     6.883793  25.383987          20.221142   32.698017  140.687519   \n",
       "winter     0.000000  19.486394           9.047255   24.357993  141.972301   \n",
       "wo_man     0.000000   0.000000           0.000000   23.861010  172.246663   \n",
       "\n",
       "page       /kto-my  /nastolnyj-basketbol  /nintendo-wii  /odnorukij-bandit  \\\n",
       "seasons                                                                      \n",
       "autumn    2.124947             49.582094      36.832413           4.249894   \n",
       "spring    0.000000              0.000000      49.875312           0.000000   \n",
       "summer    6.883793             38.721335      34.418965           9.034978   \n",
       "winter   13.918853             18.094509      59.155126           4.175656   \n",
       "wo_man    0.745657              0.000000      75.311312           0.000000   \n",
       "\n",
       "page     /sony-playstation  ...  /сахарная-вата-аренда  /симулятор-сноуборда  \\\n",
       "seasons                     ...                                                \n",
       "autumn         1032.724182  ...             217.452897            104.122397   \n",
       "spring          883.901358  ...             474.739078             80.354669   \n",
       "summer          808.845674  ...             548.552252             82.605516   \n",
       "winter          984.062913  ...             424.525019            129.445334   \n",
       "wo_man          767.280591  ...             325.106256            109.611513   \n",
       "\n",
       "page     /спортивные-аттракционы  /способы-оплаты  /столы-blackjack  \\\n",
       "seasons                                                               \n",
       "autumn                 41.790622        62.331775         87.122822   \n",
       "spring                 69.271266        75.736584         59.111481   \n",
       "summer                 55.930818        55.070344         64.535559   \n",
       "winter                 34.101190        68.202380        153.107384   \n",
       "wo_man                 37.282828       115.576765        102.900604   \n",
       "\n",
       "page     /столы-армрестлинг  /столы-для-покера  /тараканьи-бега  \\\n",
       "seasons                                                           \n",
       "autumn           123.955234         349.907919       173.537328   \n",
       "spring           108.986792         256.765494       191.188695   \n",
       "summer            97.233576         231.037302       148.431786   \n",
       "winter            92.560373         367.457721       167.722180   \n",
       "wo_man           174.483633         369.845649       236.373127   \n",
       "\n",
       "page     /техасский-холдем  /шахматы-шашки-нарды  \n",
       "seasons                                           \n",
       "autumn           48.873778             91.372716  \n",
       "spring           21.243188             49.875312  \n",
       "summer           34.418965             68.407693  \n",
       "winter           74.465864             82.121233  \n",
       "wo_man           39.519797             64.126463  \n",
       "\n",
       "[5 rows x 55 columns]"
      ]
     },
     "execution_count": 261,
     "metadata": {},
     "output_type": "execute_result"
    }
   ],
   "source": [
    "heat = sepage.pivot_table(\n",
    "                        index='seasons', \n",
    "                        columns='page', \n",
    "                        values='shows', \n",
    "                        aggfunc=sum).fillna(0).applymap(float)\n",
    "heat"
   ]
  },
  {
   "cell_type": "code",
   "execution_count": 265,
   "metadata": {},
   "outputs": [],
   "source": [
    "rcParams['figure.figsize'] = 16,9"
   ]
  },
  {
   "cell_type": "code",
   "execution_count": 266,
   "metadata": {},
   "outputs": [
    {
     "data": {
      "text/plain": [
       "<matplotlib.axes._subplots.AxesSubplot at 0x2809a370308>"
      ]
     },
     "execution_count": 266,
     "metadata": {},
     "output_type": "execute_result"
    },
    {
     "data": {
      "image/png": "[encoded data removed]",
      "text/plain": [
       "<Figure size 1152x648 with 2 Axes>"
      ]
     },
     "metadata": {
      "needs_background": "light"
     },
     "output_type": "display_data"
    }
   ],
   "source": [
    "sns.heatmap(heat, linewidths=0.5)"
   ]
  },
  {
   "cell_type": "markdown",
   "metadata": {},
   "source": [
    "## Промежуточный вывод\n",
    "\n",
    "Как ни странно, сильной разницы в сезонности аттракционов нет. Есть только пару ярких исключений:\n",
    "    1. На 23 февраля/8 марта настольный футбол пользуется большей популярностью, а вот зимой и осенью им не так активно интересуются\n",
    "    2. Радио машинки пользуются большой популярностью, погоняем на корпоративе? :)\n",
    "    3. В летние месяца большой популярностью пользуются попкорн и мини-гольф (это понятно), сахарная вата тоже\n",
    "    4. Удивительно, но кажется что осень самый плохой сезон, хотя думал на лето (там ни одного праздника)"
   ]
  },
  {
   "cell_type": "markdown",
   "metadata": {},
   "source": [
    "Вывод промежуточный, потому что хочу немного изменить подход к этой тепловой карте, т.к. сейчас по ней тяжело понять сезонность конкретного аттракциона - отдельные страницы вынуждены конкурировать с часто показываемыми страницами за яркость цвета"
   ]
  },
  {
   "cell_type": "code",
   "execution_count": null,
   "metadata": {},
   "outputs": [],
   "source": [
    "pshow = pages.groupby('page').agg({'`Date`': 'count'}).reset_index()\n",
    "pshow = pd.Series(pshow['`Date`'].values, index = pshow.page).to_dict()"
   ]
  },
  {
   "cell_type": "code",
   "execution_count": 271,
   "metadata": {},
   "outputs": [],
   "source": [
    "def relative_show(row):\n",
    "    return row['Referer']/pshow[row['page']] * 1000\n",
    "\n",
    "sepage['shows'] = sepage.apply(relative_show, axis = 1)"
   ]
  },
  {
   "cell_type": "code",
   "execution_count": 272,
   "metadata": {},
   "outputs": [
    {
     "data": {
      "text/html": [
       "<div>\n",
       "<style scoped>\n",
       "    .dataframe tbody tr th:only-of-type {\n",
       "        vertical-align: middle;\n",
       "    }\n",
       "\n",
       "    .dataframe tbody tr th {\n",
       "        vertical-align: top;\n",
       "    }\n",
       "\n",
       "    .dataframe thead th {\n",
       "        text-align: right;\n",
       "    }\n",
       "</style>\n",
       "<table border=\"1\" class=\"dataframe\">\n",
       "  <thead>\n",
       "    <tr style=\"text-align: right;\">\n",
       "      <th>page</th>\n",
       "      <th>/badminton</th>\n",
       "      <th>/frisbi</th>\n",
       "      <th>/gorodki-v-arendu</th>\n",
       "      <th>/instagram</th>\n",
       "      <th>/kontakty</th>\n",
       "      <th>/kto-my</th>\n",
       "      <th>/nastolnyj-basketbol</th>\n",
       "      <th>/nintendo-wii</th>\n",
       "      <th>/odnorukij-bandit</th>\n",
       "      <th>/sony-playstation</th>\n",
       "      <th>...</th>\n",
       "      <th>/сахарная-вата-аренда</th>\n",
       "      <th>/симулятор-сноуборда</th>\n",
       "      <th>/спортивные-аттракционы</th>\n",
       "      <th>/способы-оплаты</th>\n",
       "      <th>/столы-blackjack</th>\n",
       "      <th>/столы-армрестлинг</th>\n",
       "      <th>/столы-для-покера</th>\n",
       "      <th>/тараканьи-бега</th>\n",
       "      <th>/техасский-холдем</th>\n",
       "      <th>/шахматы-шашки-нарды</th>\n",
       "    </tr>\n",
       "    <tr>\n",
       "      <th>seasons</th>\n",
       "      <th></th>\n",
       "      <th></th>\n",
       "      <th></th>\n",
       "      <th></th>\n",
       "      <th></th>\n",
       "      <th></th>\n",
       "      <th></th>\n",
       "      <th></th>\n",
       "      <th></th>\n",
       "      <th></th>\n",
       "      <th></th>\n",
       "      <th></th>\n",
       "      <th></th>\n",
       "      <th></th>\n",
       "      <th></th>\n",
       "      <th></th>\n",
       "      <th></th>\n",
       "      <th></th>\n",
       "      <th></th>\n",
       "      <th></th>\n",
       "      <th></th>\n",
       "    </tr>\n",
       "  </thead>\n",
       "  <tbody>\n",
       "    <tr>\n",
       "      <td>autumn</td>\n",
       "      <td>320.0</td>\n",
       "      <td>364.285714</td>\n",
       "      <td>522.058824</td>\n",
       "      <td>228.155340</td>\n",
       "      <td>162.414966</td>\n",
       "      <td>65.217391</td>\n",
       "      <td>360.824742</td>\n",
       "      <td>132.315522</td>\n",
       "      <td>146.341463</td>\n",
       "      <td>206.984668</td>\n",
       "      <td>...</td>\n",
       "      <td>85.467706</td>\n",
       "      <td>176.682692</td>\n",
       "      <td>104.240283</td>\n",
       "      <td>153.846154</td>\n",
       "      <td>164.218959</td>\n",
       "      <td>168.756027</td>\n",
       "      <td>172.666900</td>\n",
       "      <td>138.261851</td>\n",
       "      <td>194.366197</td>\n",
       "      <td>222.413793</td>\n",
       "    </tr>\n",
       "    <tr>\n",
       "      <td>spring</td>\n",
       "      <td>0.0</td>\n",
       "      <td>0.000000</td>\n",
       "      <td>0.000000</td>\n",
       "      <td>77.669903</td>\n",
       "      <td>124.149660</td>\n",
       "      <td>0.000000</td>\n",
       "      <td>0.000000</td>\n",
       "      <td>137.404580</td>\n",
       "      <td>0.000000</td>\n",
       "      <td>135.860307</td>\n",
       "      <td>...</td>\n",
       "      <td>143.095768</td>\n",
       "      <td>104.567308</td>\n",
       "      <td>132.508834</td>\n",
       "      <td>143.356643</td>\n",
       "      <td>85.447263</td>\n",
       "      <td>113.789778</td>\n",
       "      <td>97.168822</td>\n",
       "      <td>116.817156</td>\n",
       "      <td>64.788732</td>\n",
       "      <td>93.103448</td>\n",
       "    </tr>\n",
       "    <tr>\n",
       "      <td>summer</td>\n",
       "      <td>640.0</td>\n",
       "      <td>421.428571</td>\n",
       "      <td>345.588235</td>\n",
       "      <td>368.932039</td>\n",
       "      <td>278.061224</td>\n",
       "      <td>347.826087</td>\n",
       "      <td>463.917526</td>\n",
       "      <td>203.562341</td>\n",
       "      <td>512.195122</td>\n",
       "      <td>266.893810</td>\n",
       "      <td>...</td>\n",
       "      <td>354.955457</td>\n",
       "      <td>230.769231</td>\n",
       "      <td>229.681979</td>\n",
       "      <td>223.776224</td>\n",
       "      <td>200.267023</td>\n",
       "      <td>217.936355</td>\n",
       "      <td>187.696610</td>\n",
       "      <td>194.695260</td>\n",
       "      <td>225.352113</td>\n",
       "      <td>274.137931</td>\n",
       "    </tr>\n",
       "    <tr>\n",
       "      <td>winter</td>\n",
       "      <td>0.0</td>\n",
       "      <td>200.000000</td>\n",
       "      <td>95.588235</td>\n",
       "      <td>169.902913</td>\n",
       "      <td>173.469388</td>\n",
       "      <td>434.782609</td>\n",
       "      <td>134.020619</td>\n",
       "      <td>216.284987</td>\n",
       "      <td>146.341463</td>\n",
       "      <td>200.738217</td>\n",
       "      <td>...</td>\n",
       "      <td>169.821826</td>\n",
       "      <td>223.557692</td>\n",
       "      <td>86.572438</td>\n",
       "      <td>171.328671</td>\n",
       "      <td>293.724967</td>\n",
       "      <td>128.254581</td>\n",
       "      <td>184.550856</td>\n",
       "      <td>136.004515</td>\n",
       "      <td>301.408451</td>\n",
       "      <td>203.448276</td>\n",
       "    </tr>\n",
       "    <tr>\n",
       "      <td>wo_man</td>\n",
       "      <td>0.0</td>\n",
       "      <td>0.000000</td>\n",
       "      <td>0.000000</td>\n",
       "      <td>155.339806</td>\n",
       "      <td>196.428571</td>\n",
       "      <td>21.739130</td>\n",
       "      <td>0.000000</td>\n",
       "      <td>256.997455</td>\n",
       "      <td>0.000000</td>\n",
       "      <td>146.081772</td>\n",
       "      <td>...</td>\n",
       "      <td>121.380846</td>\n",
       "      <td>176.682692</td>\n",
       "      <td>88.339223</td>\n",
       "      <td>270.979021</td>\n",
       "      <td>184.245661</td>\n",
       "      <td>225.650916</td>\n",
       "      <td>173.365956</td>\n",
       "      <td>178.893905</td>\n",
       "      <td>149.295775</td>\n",
       "      <td>148.275862</td>\n",
       "    </tr>\n",
       "  </tbody>\n",
       "</table>\n",
       "<p>5 rows × 55 columns</p>\n",
       "</div>"
      ],
      "text/plain": [
       "page     /badminton     /frisbi  /gorodki-v-arendu  /instagram   /kontakty  \\\n",
       "seasons                                                                      \n",
       "autumn        320.0  364.285714         522.058824  228.155340  162.414966   \n",
       "spring          0.0    0.000000           0.000000   77.669903  124.149660   \n",
       "summer        640.0  421.428571         345.588235  368.932039  278.061224   \n",
       "winter          0.0  200.000000          95.588235  169.902913  173.469388   \n",
       "wo_man          0.0    0.000000           0.000000  155.339806  196.428571   \n",
       "\n",
       "page        /kto-my  /nastolnyj-basketbol  /nintendo-wii  /odnorukij-bandit  \\\n",
       "seasons                                                                       \n",
       "autumn    65.217391            360.824742     132.315522         146.341463   \n",
       "spring     0.000000              0.000000     137.404580           0.000000   \n",
       "summer   347.826087            463.917526     203.562341         512.195122   \n",
       "winter   434.782609            134.020619     216.284987         146.341463   \n",
       "wo_man    21.739130              0.000000     256.997455           0.000000   \n",
       "\n",
       "page     /sony-playstation  ...  /сахарная-вата-аренда  /симулятор-сноуборда  \\\n",
       "seasons                     ...                                                \n",
       "autumn          206.984668  ...              85.467706            176.682692   \n",
       "spring          135.860307  ...             143.095768            104.567308   \n",
       "summer          266.893810  ...             354.955457            230.769231   \n",
       "winter          200.738217  ...             169.821826            223.557692   \n",
       "wo_man          146.081772  ...             121.380846            176.682692   \n",
       "\n",
       "page     /спортивные-аттракционы  /способы-оплаты  /столы-blackjack  \\\n",
       "seasons                                                               \n",
       "autumn                104.240283       153.846154        164.218959   \n",
       "spring                132.508834       143.356643         85.447263   \n",
       "summer                229.681979       223.776224        200.267023   \n",
       "winter                 86.572438       171.328671        293.724967   \n",
       "wo_man                 88.339223       270.979021        184.245661   \n",
       "\n",
       "page     /столы-армрестлинг  /столы-для-покера  /тараканьи-бега  \\\n",
       "seasons                                                           \n",
       "autumn           168.756027         172.666900       138.261851   \n",
       "spring           113.789778          97.168822       116.817156   \n",
       "summer           217.936355         187.696610       194.695260   \n",
       "winter           128.254581         184.550856       136.004515   \n",
       "wo_man           225.650916         173.365956       178.893905   \n",
       "\n",
       "page     /техасский-холдем  /шахматы-шашки-нарды  \n",
       "seasons                                           \n",
       "autumn          194.366197            222.413793  \n",
       "spring           64.788732             93.103448  \n",
       "summer          225.352113            274.137931  \n",
       "winter          301.408451            203.448276  \n",
       "wo_man          149.295775            148.275862  \n",
       "\n",
       "[5 rows x 55 columns]"
      ]
     },
     "execution_count": 272,
     "metadata": {},
     "output_type": "execute_result"
    }
   ],
   "source": [
    "heat = sepage.pivot_table(\n",
    "                        index='seasons', \n",
    "                        columns='page', \n",
    "                        values='shows', \n",
    "                        aggfunc=sum).fillna(0).applymap(float)\n",
    "heat"
   ]
  },
  {
   "cell_type": "code",
   "execution_count": 273,
   "metadata": {},
   "outputs": [
    {
     "data": {
      "text/plain": [
       "<matplotlib.axes._subplots.AxesSubplot at 0x2809a1e6b48>"
      ]
     },
     "execution_count": 273,
     "metadata": {},
     "output_type": "execute_result"
    },
    {
     "data": {
      "image/png": "[encoded data removed]",
      "text/plain": [
       "<Figure size 1152x648 with 2 Axes>"
      ]
     },
     "metadata": {
      "needs_background": "light"
     },
     "output_type": "display_data"
    }
   ],
   "source": [
    "sns.heatmap(heat, linewidths=0.5)"
   ]
  },
  {
   "cell_type": "markdown",
   "metadata": {},
   "source": [
    "# Выводы\n",
    "\n",
    "Вот по этой карте уже можно делать выводы о сезонной популярности аттракционов, строить из этого стратегию по рекламе, а также выстраивать ценовую политику"
   ]
  },
  {
   "cell_type": "markdown",
   "metadata": {},
   "source": [
    "# Гипотеза 5\n",
    "\n",
    "И последняя гипотеза, которую интересно рассмотреть, это какие аттракционы просматривают вместе, чтобы на основе этого составить рекомендации"
   ]
  },
  {
   "cell_type": "markdown",
   "metadata": {},
   "source": [
    "Это не такая уж трививальная задача, так как нужно учитывать не только прямые переходы, но цепочки переходов"
   ]
  },
  {
   "cell_type": "code",
   "execution_count": 291,
   "metadata": {},
   "outputs": [],
   "source": [
    "hits['ref_page'] = hits['Referer'].apply(get_pages)\n",
    "hits['ref_page'] = hits['ref_page'].apply(replace_pages) \n",
    "hits['ref_page'] = hits['ref_page'].apply(split_pages)\n",
    "relations = hits[(hits['ref_page'].isin(pc)) & (hits['page'].isin(pc))][['ref_page', 'page', 'ClientID', '`Date`']]"
   ]
  },
  {
   "cell_type": "markdown",
   "metadata": {},
   "source": [
    "Для поиска цепочек перехода будем использовать CLientID"
   ]
  },
  {
   "cell_type": "code",
   "execution_count": 296,
   "metadata": {},
   "outputs": [],
   "source": [
    "relations.sort_values(['ClientID', '`Date`'], inplace = True)"
   ]
  },
  {
   "cell_type": "code",
   "execution_count": 313,
   "metadata": {},
   "outputs": [
    {
     "data": {
      "text/html": [
       "<div>\n",
       "<style scoped>\n",
       "    .dataframe tbody tr th:only-of-type {\n",
       "        vertical-align: middle;\n",
       "    }\n",
       "\n",
       "    .dataframe tbody tr th {\n",
       "        vertical-align: top;\n",
       "    }\n",
       "\n",
       "    .dataframe thead th {\n",
       "        text-align: right;\n",
       "    }\n",
       "</style>\n",
       "<table border=\"1\" class=\"dataframe\">\n",
       "  <thead>\n",
       "    <tr style=\"text-align: right;\">\n",
       "      <th></th>\n",
       "      <th>ClientID</th>\n",
       "      <th>min</th>\n",
       "      <th>max</th>\n",
       "    </tr>\n",
       "  </thead>\n",
       "  <tbody>\n",
       "    <tr>\n",
       "      <td>18</td>\n",
       "      <td>15114336716236063</td>\n",
       "      <td>2017-11-23</td>\n",
       "      <td>2017-12-04</td>\n",
       "    </tr>\n",
       "    <tr>\n",
       "      <td>25</td>\n",
       "      <td>15279731443604487</td>\n",
       "      <td>2018-06-02</td>\n",
       "      <td>2018-06-03</td>\n",
       "    </tr>\n",
       "    <tr>\n",
       "      <td>36</td>\n",
       "      <td>15559247764072885</td>\n",
       "      <td>2019-04-22</td>\n",
       "      <td>2019-04-24</td>\n",
       "    </tr>\n",
       "    <tr>\n",
       "      <td>39</td>\n",
       "      <td>15644888165839339</td>\n",
       "      <td>2019-07-30</td>\n",
       "      <td>2019-09-03</td>\n",
       "    </tr>\n",
       "    <tr>\n",
       "      <td>41</td>\n",
       "      <td>15703032037556018</td>\n",
       "      <td>2019-10-05</td>\n",
       "      <td>2019-10-06</td>\n",
       "    </tr>\n",
       "  </tbody>\n",
       "</table>\n",
       "</div>"
      ],
      "text/plain": [
       "             ClientID         min         max\n",
       "18  15114336716236063  2017-11-23  2017-12-04\n",
       "25  15279731443604487  2018-06-02  2018-06-03\n",
       "36  15559247764072885  2019-04-22  2019-04-24\n",
       "39  15644888165839339  2019-07-30  2019-09-03\n",
       "41  15703032037556018  2019-10-05  2019-10-06"
      ]
     },
     "execution_count": 313,
     "metadata": {},
     "output_type": "execute_result"
    }
   ],
   "source": [
    "#Я хочу проверить если клиент вернется через долгое время, то метрика будет его под тем же ID считать или нет \n",
    "check = relations.groupby('ClientID').agg({'`Date`' : ['min', 'max']}).reset_index()\n",
    "check.columns = ['ClientID', 'min', 'max']\n",
    "check[check['min'] != check['max']].head()"
   ]
  },
  {
   "cell_type": "markdown",
   "metadata": {},
   "source": [
    "Ответ положительный, значит придется еще разделять визиты от одного клиента (разница в датах должна быть не больше 1го дня)"
   ]
  },
  {
   "cell_type": "code",
   "execution_count": 318,
   "metadata": {},
   "outputs": [],
   "source": [
    "page_numbers = {} #надо присвоить каждой странице порядковый номер, чтобы проще было задать матрицу связи между страницами\n",
    "pnum = 0\n",
    "\n",
    "for key in pc.keys():\n",
    "    page_numbers[key] = pnum\n",
    "    pnum += 1"
   ]
  },
  {
   "cell_type": "code",
   "execution_count": 385,
   "metadata": {},
   "outputs": [
    {
     "data": {
      "text/html": [
       "<div>\n",
       "<style scoped>\n",
       "    .dataframe tbody tr th:only-of-type {\n",
       "        vertical-align: middle;\n",
       "    }\n",
       "\n",
       "    .dataframe tbody tr th {\n",
       "        vertical-align: top;\n",
       "    }\n",
       "\n",
       "    .dataframe thead th {\n",
       "        text-align: right;\n",
       "    }\n",
       "</style>\n",
       "<table border=\"1\" class=\"dataframe\">\n",
       "  <thead>\n",
       "    <tr style=\"text-align: right;\">\n",
       "      <th></th>\n",
       "      <th>ref_page</th>\n",
       "      <th>page</th>\n",
       "      <th>ClientID</th>\n",
       "      <th>`DateTime`</th>\n",
       "    </tr>\n",
       "  </thead>\n",
       "  <tbody>\n",
       "    <tr>\n",
       "      <td>77530</td>\n",
       "      <td>/аренда-электромобили</td>\n",
       "      <td>/kontakty</td>\n",
       "      <td>1496918615353240</td>\n",
       "      <td>2017-06-08 16:43:20</td>\n",
       "    </tr>\n",
       "    <tr>\n",
       "      <td>102972</td>\n",
       "      <td>/аренда-электромобили</td>\n",
       "      <td>/kontakty</td>\n",
       "      <td>1496918615353240</td>\n",
       "      <td>2017-06-08 16:43:20</td>\n",
       "    </tr>\n",
       "    <tr>\n",
       "      <td>142948</td>\n",
       "      <td>/колесо-фортуны</td>\n",
       "      <td>/столы-blackjack</td>\n",
       "      <td>1509302583441423</td>\n",
       "      <td>2017-10-30 00:44:34</td>\n",
       "    </tr>\n",
       "    <tr>\n",
       "      <td>62768</td>\n",
       "      <td>/летающие-деньги</td>\n",
       "      <td>/колесо-фортуны</td>\n",
       "      <td>1538250253764637</td>\n",
       "      <td>2018-09-30 01:46:17</td>\n",
       "    </tr>\n",
       "    <tr>\n",
       "      <td>62769</td>\n",
       "      <td>/летающие-деньги</td>\n",
       "      <td>/аренда-рулетки</td>\n",
       "      <td>1538250253764637</td>\n",
       "      <td>2018-09-30 01:46:26</td>\n",
       "    </tr>\n",
       "  </tbody>\n",
       "</table>\n",
       "</div>"
      ],
      "text/plain": [
       "                     ref_page              page          ClientID  \\\n",
       "77530   /аренда-электромобили         /kontakty  1496918615353240   \n",
       "102972  /аренда-электромобили         /kontakty  1496918615353240   \n",
       "142948        /колесо-фортуны  /столы-blackjack  1509302583441423   \n",
       "62768        /летающие-деньги   /колесо-фортуны  1538250253764637   \n",
       "62769        /летающие-деньги   /аренда-рулетки  1538250253764637   \n",
       "\n",
       "                 `DateTime`  \n",
       "77530   2017-06-08 16:43:20  \n",
       "102972  2017-06-08 16:43:20  \n",
       "142948  2017-10-30 00:44:34  \n",
       "62768   2018-09-30 01:46:17  \n",
       "62769   2018-09-30 01:46:26  "
      ]
     },
     "execution_count": 385,
     "metadata": {},
     "output_type": "execute_result"
    }
   ],
   "source": [
    "relations = hits[(hits['ref_page'].isin(pc)) & (hits['page'].isin(pc))][['ref_page', 'page', 'ClientID', '`DateTime`']] \n",
    "relations.sort_values(['ClientID', '`DateTime`'], inplace = True) #мне все-таки понадобится время для того, чтобы правильно отсортировалась последовательность визита\n",
    "relations.head()"
   ]
  },
  {
   "cell_type": "code",
   "execution_count": 322,
   "metadata": {},
   "outputs": [],
   "source": [
    "import numpy as np"
   ]
  },
  {
   "cell_type": "code",
   "execution_count": 352,
   "metadata": {},
   "outputs": [
    {
     "data": {
      "text/plain": [
       "array([[794., 155., 356., ...,   9.,   5.,   3.],\n",
       "       [155., 514., 158., ...,   9.,   4.,   0.],\n",
       "       [356., 158., 628., ...,  13.,   4.,  29.],\n",
       "       ...,\n",
       "       [  9.,   9.,  13., ...,   8.,   2.,   0.],\n",
       "       [  5.,   4.,   4., ...,   2.,   2.,   2.],\n",
       "       [  3.,   0.,  29., ...,   0.,   2.,   2.]])"
      ]
     },
     "execution_count": 352,
     "metadata": {},
     "output_type": "execute_result"
    }
   ],
   "source": [
    "last_client = ''\n",
    "last_date = ''\n",
    "links = []\n",
    "\n",
    "rel = np.zeros((len(page_numbers), len(page_numbers)))\n",
    "\n",
    "def calc_relations(row, both = True):\n",
    "    global last_client, last_date, links, rel\n",
    "    \n",
    "    '''\n",
    "        both means that it is not important which page is Referer, relation will be +1 for both\n",
    "    '''\n",
    "    \n",
    "    date = row['`DateTime`']\n",
    "    date = dt.strptime(date, '%Y-%m-%d %H:%M:%S')\n",
    "    \n",
    "    ref = page_numbers[row['ref_page']]\n",
    "    page = page_numbers[row['page']]\n",
    "    \n",
    "    # Начало новой цепочки\n",
    "    if last_client == '' or row['ClientID'] != last_client or (date - last_date).days > 1 :\n",
    "        last_client = row['ClientID']\n",
    "        last_date = date\n",
    "        links = [ ref, page ]\n",
    "        rel[page][ref] += 1\n",
    "        if both : rel[ref][page] += 1\n",
    "    else :\n",
    "        if links[-1] != ref : links.append(ref) #На случай если каким то образом в цепочке произошел разрыв, когда было 1-2-3 (ТЫ ГДЕ БЫЛ?) 5-6\n",
    "        \n",
    "        for r in links: #Проходим по всей цепочки и считаем все страницы связанными\n",
    "            rel[page][r] += 1\n",
    "            if both : rel[r][page] += 1\n",
    "                \n",
    "relations.apply(calc_relations, axis = 1)\n",
    "rel"
   ]
  },
  {
   "cell_type": "code",
   "execution_count": 358,
   "metadata": {},
   "outputs": [],
   "source": [
    "rel[np.diag_indices_from(rel)] = 0 #Сбросим диагональные значения, чтобы они не мещали восприятию\n",
    "\n",
    "#Теперь сделаем карту более понятной на слабопросматриваемых страницах\n",
    "pn = {v:k for k, v in page_numbers.items()} #Ревертим словарь номеров страниц\n",
    "\n",
    "for x in rel:\n",
    "    for j in range(len(x)-1):\n",
    "        x[j] = 1000 * x[j] / pshow[pn[j]]"
   ]
  },
  {
   "cell_type": "code",
   "execution_count": 357,
   "metadata": {},
   "outputs": [
    {
     "data": {
      "text/plain": [
       "{'/аренда-радио-машинок': 0,\n",
       " '/sony-playstation': 1,\n",
       " '/аттракцион-angry-birds': 2,\n",
       " '/сахарная-вата-аренда': 3,\n",
       " '/аренда-электромобили': 4,\n",
       " '/настольный-футбол': 5,\n",
       " '/столы-для-покера': 6,\n",
       " '/аренда-аэрохоккея': 7,\n",
       " '/аренда-попкорн': 8,\n",
       " '/аренда-лототрона': 9,\n",
       " '/колесо-фортуны': 10,\n",
       " '/аренда-казино': 11,\n",
       " '/аренда-мини-гольфа': 12,\n",
       " '/аренда-рулетки': 13,\n",
       " '/летающие-деньги': 14,\n",
       " '/тараканьи-бега': 15,\n",
       " '/аренда-лазерный-тир': 16,\n",
       " '/гоночный-симулятор': 17,\n",
       " '/развлекательные-аттракционы': 18,\n",
       " '/аренда-xbox360': 19,\n",
       " '/kontakty': 20,\n",
       " '/столы-армрестлинг': 21,\n",
       " '/настольный-теннис': 22,\n",
       " '/аренда-дартс': 23,\n",
       " '/симулятор-сноуборда': 24,\n",
       " '/аренда-бампербола': 25,\n",
       " '/столы-blackjack': 26,\n",
       " '/аренда-крокета': 27,\n",
       " '/доставка-аттракционов': 28,\n",
       " '/аренда-столов-крэпс': 29,\n",
       " '/аренда-аттракционов': 30,\n",
       " '/шахматы-шашки-нарды': 31,\n",
       " '/способы-оплаты': 32,\n",
       " '/спортивные-аттракционы': 33,\n",
       " '/предложение-агентствам': 34,\n",
       " '/дженга': 35,\n",
       " '/командные-лыжи': 36,\n",
       " '/аттракцион-сумо': 37,\n",
       " '/nintendo-wii': 38,\n",
       " '/настольные-аттракционы': 39,\n",
       " '/очки-виртуальной-реальности': 40,\n",
       " '/радиоуправляемые-танки': 41,\n",
       " '/техасский-холдем': 42,\n",
       " '/аттракцион-гусеница': 43,\n",
       " '/instagram': 44,\n",
       " '/пневматические-пистолеты': 45,\n",
       " '/nastolnyj-basketbol': 46,\n",
       " '/луки-и-арбалеты': 47,\n",
       " '/рогатки': 48,\n",
       " '/frisbi': 49,\n",
       " '/gorodki-v-arendu': 50,\n",
       " '/youtube': 51,\n",
       " '/kto-my': 52,\n",
       " '/odnorukij-bandit': 53,\n",
       " '/badminton': 54}"
      ]
     },
     "execution_count": 357,
     "metadata": {},
     "output_type": "execute_result"
    }
   ],
   "source": [
    "page_numbers"
   ]
  },
  {
   "cell_type": "code",
   "execution_count": 354,
   "metadata": {},
   "outputs": [
    {
     "data": {
      "text/plain": [
       "<matplotlib.axes._subplots.AxesSubplot at 0x280892154c8>"
      ]
     },
     "execution_count": 354,
     "metadata": {},
     "output_type": "execute_result"
    },
    {
     "data": {
      "image/png": "[encoded data removed]",
      "text/plain": [
       "<Figure size 1152x648 with 2 Axes>"
      ]
     },
     "metadata": {
      "needs_background": "light"
     },
     "output_type": "display_data"
    }
   ],
   "source": [
    "sns.heatmap(rel, linewidths=0.5)"
   ]
  },
  {
   "cell_type": "markdown",
   "metadata": {},
   "source": [
    "Без нормализации тепловая карта была бы симметричная, что-то мне подсказывает, что если выключить режим учета связей в обе стороны, картина будет интереснее"
   ]
  },
  {
   "cell_type": "code",
   "execution_count": 360,
   "metadata": {},
   "outputs": [
    {
     "data": {
      "text/plain": [
       "array([[397.,  86., 170., ...,   4.,   4.,   3.],\n",
       "       [ 69., 257.,  58., ...,   1.,   1.,   0.],\n",
       "       [186., 100., 314., ...,   4.,   1.,   4.],\n",
       "       ...,\n",
       "       [  5.,   8.,   9., ...,   4.,   1.,   0.],\n",
       "       [  1.,   3.,   3., ...,   1.,   1.,   0.],\n",
       "       [  0.,   0.,  25., ...,   0.,   2.,   1.]])"
      ]
     },
     "execution_count": 360,
     "metadata": {},
     "output_type": "execute_result"
    }
   ],
   "source": [
    "last_client = ''\n",
    "last_date = ''\n",
    "links = []\n",
    "\n",
    "rel = np.zeros((len(page_numbers), len(page_numbers)))\n",
    "\n",
    "relations.apply((lambda x: calc_relations(x, both = False)), axis = 1)\n",
    "rel"
   ]
  },
  {
   "cell_type": "code",
   "execution_count": 361,
   "metadata": {},
   "outputs": [],
   "source": [
    "rel[np.diag_indices_from(rel)] = 0 #Сбросим диагональные значения, чтобы они не мещали восприятию\n",
    "\n",
    "#Теперь сделаем карту более понятной на слабопросматриваемых страницах\n",
    "pn = {v:k for k, v in page_numbers.items()} #Ревертим словарь номеров страниц\n",
    "\n",
    "for x in rel:\n",
    "    for j in range(len(x)-1):\n",
    "        x[j] = 1000 * x[j] / pshow[pn[j]]"
   ]
  },
  {
   "cell_type": "code",
   "execution_count": 371,
   "metadata": {},
   "outputs": [
    {
     "data": {
      "text/plain": [
       "<matplotlib.axes._subplots.AxesSubplot at 0x2809e855ec8>"
      ]
     },
     "execution_count": 371,
     "metadata": {},
     "output_type": "execute_result"
    },
    {
     "data": {
      "image/png": "[encoded data removed]",
      "text/plain": [
       "<Figure size 1152x648 with 2 Axes>"
      ]
     },
     "metadata": {
      "needs_background": "light"
     },
     "output_type": "display_data"
    }
   ],
   "source": [
    "sns.heatmap(rel, linewidths=0.5)"
   ]
  },
  {
   "cell_type": "markdown",
   "metadata": {},
   "source": [
    "# Выводы\n",
    "\n",
    "Отличная тепловая карта, которая поможет сделать блок рекомендации на каждом аттракционе максимально кликабельным, лучше просматривать построчно, чтобы видить относительно слабые взаимосвязи лучше. Спасибо за внимание! Дальше я сам :)"
   ]
  },
  {
   "cell_type": "code",
   "execution_count": 381,
   "metadata": {},
   "outputs": [
    {
     "data": {
      "text/plain": [
       "<matplotlib.axes._subplots.AxesSubplot at 0x2809d3e87c8>"
      ]
     },
     "execution_count": 381,
     "metadata": {},
     "output_type": "execute_result"
    },
    {
     "data": {
      "image/png": "[encoded data removed]",
      "text/plain": [
       "<Figure size 1152x648 with 2 Axes>"
      ]
     },
     "metadata": {
      "needs_background": "light"
     },
     "output_type": "display_data"
    }
   ],
   "source": [
    "sns.heatmap(rel[:5], linewidths=0.5) #по y страница на которой нужно разместить страницу с x в рекомендацию"
   ]
  },
  {
   "cell_type": "code",
   "execution_count": 384,
   "metadata": {},
   "outputs": [
    {
     "data": {
      "text/plain": [
       "<matplotlib.axes._subplots.AxesSubplot at 0x280a3a7ec08>"
      ]
     },
     "execution_count": 384,
     "metadata": {},
     "output_type": "execute_result"
    },
    {
     "data": {
      "image/png": "[encoded data removed]",
      "text/plain": [
       "<Figure size 1152x648 with 2 Axes>"
      ]
     },
     "metadata": {
      "needs_background": "light"
     },
     "output_type": "display_data"
    }
   ],
   "source": [
    "sns.heatmap(rel[20:34], linewidths=0.5)"
   ]
  }
 ],
 "metadata": {
  "kernelspec": {
   "display_name": "Python 3",
   "language": "python",
   "name": "python3"
  },
  "language_info": {
   "codemirror_mode": {
    "name": "ipython",
    "version": 3
   },
   "file_extension": ".py",
   "mimetype": "text/x-python",
   "name": "python",
   "nbconvert_exporter": "python",
   "pygments_lexer": "ipython3",
   "version": "3.7.4"
  }
 },
 "nbformat": 4,
 "nbformat_minor": 2
}
